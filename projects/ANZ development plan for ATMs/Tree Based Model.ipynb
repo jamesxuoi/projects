{
 "cells": [
  {
   "cell_type": "code",
   "execution_count": 44,
   "metadata": {},
   "outputs": [],
   "source": [
    "import os, math, subprocess\n",
    "import datetime as dt\n",
    "\n",
    "#data wrangling\n",
    "import numpy as np\n",
    "import pandas as pd\n",
    "\n",
    "#visualization\n",
    "import seaborn as sns\n",
    "import matplotlib.pyplot as plt\n",
    "\n",
    "#excel library\n",
    "import xlrd\n",
    "\n",
    "#importing Statsmodels\n",
    "import statsmodels.api as sm\n",
    "from statsmodels.tools.eval_measures import rmse\n",
    "from scipy.stats import chisquare\n",
    "#Scikitlearn libraries\n",
    "%matplotlib inline\n",
    "from sklearn.model_selection import train_test_split\n",
    "from sklearn.linear_model import LinearRegression\n",
    "from sklearn.feature_selection import RFE, chi2\n",
    "from sklearn.linear_model import RidgeCV, LassoCV, Ridge, Lasso\n",
    "from sklearn.metrics import mean_squared_error, r2_score, accuracy_score\n",
    "from yellowbrick.regressor import ResidualsPlot, PredictionError, AlphaSelection\n",
    "#decision tree\n",
    "from sklearn.tree import DecisionTreeClassifier # Import Decision Tree Classifier\n",
    "from sklearn.tree import DecisionTreeRegressor, export_graphviz\n",
    "from sklearn import metrics #Import scikit-learn metrics module for accuracy calculation\n",
    "from sklearn import tree\n",
    "#decision tree regressor visualize\n",
    "from sklearn.externals.six import StringIO\n",
    "from IPython.display import Image\n",
    "import pydotplus\n"
   ]
  },
  {
   "cell_type": "code",
   "execution_count": 45,
   "metadata": {},
   "outputs": [
    {
     "data": {
      "text/html": [
       "<div>\n",
       "<style scoped>\n",
       "    .dataframe tbody tr th:only-of-type {\n",
       "        vertical-align: middle;\n",
       "    }\n",
       "\n",
       "    .dataframe tbody tr th {\n",
       "        vertical-align: top;\n",
       "    }\n",
       "\n",
       "    .dataframe thead th {\n",
       "        text-align: right;\n",
       "    }\n",
       "</style>\n",
       "<table border=\"1\" class=\"dataframe\">\n",
       "  <thead>\n",
       "    <tr style=\"text-align: right;\">\n",
       "      <th></th>\n",
       "      <th>payment_count</th>\n",
       "      <th>payment_sum</th>\n",
       "      <th>avg_income_past_3_months</th>\n",
       "      <th>annual_salary_after_tax</th>\n",
       "      <th>weekly_income</th>\n",
       "      <th>weekly_tax_withholding</th>\n",
       "      <th>annual_salary</th>\n",
       "    </tr>\n",
       "  </thead>\n",
       "  <tbody>\n",
       "    <tr>\n",
       "      <th>count</th>\n",
       "      <td>100.000000</td>\n",
       "      <td>100.000000</td>\n",
       "      <td>100.00000</td>\n",
       "      <td>100.0000</td>\n",
       "      <td>100.000000</td>\n",
       "      <td>100.000000</td>\n",
       "      <td>100.000000</td>\n",
       "    </tr>\n",
       "    <tr>\n",
       "      <th>mean</th>\n",
       "      <td>8.830000</td>\n",
       "      <td>16765.768500</td>\n",
       "      <td>2297.27390</td>\n",
       "      <td>61704.7700</td>\n",
       "      <td>1188.300000</td>\n",
       "      <td>376.298976</td>\n",
       "      <td>80902.360000</td>\n",
       "    </tr>\n",
       "    <tr>\n",
       "      <th>std</th>\n",
       "      <td>3.651636</td>\n",
       "      <td>6741.543716</td>\n",
       "      <td>1397.78397</td>\n",
       "      <td>29016.8551</td>\n",
       "      <td>557.617473</td>\n",
       "      <td>199.761215</td>\n",
       "      <td>39932.764812</td>\n",
       "    </tr>\n",
       "    <tr>\n",
       "      <th>min</th>\n",
       "      <td>2.000000</td>\n",
       "      <td>7155.960000</td>\n",
       "      <td>576.00000</td>\n",
       "      <td>2385.0000</td>\n",
       "      <td>46.990000</td>\n",
       "      <td>8.738100</td>\n",
       "      <td>2420.000000</td>\n",
       "    </tr>\n",
       "    <tr>\n",
       "      <th>25%</th>\n",
       "      <td>6.000000</td>\n",
       "      <td>11591.332500</td>\n",
       "      <td>1153.31000</td>\n",
       "      <td>45495.5000</td>\n",
       "      <td>879.990000</td>\n",
       "      <td>261.724923</td>\n",
       "      <td>59246.250000</td>\n",
       "    </tr>\n",
       "    <tr>\n",
       "      <th>50%</th>\n",
       "      <td>7.000000</td>\n",
       "      <td>14813.485000</td>\n",
       "      <td>1949.43000</td>\n",
       "      <td>57435.5000</td>\n",
       "      <td>1105.490000</td>\n",
       "      <td>339.662950</td>\n",
       "      <td>75131.500000</td>\n",
       "    </tr>\n",
       "    <tr>\n",
       "      <th>75%</th>\n",
       "      <td>13.000000</td>\n",
       "      <td>21332.515000</td>\n",
       "      <td>2886.72500</td>\n",
       "      <td>80170.0000</td>\n",
       "      <td>1542.990000</td>\n",
       "      <td>497.900400</td>\n",
       "      <td>106071.000000</td>\n",
       "    </tr>\n",
       "    <tr>\n",
       "      <th>max</th>\n",
       "      <td>14.000000</td>\n",
       "      <td>35343.920000</td>\n",
       "      <td>8835.98000</td>\n",
       "      <td>134577.0000</td>\n",
       "      <td>2588.990000</td>\n",
       "      <td>905.840400</td>\n",
       "      <td>181731.000000</td>\n",
       "    </tr>\n",
       "  </tbody>\n",
       "</table>\n",
       "</div>"
      ],
      "text/plain": [
       "       payment_count   payment_sum  avg_income_past_3_months  \\\n",
       "count     100.000000    100.000000                 100.00000   \n",
       "mean        8.830000  16765.768500                2297.27390   \n",
       "std         3.651636   6741.543716                1397.78397   \n",
       "min         2.000000   7155.960000                 576.00000   \n",
       "25%         6.000000  11591.332500                1153.31000   \n",
       "50%         7.000000  14813.485000                1949.43000   \n",
       "75%        13.000000  21332.515000                2886.72500   \n",
       "max        14.000000  35343.920000                8835.98000   \n",
       "\n",
       "       annual_salary_after_tax  weekly_income  weekly_tax_withholding  \\\n",
       "count                 100.0000     100.000000              100.000000   \n",
       "mean                61704.7700    1188.300000              376.298976   \n",
       "std                 29016.8551     557.617473              199.761215   \n",
       "min                  2385.0000      46.990000                8.738100   \n",
       "25%                 45495.5000     879.990000              261.724923   \n",
       "50%                 57435.5000    1105.490000              339.662950   \n",
       "75%                 80170.0000    1542.990000              497.900400   \n",
       "max                134577.0000    2588.990000              905.840400   \n",
       "\n",
       "       annual_salary  \n",
       "count     100.000000  \n",
       "mean    80902.360000  \n",
       "std     39932.764812  \n",
       "min      2420.000000  \n",
       "25%     59246.250000  \n",
       "50%     75131.500000  \n",
       "75%    106071.000000  \n",
       "max    181731.000000  "
      ]
     },
     "execution_count": 45,
     "metadata": {},
     "output_type": "execute_result"
    }
   ],
   "source": [
    "#Loading data\n",
    "salary = pd.read_excel('salary features.xlsx')\n",
    "salary.describe()"
   ]
  },
  {
   "cell_type": "code",
   "execution_count": 46,
   "metadata": {},
   "outputs": [
    {
     "data": {
      "text/html": [
       "<div>\n",
       "<style scoped>\n",
       "    .dataframe tbody tr th:only-of-type {\n",
       "        vertical-align: middle;\n",
       "    }\n",
       "\n",
       "    .dataframe tbody tr th {\n",
       "        vertical-align: top;\n",
       "    }\n",
       "\n",
       "    .dataframe thead th {\n",
       "        text-align: right;\n",
       "    }\n",
       "</style>\n",
       "<table border=\"1\" class=\"dataframe\">\n",
       "  <thead>\n",
       "    <tr style=\"text-align: right;\">\n",
       "      <th></th>\n",
       "      <th>payment_count</th>\n",
       "      <th>payment_sum</th>\n",
       "      <th>avg_income_past_3_months</th>\n",
       "      <th>annual_salary_after_tax</th>\n",
       "      <th>weekly_income</th>\n",
       "      <th>weekly_tax_withholding</th>\n",
       "      <th>annual_salary</th>\n",
       "    </tr>\n",
       "  </thead>\n",
       "  <tbody>\n",
       "    <tr>\n",
       "      <th>0</th>\n",
       "      <td>13</td>\n",
       "      <td>33644.13</td>\n",
       "      <td>2588.01</td>\n",
       "      <td>134577</td>\n",
       "      <td>2588.99</td>\n",
       "      <td>905.8404</td>\n",
       "      <td>181731</td>\n",
       "    </tr>\n",
       "    <tr>\n",
       "      <th>1</th>\n",
       "      <td>13</td>\n",
       "      <td>33081.88</td>\n",
       "      <td>2544.76</td>\n",
       "      <td>132328</td>\n",
       "      <td>2545.99</td>\n",
       "      <td>889.0704</td>\n",
       "      <td>178623</td>\n",
       "    </tr>\n",
       "    <tr>\n",
       "      <th>2</th>\n",
       "      <td>13</td>\n",
       "      <td>31762.12</td>\n",
       "      <td>2443.24</td>\n",
       "      <td>127048</td>\n",
       "      <td>2443.99</td>\n",
       "      <td>849.2904</td>\n",
       "      <td>171251</td>\n",
       "    </tr>\n",
       "    <tr>\n",
       "      <th>3</th>\n",
       "      <td>13</td>\n",
       "      <td>29644.68</td>\n",
       "      <td>2280.36</td>\n",
       "      <td>118579</td>\n",
       "      <td>2280.99</td>\n",
       "      <td>785.7204</td>\n",
       "      <td>159469</td>\n",
       "    </tr>\n",
       "    <tr>\n",
       "      <th>4</th>\n",
       "      <td>7</td>\n",
       "      <td>30837.10</td>\n",
       "      <td>4405.30</td>\n",
       "      <td>114538</td>\n",
       "      <td>2203.99</td>\n",
       "      <td>755.6904</td>\n",
       "      <td>153834</td>\n",
       "    </tr>\n",
       "  </tbody>\n",
       "</table>\n",
       "</div>"
      ],
      "text/plain": [
       "   payment_count  payment_sum  avg_income_past_3_months  \\\n",
       "0             13     33644.13                   2588.01   \n",
       "1             13     33081.88                   2544.76   \n",
       "2             13     31762.12                   2443.24   \n",
       "3             13     29644.68                   2280.36   \n",
       "4              7     30837.10                   4405.30   \n",
       "\n",
       "   annual_salary_after_tax  weekly_income  weekly_tax_withholding  \\\n",
       "0                   134577        2588.99                905.8404   \n",
       "1                   132328        2545.99                889.0704   \n",
       "2                   127048        2443.99                849.2904   \n",
       "3                   118579        2280.99                785.7204   \n",
       "4                   114538        2203.99                755.6904   \n",
       "\n",
       "   annual_salary  \n",
       "0         181731  \n",
       "1         178623  \n",
       "2         171251  \n",
       "3         159469  \n",
       "4         153834  "
      ]
     },
     "execution_count": 46,
     "metadata": {},
     "output_type": "execute_result"
    }
   ],
   "source": [
    "#Choose variables for input:\n",
    "predict = salary\n",
    "predict = predict.drop('customer_id',1)\n",
    "predict = predict.drop('first_name',1)\n",
    "predict = predict.drop('txn_description',1)\n",
    "predict = predict.drop('payment_type',1)\n",
    "predict.head()\n",
    "#Features are 'date','payment_count','payment_sum','avg_income_past_3_months', 'annual_salary_after_tax', 'weekly_income', 'weekly_tax_withholding'"
   ]
  },
  {
   "cell_type": "code",
   "execution_count": 47,
   "metadata": {},
   "outputs": [
    {
     "name": "stdout",
     "output_type": "stream",
     "text": [
      "X training set: (80, 6) Y training set: (80,)\n",
      "X testing set: (20, 6) Y testing set: (20,)\n"
     ]
    }
   ],
   "source": [
    "X = predict.drop('annual_salary',1)   #Feature Matrix\n",
    "y = predict['annual_salary']          #Target Variable\n",
    "# create training and testing vars\n",
    "X_train, X_test, y_train, y_test = train_test_split(X, y, test_size=0.2, random_state = 100)\n",
    "print ('X training set:', X_train.shape,'Y training set:', y_train.shape)\n",
    "print ('X testing set:', X_test.shape, 'Y testing set:', y_test.shape)\n",
    "#Top: 50% training set of table contains 7 columns\n",
    "#Bottom: 50% testing set of table contains 7 columns"
   ]
  },
  {
   "cell_type": "code",
   "execution_count": 48,
   "metadata": {},
   "outputs": [
    {
     "data": {
      "text/plain": [
       "DecisionTreeRegressor(criterion='mse', max_depth=4, max_features=None,\n",
       "           max_leaf_nodes=None, min_impurity_decrease=0.0,\n",
       "           min_impurity_split=None, min_samples_leaf=1,\n",
       "           min_samples_split=2, min_weight_fraction_leaf=0.0,\n",
       "           presort=False, random_state=None, splitter='best')"
      ]
     },
     "execution_count": 48,
     "metadata": {},
     "output_type": "execute_result"
    }
   ],
   "source": [
    "# Function to perform with Entropy\n",
    "clf= DecisionTreeRegressor(max_depth=4)\n",
    "\n",
    "# Train Decision Tree Classifer\n",
    "clf.fit(X_train,y_train)"
   ]
  },
  {
   "cell_type": "code",
   "execution_count": 49,
   "metadata": {},
   "outputs": [
    {
     "data": {
      "text/plain": [
       "array([ 86475.        ,  63563.78571429,  96326.5       ,  86475.        ,\n",
       "        86475.        , 107427.        ,  86475.        ,  96326.5       ,\n",
       "        50882.16666667, 113549.8       ,  50882.16666667,  74320.9375    ,\n",
       "        22514.25      ,  63563.78571429,   3069.        ,  50882.16666667,\n",
       "        63563.78571429, 138977.6       ,  86475.        , 138977.6       ])"
      ]
     },
     "execution_count": 49,
     "metadata": {},
     "output_type": "execute_result"
    }
   ],
   "source": [
    "#Predict the response for test dataset\n",
    "y_pred = clf.predict(X_test)\n",
    "y_pred"
   ]
  },
  {
   "cell_type": "code",
   "execution_count": 50,
   "metadata": {},
   "outputs": [
    {
     "data": {
      "text/plain": [
       "array([ 86863,  67210,  98974,  84235,  90162, 105619,  87814,  91843,\n",
       "        56644, 112198,  47056,  74833,  19994,  62309,   3721,  55205,\n",
       "        60280, 146986,  84767, 135400], dtype=int64)"
      ]
     },
     "execution_count": 50,
     "metadata": {},
     "output_type": "execute_result"
    }
   ],
   "source": [
    "y_test = y_test.values\n",
    "y_test"
   ]
  },
  {
   "cell_type": "code",
   "execution_count": 51,
   "metadata": {},
   "outputs": [
    {
     "data": {
      "text/html": [
       "<div>\n",
       "<style scoped>\n",
       "    .dataframe tbody tr th:only-of-type {\n",
       "        vertical-align: middle;\n",
       "    }\n",
       "\n",
       "    .dataframe tbody tr th {\n",
       "        vertical-align: top;\n",
       "    }\n",
       "\n",
       "    .dataframe thead th {\n",
       "        text-align: right;\n",
       "    }\n",
       "</style>\n",
       "<table border=\"1\" class=\"dataframe\">\n",
       "  <thead>\n",
       "    <tr style=\"text-align: right;\">\n",
       "      <th></th>\n",
       "      <th>y_pred</th>\n",
       "      <th>y_test</th>\n",
       "    </tr>\n",
       "  </thead>\n",
       "  <tbody>\n",
       "    <tr>\n",
       "      <th>count</th>\n",
       "      <td>20.000000</td>\n",
       "      <td>20.000000</td>\n",
       "    </tr>\n",
       "    <tr>\n",
       "      <th>mean</th>\n",
       "      <td>78360.102232</td>\n",
       "      <td>78605.650000</td>\n",
       "    </tr>\n",
       "    <tr>\n",
       "      <th>std</th>\n",
       "      <td>34130.346188</td>\n",
       "      <td>34427.451114</td>\n",
       "    </tr>\n",
       "    <tr>\n",
       "      <th>min</th>\n",
       "      <td>3069.000000</td>\n",
       "      <td>3721.000000</td>\n",
       "    </tr>\n",
       "    <tr>\n",
       "      <th>25%</th>\n",
       "      <td>60393.380952</td>\n",
       "      <td>59371.000000</td>\n",
       "    </tr>\n",
       "    <tr>\n",
       "      <th>50%</th>\n",
       "      <td>86475.000000</td>\n",
       "      <td>84501.000000</td>\n",
       "    </tr>\n",
       "    <tr>\n",
       "      <th>75%</th>\n",
       "      <td>96326.500000</td>\n",
       "      <td>93625.750000</td>\n",
       "    </tr>\n",
       "    <tr>\n",
       "      <th>max</th>\n",
       "      <td>138977.600000</td>\n",
       "      <td>146986.000000</td>\n",
       "    </tr>\n",
       "  </tbody>\n",
       "</table>\n",
       "</div>"
      ],
      "text/plain": [
       "              y_pred         y_test\n",
       "count      20.000000      20.000000\n",
       "mean    78360.102232   78605.650000\n",
       "std     34130.346188   34427.451114\n",
       "min      3069.000000    3721.000000\n",
       "25%     60393.380952   59371.000000\n",
       "50%     86475.000000   84501.000000\n",
       "75%     96326.500000   93625.750000\n",
       "max    138977.600000  146986.000000"
      ]
     },
     "execution_count": 51,
     "metadata": {},
     "output_type": "execute_result"
    }
   ],
   "source": [
    "#https://blog.quantinsti.com/decision-tree/\n",
    "#https://www.datasciencecentral.com/profiles/blogs/price-optimisation-using-decision-tree-regression-tree\n",
    "df_cc = pd.DataFrame({'y_pred': y_pred, 'y_test': list(y_test)}, columns=['y_pred', 'y_test'])\n",
    "df_cc.describe()"
   ]
  },
  {
   "cell_type": "code",
   "execution_count": 68,
   "metadata": {},
   "outputs": [
    {
     "name": "stdout",
     "output_type": "stream",
     "text": [
      "Mean Absolute Error: 2850.9365773809527\n",
      "Mean Squared Error: 11591499.764993783\n",
      "Root Mean Squared Error: 3404.6291670303513\n"
     ]
    }
   ],
   "source": [
    "print('Mean Absolute Error:', metrics.mean_absolute_error(y_test, y_pred))\n",
    "#Annual Salary mean = 80902.36, our Mean Absolute Error = 2908.83 => 3.6% error => model accuracy = 96.4%\n",
    "print('Mean Squared Error:', metrics.mean_squared_error(y_test, y_pred))\n",
    "print('Root Mean Squared Error:', np.sqrt(metrics.mean_squared_error(y_test, y_pred)))"
   ]
  },
  {
   "cell_type": "code",
   "execution_count": 72,
   "metadata": {},
   "outputs": [
    {
     "name": "stdout",
     "output_type": "stream",
     "text": [
      "R-Squared on train dataset=0.9945818640585586\n",
      "R-Squaredon test dataset=0.9969253995661307\n"
     ]
    }
   ],
   "source": [
    "dtm = DecisionTreeRegressor(max_depth=4)\n",
    "\n",
    "dtm.fit(X_train,y_train)\n",
    "print(\"R-Squared on train dataset={}\".format(dtm.score(X_train,y_train)))\n",
    "\n",
    "dtm.fit(X_test,y_test)   \n",
    "print(\"R-Squaredon test dataset={}\".format(dtm.score(X_test,y_test)))"
   ]
  },
  {
   "cell_type": "code",
   "execution_count": null,
   "metadata": {},
   "outputs": [],
   "source": []
  }
 ],
 "metadata": {
  "kernelspec": {
   "display_name": "Python 3",
   "language": "python",
   "name": "python3"
  },
  "language_info": {
   "codemirror_mode": {
    "name": "ipython",
    "version": 3
   },
   "file_extension": ".py",
   "mimetype": "text/x-python",
   "name": "python",
   "nbconvert_exporter": "python",
   "pygments_lexer": "ipython3",
   "version": "3.7.3"
  }
 },
 "nbformat": 4,
 "nbformat_minor": 2
}
