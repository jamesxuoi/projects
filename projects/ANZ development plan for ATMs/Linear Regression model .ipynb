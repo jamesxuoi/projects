{
 "cells": [
  {
   "cell_type": "code",
   "execution_count": 112,
   "metadata": {},
   "outputs": [],
   "source": [
    "import os, math, subprocess\n",
    "import datetime as dt\n",
    "\n",
    "#data wrangling\n",
    "import numpy as np\n",
    "import pandas as pd\n",
    "\n",
    "#visualization\n",
    "import seaborn as sns\n",
    "import matplotlib.pyplot as plt\n",
    "\n",
    "#excel library\n",
    "import xlrd\n",
    "\n",
    "#importing Statsmodels\n",
    "import statsmodels.api as sm\n",
    "from statsmodels.tools.eval_measures import rmse\n",
    "from scipy.stats import chisquare\n",
    "#Scikitlearn libraries\n",
    "%matplotlib inline\n",
    "from sklearn.model_selection import train_test_split\n",
    "from sklearn.linear_model import LinearRegression\n",
    "from sklearn.feature_selection import RFE, chi2\n",
    "from sklearn.linear_model import RidgeCV, LassoCV, Ridge, Lasso\n",
    "from sklearn.metrics import mean_squared_error, r2_score\n",
    "from yellowbrick.regressor import ResidualsPlot, PredictionError, AlphaSelection\n"
   ]
  },
  {
   "cell_type": "code",
   "execution_count": 113,
   "metadata": {
    "scrolled": true
   },
   "outputs": [
    {
     "data": {
      "text/html": [
       "<div>\n",
       "<style scoped>\n",
       "    .dataframe tbody tr th:only-of-type {\n",
       "        vertical-align: middle;\n",
       "    }\n",
       "\n",
       "    .dataframe tbody tr th {\n",
       "        vertical-align: top;\n",
       "    }\n",
       "\n",
       "    .dataframe thead th {\n",
       "        text-align: right;\n",
       "    }\n",
       "</style>\n",
       "<table border=\"1\" class=\"dataframe\">\n",
       "  <thead>\n",
       "    <tr style=\"text-align: right;\">\n",
       "      <th></th>\n",
       "      <th>customer_id</th>\n",
       "      <th>first_name</th>\n",
       "      <th>txn_description</th>\n",
       "      <th>payment_count</th>\n",
       "      <th>payment_sum</th>\n",
       "      <th>payment_type</th>\n",
       "      <th>avg_income_past_3_months</th>\n",
       "      <th>annual_salary_after_tax</th>\n",
       "      <th>weekly_income</th>\n",
       "      <th>weekly_tax_withholding</th>\n",
       "      <th>annual_salary</th>\n",
       "    </tr>\n",
       "  </thead>\n",
       "  <tbody>\n",
       "    <tr>\n",
       "      <th>0</th>\n",
       "      <td>CUS-3142625864</td>\n",
       "      <td>Ricky</td>\n",
       "      <td>PAY/SALARY</td>\n",
       "      <td>13</td>\n",
       "      <td>33644.13</td>\n",
       "      <td>Weekly</td>\n",
       "      <td>2588.01</td>\n",
       "      <td>134577</td>\n",
       "      <td>2588.99</td>\n",
       "      <td>905.8404</td>\n",
       "      <td>181731</td>\n",
       "    </tr>\n",
       "    <tr>\n",
       "      <th>1</th>\n",
       "      <td>CUS-2738291516</td>\n",
       "      <td>Kenneth</td>\n",
       "      <td>PAY/SALARY</td>\n",
       "      <td>13</td>\n",
       "      <td>33081.88</td>\n",
       "      <td>Weekly</td>\n",
       "      <td>2544.76</td>\n",
       "      <td>132328</td>\n",
       "      <td>2545.99</td>\n",
       "      <td>889.0704</td>\n",
       "      <td>178623</td>\n",
       "    </tr>\n",
       "    <tr>\n",
       "      <th>2</th>\n",
       "      <td>CUS-2155701614</td>\n",
       "      <td>Linda</td>\n",
       "      <td>PAY/SALARY</td>\n",
       "      <td>13</td>\n",
       "      <td>31762.12</td>\n",
       "      <td>Weekly</td>\n",
       "      <td>2443.24</td>\n",
       "      <td>127048</td>\n",
       "      <td>2443.99</td>\n",
       "      <td>849.2904</td>\n",
       "      <td>171251</td>\n",
       "    </tr>\n",
       "    <tr>\n",
       "      <th>3</th>\n",
       "      <td>CUS-2031327464</td>\n",
       "      <td>Michael</td>\n",
       "      <td>PAY/SALARY</td>\n",
       "      <td>13</td>\n",
       "      <td>29644.68</td>\n",
       "      <td>Weekly</td>\n",
       "      <td>2280.36</td>\n",
       "      <td>118579</td>\n",
       "      <td>2280.99</td>\n",
       "      <td>785.7204</td>\n",
       "      <td>159469</td>\n",
       "    </tr>\n",
       "    <tr>\n",
       "      <th>4</th>\n",
       "      <td>CUS-261674136</td>\n",
       "      <td>Kenneth</td>\n",
       "      <td>PAY/SALARY</td>\n",
       "      <td>7</td>\n",
       "      <td>30837.10</td>\n",
       "      <td>Fortnightly</td>\n",
       "      <td>4405.30</td>\n",
       "      <td>114538</td>\n",
       "      <td>2203.99</td>\n",
       "      <td>755.6904</td>\n",
       "      <td>153834</td>\n",
       "    </tr>\n",
       "  </tbody>\n",
       "</table>\n",
       "</div>"
      ],
      "text/plain": [
       "      customer_id first_name txn_description  payment_count  payment_sum  \\\n",
       "0  CUS-3142625864      Ricky      PAY/SALARY             13     33644.13   \n",
       "1  CUS-2738291516    Kenneth      PAY/SALARY             13     33081.88   \n",
       "2  CUS-2155701614      Linda      PAY/SALARY             13     31762.12   \n",
       "3  CUS-2031327464    Michael      PAY/SALARY             13     29644.68   \n",
       "4   CUS-261674136    Kenneth      PAY/SALARY              7     30837.10   \n",
       "\n",
       "  payment_type  avg_income_past_3_months  annual_salary_after_tax  \\\n",
       "0       Weekly                   2588.01                   134577   \n",
       "1       Weekly                   2544.76                   132328   \n",
       "2       Weekly                   2443.24                   127048   \n",
       "3       Weekly                   2280.36                   118579   \n",
       "4  Fortnightly                   4405.30                   114538   \n",
       "\n",
       "   weekly_income  weekly_tax_withholding  annual_salary  \n",
       "0        2588.99                905.8404         181731  \n",
       "1        2545.99                889.0704         178623  \n",
       "2        2443.99                849.2904         171251  \n",
       "3        2280.99                785.7204         159469  \n",
       "4        2203.99                755.6904         153834  "
      ]
     },
     "execution_count": 113,
     "metadata": {},
     "output_type": "execute_result"
    }
   ],
   "source": [
    "#Loading data\n",
    "salary = pd.read_excel('salary features.xlsx')\n",
    "salary.head()"
   ]
  },
  {
   "cell_type": "code",
   "execution_count": 114,
   "metadata": {},
   "outputs": [
    {
     "data": {
      "text/html": [
       "<div>\n",
       "<style scoped>\n",
       "    .dataframe tbody tr th:only-of-type {\n",
       "        vertical-align: middle;\n",
       "    }\n",
       "\n",
       "    .dataframe tbody tr th {\n",
       "        vertical-align: top;\n",
       "    }\n",
       "\n",
       "    .dataframe thead th {\n",
       "        text-align: right;\n",
       "    }\n",
       "</style>\n",
       "<table border=\"1\" class=\"dataframe\">\n",
       "  <thead>\n",
       "    <tr style=\"text-align: right;\">\n",
       "      <th></th>\n",
       "      <th>payment_count</th>\n",
       "      <th>payment_sum</th>\n",
       "      <th>avg_income_past_3_months</th>\n",
       "      <th>annual_salary_after_tax</th>\n",
       "      <th>weekly_income</th>\n",
       "      <th>weekly_tax_withholding</th>\n",
       "      <th>annual_salary</th>\n",
       "    </tr>\n",
       "  </thead>\n",
       "  <tbody>\n",
       "    <tr>\n",
       "      <th>0</th>\n",
       "      <td>13</td>\n",
       "      <td>33644.13</td>\n",
       "      <td>2588.01</td>\n",
       "      <td>134577</td>\n",
       "      <td>2588.99</td>\n",
       "      <td>905.8404</td>\n",
       "      <td>181731</td>\n",
       "    </tr>\n",
       "    <tr>\n",
       "      <th>1</th>\n",
       "      <td>13</td>\n",
       "      <td>33081.88</td>\n",
       "      <td>2544.76</td>\n",
       "      <td>132328</td>\n",
       "      <td>2545.99</td>\n",
       "      <td>889.0704</td>\n",
       "      <td>178623</td>\n",
       "    </tr>\n",
       "    <tr>\n",
       "      <th>2</th>\n",
       "      <td>13</td>\n",
       "      <td>31762.12</td>\n",
       "      <td>2443.24</td>\n",
       "      <td>127048</td>\n",
       "      <td>2443.99</td>\n",
       "      <td>849.2904</td>\n",
       "      <td>171251</td>\n",
       "    </tr>\n",
       "    <tr>\n",
       "      <th>3</th>\n",
       "      <td>13</td>\n",
       "      <td>29644.68</td>\n",
       "      <td>2280.36</td>\n",
       "      <td>118579</td>\n",
       "      <td>2280.99</td>\n",
       "      <td>785.7204</td>\n",
       "      <td>159469</td>\n",
       "    </tr>\n",
       "    <tr>\n",
       "      <th>4</th>\n",
       "      <td>7</td>\n",
       "      <td>30837.10</td>\n",
       "      <td>4405.30</td>\n",
       "      <td>114538</td>\n",
       "      <td>2203.99</td>\n",
       "      <td>755.6904</td>\n",
       "      <td>153834</td>\n",
       "    </tr>\n",
       "  </tbody>\n",
       "</table>\n",
       "</div>"
      ],
      "text/plain": [
       "   payment_count  payment_sum  avg_income_past_3_months  \\\n",
       "0             13     33644.13                   2588.01   \n",
       "1             13     33081.88                   2544.76   \n",
       "2             13     31762.12                   2443.24   \n",
       "3             13     29644.68                   2280.36   \n",
       "4              7     30837.10                   4405.30   \n",
       "\n",
       "   annual_salary_after_tax  weekly_income  weekly_tax_withholding  \\\n",
       "0                   134577        2588.99                905.8404   \n",
       "1                   132328        2545.99                889.0704   \n",
       "2                   127048        2443.99                849.2904   \n",
       "3                   118579        2280.99                785.7204   \n",
       "4                   114538        2203.99                755.6904   \n",
       "\n",
       "   annual_salary  \n",
       "0         181731  \n",
       "1         178623  \n",
       "2         171251  \n",
       "3         159469  \n",
       "4         153834  "
      ]
     },
     "execution_count": 114,
     "metadata": {},
     "output_type": "execute_result"
    }
   ],
   "source": [
    "#Choose variables for input:\n",
    "predict = salary\n",
    "predict = predict.drop('customer_id',1)\n",
    "predict = predict.drop('first_name',1)\n",
    "predict = predict.drop('txn_description',1)\n",
    "predict = predict.drop('payment_type',1)\n",
    "predict.head()\n",
    "#Features are 'payment_count','payment_sum','avg_income_past_3_months', 'annual_salary_after_tax', 'weekly_income', 'weekly_tax_withholding'"
   ]
  },
  {
   "cell_type": "code",
   "execution_count": 115,
   "metadata": {},
   "outputs": [
    {
     "name": "stdout",
     "output_type": "stream",
     "text": [
      "X training set: (50, 6) Y training set: (50,)\n",
      "X testing set: (50, 6) Y testing set: (50,)\n"
     ]
    }
   ],
   "source": [
    "X = predict.drop('annual_salary',1)   #Feature Matrix\n",
    "y = predict['annual_salary']          #Target Variable\n",
    "# create training and testing vars\n",
    "X_train, X_test, y_train, y_test = train_test_split(X, y, test_size=0.5)\n",
    "print ('X training set:', X_train.shape,'Y training set:', y_train.shape)\n",
    "print ('X testing set:', X_test.shape, 'Y testing set:', y_test.shape)\n",
    "#Top: 50% training set of table contains 7 columns\n",
    "#Bottom: 50% testing set of table contains 7 columns"
   ]
  },
  {
   "cell_type": "markdown",
   "metadata": {},
   "source": [
    "# 1. Scikit-learn"
   ]
  },
  {
   "cell_type": "markdown",
   "metadata": {},
   "source": [
    "# Model fitting & statistical checking"
   ]
  },
  {
   "cell_type": "code",
   "execution_count": 116,
   "metadata": {},
   "outputs": [
    {
     "name": "stdout",
     "output_type": "stream",
     "text": [
      "R squared_train: 0.9999220093352766\n",
      "R squared_test: 0.9998827999739208\n",
      "estimateIntercept: 2851.2779841091397\n",
      "no of cofficients: 6\n"
     ]
    }
   ],
   "source": [
    "# fit a model\n",
    "lm = LinearRegression()\n",
    "model = lm.fit(X_train, y_train)\n",
    "predictions_test = lm.predict(X_test)\n",
    "predictions_train = lm.predict(X_train)\n",
    "\n",
    "print ('R squared_train:',lm.score(X_train, y_train))\n",
    "print ('R squared_test:',lm.score(X_test, y_test))\n",
    "print ('estimateIntercept:',lm.intercept_)\n",
    "print ('no of cofficients:',len(lm.coef_))\n",
    "# Print out the statistics"
   ]
  },
  {
   "cell_type": "code",
   "execution_count": 117,
   "metadata": {},
   "outputs": [
    {
     "data": {
      "text/html": [
       "<div>\n",
       "<style scoped>\n",
       "    .dataframe tbody tr th:only-of-type {\n",
       "        vertical-align: middle;\n",
       "    }\n",
       "\n",
       "    .dataframe tbody tr th {\n",
       "        vertical-align: top;\n",
       "    }\n",
       "\n",
       "    .dataframe thead th {\n",
       "        text-align: right;\n",
       "    }\n",
       "</style>\n",
       "<table border=\"1\" class=\"dataframe\">\n",
       "  <thead>\n",
       "    <tr style=\"text-align: right;\">\n",
       "      <th></th>\n",
       "      <th>Features</th>\n",
       "      <th>estimatedCoefficients</th>\n",
       "    </tr>\n",
       "  </thead>\n",
       "  <tbody>\n",
       "    <tr>\n",
       "      <th>0</th>\n",
       "      <td>payment_count</td>\n",
       "      <td>-223.618151</td>\n",
       "    </tr>\n",
       "    <tr>\n",
       "      <th>1</th>\n",
       "      <td>payment_sum</td>\n",
       "      <td>0.006824</td>\n",
       "    </tr>\n",
       "    <tr>\n",
       "      <th>2</th>\n",
       "      <td>avg_income_past_3_months</td>\n",
       "      <td>-1.348130</td>\n",
       "    </tr>\n",
       "    <tr>\n",
       "      <th>3</th>\n",
       "      <td>annual_salary_after_tax</td>\n",
       "      <td>0.589837</td>\n",
       "    </tr>\n",
       "    <tr>\n",
       "      <th>4</th>\n",
       "      <td>weekly_income</td>\n",
       "      <td>20.769726</td>\n",
       "    </tr>\n",
       "    <tr>\n",
       "      <th>5</th>\n",
       "      <td>weekly_tax_withholding</td>\n",
       "      <td>58.221475</td>\n",
       "    </tr>\n",
       "  </tbody>\n",
       "</table>\n",
       "</div>"
      ],
      "text/plain": [
       "                   Features  estimatedCoefficients\n",
       "0             payment_count            -223.618151\n",
       "1               payment_sum               0.006824\n",
       "2  avg_income_past_3_months              -1.348130\n",
       "3   annual_salary_after_tax               0.589837\n",
       "4             weekly_income              20.769726\n",
       "5    weekly_tax_withholding              58.221475"
      ]
     },
     "execution_count": 117,
     "metadata": {},
     "output_type": "execute_result"
    }
   ],
   "source": [
    "#print('estimate coefficient',lm.coef_ )\n",
    "pd.DataFrame(zip(X_train.columns, lm.coef_), columns = ['Features','estimatedCoefficients'])"
   ]
  },
  {
   "cell_type": "code",
   "execution_count": 118,
   "metadata": {},
   "outputs": [
    {
     "name": "stdout",
     "output_type": "stream",
     "text": [
      "RMSE TEST:  411.37077754554156\n",
      "RMSE TRAIN:  363.9838668889685\n"
     ]
    }
   ],
   "source": [
    "#RMSE\n",
    "# Calculate the root mean square error (RMSE) for test and training data\n",
    "N = len(y_test)\n",
    "rmse_test = np.sqrt(np.sum((np.array(y_test).flatten() - np.array(predictions_test).flatten())**2)/N)\n",
    "print(\"RMSE TEST: \", rmse_test)  \n",
    "\n",
    "N = len(y_train)\n",
    "rmse_train = np.sqrt(np.sum((np.array(y_train).flatten() - np.array(predictions_train).flatten())**2)/N)\n",
    "print(\"RMSE TRAIN: \", rmse_train)  "
   ]
  },
  {
   "cell_type": "code",
   "execution_count": 119,
   "metadata": {},
   "outputs": [
    {
     "name": "stdout",
     "output_type": "stream",
     "text": [
      "Chi Square Train: [7.79390756e+01 1.49305936e+05 5.73870490e+04 7.47216195e+05\n",
      " 1.43061812e+04 5.85899192e+03]\n",
      "Chi Square Test: [6.51130221e+01 1.19167662e+05 2.75805915e+04 6.02078497e+05\n",
      " 1.15693878e+04 4.63839017e+03]\n",
      "P-Values Train [0.00404627 0.         0.         0.         0.         0.        ]\n",
      "P-Values Test [0.06142361 0.         0.         0.         0.         0.        ]\n"
     ]
    }
   ],
   "source": [
    "#Chi Squared test\n",
    "chi2_train, pval_train = chi2(X_train, y_train)\n",
    "chi2_test, pval_test = chi2(X_test, y_test)\n",
    "print ('Chi Square Train:',chi2_train)\n",
    "print ('Chi Square Test:',chi2_test)\n",
    "print ('P-Values Train',pval_train)\n",
    "print ('P-Values Test',pval_test)"
   ]
  },
  {
   "cell_type": "markdown",
   "metadata": {},
   "source": [
    "# Visualisation Checking"
   ]
  },
  {
   "cell_type": "code",
   "execution_count": 132,
   "metadata": {},
   "outputs": [
    {
     "data": {
      "image/png": "[encoded data removed]",
      "text/plain": [
       "<Figure size 432x288 with 2 Axes>"
      ]
     },
     "metadata": {
      "needs_background": "light"
     },
     "output_type": "display_data"
    }
   ],
   "source": [
    "# Residual plot, check Rquare\n",
    "ridge = Ridge()\n",
    "visualizer = ResidualsPlot(ridge)\n",
    "\n",
    "visualizer.fit(X_train, y_train)  # Fit the training data to the model\n",
    "visualizer.score(X_test, predictions_test)  # Evaluate the model on the test data\n",
    "visualizer.poof()                 # Draw/show/poof the data"
   ]
  },
  {
   "cell_type": "code",
   "execution_count": 121,
   "metadata": {},
   "outputs": [],
   "source": [
    "#plot annual salary vs predicted annual salary\n",
    "#plot predicted result\n",
    "# Prediction Error Plot"
   ]
  },
  {
   "cell_type": "code",
   "execution_count": 133,
   "metadata": {},
   "outputs": [
    {
     "data": {
      "image/png": "[encoded data removed]",
      "text/plain": [
       "<Figure size 432x288 with 1 Axes>"
      ]
     },
     "metadata": {
      "needs_background": "light"
     },
     "output_type": "display_data"
    }
   ],
   "source": [
    "#Prediction Error Plot\n",
    "# Instantiate the linear model and visualizer\n",
    "lasso = Lasso()\n",
    "visualizer1 = PredictionError(lasso)\n",
    "\n",
    "visualizer1.fit(X_train, y_train)  # Fit the training data to the visualizer\n",
    "visualizer1.score(X_test, predictions_test)  # Evaluate the model on the test data\n",
    "g = visualizer1.poof()             # Draw/show/poof the data"
   ]
  },
  {
   "cell_type": "code",
   "execution_count": 134,
   "metadata": {},
   "outputs": [
    {
     "name": "stderr",
     "output_type": "stream",
     "text": [
      "C:\\Users\\My Computer\\Anaconda3\\lib\\site-packages\\sklearn\\model_selection\\_split.py:2053: FutureWarning: You should specify a value for 'cv' instead of relying on the default value. The default value will change from 3 to 5 in version 0.22.\n",
      "  warnings.warn(CV_WARNING, FutureWarning)\n"
     ]
    },
    {
     "data": {
      "image/png": "[encoded data removed]",
      "text/plain": [
       "<Figure size 432x288 with 1 Axes>"
      ]
     },
     "metadata": {
      "needs_background": "light"
     },
     "output_type": "display_data"
    }
   ],
   "source": [
    "# Create a list of alphas to cross-validate against\n",
    "alphas = np.logspace(-10, 1, 400)\n",
    "\n",
    "# Instantiate the linear model and visualizer\n",
    "model = LassoCV(alphas=alphas)\n",
    "visualizer = AlphaSelection(model)\n",
    "\n",
    "visualizer.fit(X_train, y_train)  # Fit the training data to the visualizer\n",
    "visualizer.score(X_test, predictions_test)\n",
    "g = visualizer.poof()"
   ]
  },
  {
   "cell_type": "markdown",
   "metadata": {},
   "source": [
    "# 2. Stats Model"
   ]
  },
  {
   "cell_type": "markdown",
   "metadata": {},
   "source": [
    "1. Statistic checking"
   ]
  },
  {
   "cell_type": "code",
   "execution_count": 124,
   "metadata": {},
   "outputs": [
    {
     "data": {
      "text/html": [
       "<table class=\"simpletable\">\n",
       "<caption>OLS Regression Results</caption>\n",
       "<tr>\n",
       "  <th>Dep. Variable:</th>      <td>annual_salary</td>  <th>  R-squared:         </th> <td>   1.000</td> \n",
       "</tr>\n",
       "<tr>\n",
       "  <th>Model:</th>                   <td>OLS</td>       <th>  Adj. R-squared:    </th> <td>   1.000</td> \n",
       "</tr>\n",
       "<tr>\n",
       "  <th>Method:</th>             <td>Least Squares</td>  <th>  F-statistic:       </th> <td>2.163e+05</td>\n",
       "</tr>\n",
       "<tr>\n",
       "  <th>Date:</th>             <td>Tue, 20 Aug 2019</td> <th>  Prob (F-statistic):</th> <td>1.27e-96</td> \n",
       "</tr>\n",
       "<tr>\n",
       "  <th>Time:</th>                 <td>22:44:41</td>     <th>  Log-Likelihood:    </th> <td> -383.11</td> \n",
       "</tr>\n",
       "<tr>\n",
       "  <th>No. Observations:</th>      <td>    50</td>      <th>  AIC:               </th> <td>   778.2</td> \n",
       "</tr>\n",
       "<tr>\n",
       "  <th>Df Residuals:</th>          <td>    44</td>      <th>  BIC:               </th> <td>   789.7</td> \n",
       "</tr>\n",
       "<tr>\n",
       "  <th>Df Model:</th>              <td>     6</td>      <th>                     </th>     <td> </td>    \n",
       "</tr>\n",
       "<tr>\n",
       "  <th>Covariance Type:</th>      <td>nonrobust</td>    <th>                     </th>     <td> </td>    \n",
       "</tr>\n",
       "</table>\n",
       "<table class=\"simpletable\">\n",
       "<tr>\n",
       "              <td></td>                <th>coef</th>     <th>std err</th>      <th>t</th>      <th>P>|t|</th>  <th>[0.025</th>    <th>0.975]</th>  \n",
       "</tr>\n",
       "<tr>\n",
       "  <th>payment_count</th>            <td>  -68.7459</td> <td>   33.921</td> <td>   -2.027</td> <td> 0.049</td> <td> -137.110</td> <td>   -0.382</td>\n",
       "</tr>\n",
       "<tr>\n",
       "  <th>payment_sum</th>              <td>   -0.0390</td> <td>    0.039</td> <td>   -0.999</td> <td> 0.323</td> <td>   -0.118</td> <td>    0.040</td>\n",
       "</tr>\n",
       "<tr>\n",
       "  <th>avg_income_past_3_months</th> <td>   -0.9364</td> <td>    0.141</td> <td>   -6.619</td> <td> 0.000</td> <td>   -1.222</td> <td>   -0.651</td>\n",
       "</tr>\n",
       "<tr>\n",
       "  <th>annual_salary_after_tax</th>  <td>    0.5309</td> <td>    0.158</td> <td>    3.363</td> <td> 0.002</td> <td>    0.213</td> <td>    0.849</td>\n",
       "</tr>\n",
       "<tr>\n",
       "  <th>weekly_income</th>            <td>   29.9522</td> <td>    8.541</td> <td>    3.507</td> <td> 0.001</td> <td>   12.739</td> <td>   47.165</td>\n",
       "</tr>\n",
       "<tr>\n",
       "  <th>weekly_tax_withholding</th>   <td>   42.0760</td> <td>    6.300</td> <td>    6.679</td> <td> 0.000</td> <td>   29.380</td> <td>   54.772</td>\n",
       "</tr>\n",
       "</table>\n",
       "<table class=\"simpletable\">\n",
       "<tr>\n",
       "  <th>Omnibus:</th>       <td> 0.740</td> <th>  Durbin-Watson:     </th> <td>   1.984</td>\n",
       "</tr>\n",
       "<tr>\n",
       "  <th>Prob(Omnibus):</th> <td> 0.691</td> <th>  Jarque-Bera (JB):  </th> <td>   0.383</td>\n",
       "</tr>\n",
       "<tr>\n",
       "  <th>Skew:</th>          <td> 0.211</td> <th>  Prob(JB):          </th> <td>   0.826</td>\n",
       "</tr>\n",
       "<tr>\n",
       "  <th>Kurtosis:</th>      <td> 3.069</td> <th>  Cond. No.          </th> <td>3.07e+04</td>\n",
       "</tr>\n",
       "</table><br/><br/>Warnings:<br/>[1] Standard Errors assume that the covariance matrix of the errors is correctly specified.<br/>[2] The condition number is large, 3.07e+04. This might indicate that there are<br/>strong multicollinearity or other numerical problems."
      ],
      "text/plain": [
       "<class 'statsmodels.iolib.summary.Summary'>\n",
       "\"\"\"\n",
       "                            OLS Regression Results                            \n",
       "==============================================================================\n",
       "Dep. Variable:          annual_salary   R-squared:                       1.000\n",
       "Model:                            OLS   Adj. R-squared:                  1.000\n",
       "Method:                 Least Squares   F-statistic:                 2.163e+05\n",
       "Date:                Tue, 20 Aug 2019   Prob (F-statistic):           1.27e-96\n",
       "Time:                        22:44:41   Log-Likelihood:                -383.11\n",
       "No. Observations:                  50   AIC:                             778.2\n",
       "Df Residuals:                      44   BIC:                             789.7\n",
       "Df Model:                           6                                         \n",
       "Covariance Type:            nonrobust                                         \n",
       "============================================================================================\n",
       "                               coef    std err          t      P>|t|      [0.025      0.975]\n",
       "--------------------------------------------------------------------------------------------\n",
       "payment_count              -68.7459     33.921     -2.027      0.049    -137.110      -0.382\n",
       "payment_sum                 -0.0390      0.039     -0.999      0.323      -0.118       0.040\n",
       "avg_income_past_3_months    -0.9364      0.141     -6.619      0.000      -1.222      -0.651\n",
       "annual_salary_after_tax      0.5309      0.158      3.363      0.002       0.213       0.849\n",
       "weekly_income               29.9522      8.541      3.507      0.001      12.739      47.165\n",
       "weekly_tax_withholding      42.0760      6.300      6.679      0.000      29.380      54.772\n",
       "==============================================================================\n",
       "Omnibus:                        0.740   Durbin-Watson:                   1.984\n",
       "Prob(Omnibus):                  0.691   Jarque-Bera (JB):                0.383\n",
       "Skew:                           0.211   Prob(JB):                        0.826\n",
       "Kurtosis:                       3.069   Cond. No.                     3.07e+04\n",
       "==============================================================================\n",
       "\n",
       "Warnings:\n",
       "[1] Standard Errors assume that the covariance matrix of the errors is correctly specified.\n",
       "[2] The condition number is large, 3.07e+04. This might indicate that there are\n",
       "strong multicollinearity or other numerical problems.\n",
       "\"\"\""
      ]
     },
     "execution_count": 124,
     "metadata": {},
     "output_type": "execute_result"
    }
   ],
   "source": [
    "# Note the difference in argument order\n",
    "model2 = sm.OLS(y_train, X_train).fit()\n",
    "stat_testPredictions = model.predict(X_test) # make the predictions by the model\n",
    "stat_trainPredictions = model.predict(X_train) # make the predictions by the model\n",
    "\n",
    "# Print out the statistics\n",
    "model2.summary()"
   ]
  },
  {
   "cell_type": "markdown",
   "metadata": {},
   "source": [
    "2. Visualisation checking"
   ]
  },
  {
   "cell_type": "code",
   "execution_count": null,
   "metadata": {},
   "outputs": [],
   "source": []
  }
 ],
 "metadata": {
  "kernelspec": {
   "display_name": "Python 3",
   "language": "python",
   "name": "python3"
  },
  "language_info": {
   "codemirror_mode": {
    "name": "ipython",
    "version": 3
   },
   "file_extension": ".py",
   "mimetype": "text/x-python",
   "name": "python",
   "nbconvert_exporter": "python",
   "pygments_lexer": "ipython3",
   "version": "3.7.3"
  }
 },
 "nbformat": 4,
 "nbformat_minor": 2
}
