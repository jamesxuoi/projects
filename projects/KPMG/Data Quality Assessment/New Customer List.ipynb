{
 "cells": [
  {
   "cell_type": "code",
   "execution_count": 234,
   "metadata": {},
   "outputs": [],
   "source": [
    "import os, math, subprocess\n",
    "import datetime as dt\n",
    "\n",
    "#data wrangling\n",
    "import numpy as np\n",
    "import pandas as pd\n",
    "\n",
    "#visualization\n",
    "import seaborn as sns\n",
    "import matplotlib.pyplot as plt\n",
    "\n",
    "#excel library\n",
    "import xlrd\n",
    "import re"
   ]
  },
  {
   "cell_type": "code",
   "execution_count": 235,
   "metadata": {},
   "outputs": [
    {
     "data": {
      "text/html": [
       "<div>\n",
       "<style scoped>\n",
       "    .dataframe tbody tr th:only-of-type {\n",
       "        vertical-align: middle;\n",
       "    }\n",
       "\n",
       "    .dataframe tbody tr th {\n",
       "        vertical-align: top;\n",
       "    }\n",
       "\n",
       "    .dataframe thead th {\n",
       "        text-align: right;\n",
       "    }\n",
       "</style>\n",
       "<table border=\"1\" class=\"dataframe\">\n",
       "  <thead>\n",
       "    <tr style=\"text-align: right;\">\n",
       "      <th></th>\n",
       "      <th>first_name</th>\n",
       "      <th>last_name</th>\n",
       "      <th>gender</th>\n",
       "      <th>past_3_years_bike_related_purchases</th>\n",
       "      <th>DOB</th>\n",
       "      <th>job_title</th>\n",
       "      <th>job_industry_category</th>\n",
       "      <th>wealth_segment</th>\n",
       "      <th>deceased_indicator</th>\n",
       "      <th>owns_car</th>\n",
       "      <th>...</th>\n",
       "      <th>state</th>\n",
       "      <th>country</th>\n",
       "      <th>property_valuation</th>\n",
       "      <th>Unnamed: 16</th>\n",
       "      <th>Unnamed: 17</th>\n",
       "      <th>Unnamed: 18</th>\n",
       "      <th>Unnamed: 19</th>\n",
       "      <th>Unnamed: 20</th>\n",
       "      <th>Rank</th>\n",
       "      <th>Value</th>\n",
       "    </tr>\n",
       "  </thead>\n",
       "  <tbody>\n",
       "    <tr>\n",
       "      <th>0</th>\n",
       "      <td>Chickie</td>\n",
       "      <td>Brister</td>\n",
       "      <td>Male</td>\n",
       "      <td>86</td>\n",
       "      <td>1957-07-12</td>\n",
       "      <td>General Manager</td>\n",
       "      <td>Manufacturing</td>\n",
       "      <td>Mass Customer</td>\n",
       "      <td>N</td>\n",
       "      <td>Yes</td>\n",
       "      <td>...</td>\n",
       "      <td>QLD</td>\n",
       "      <td>Australia</td>\n",
       "      <td>6</td>\n",
       "      <td>0.87</td>\n",
       "      <td>1.0875</td>\n",
       "      <td>1.359375</td>\n",
       "      <td>1.155469</td>\n",
       "      <td>1</td>\n",
       "      <td>1</td>\n",
       "      <td>1.718750</td>\n",
       "    </tr>\n",
       "    <tr>\n",
       "      <th>1</th>\n",
       "      <td>Morly</td>\n",
       "      <td>Genery</td>\n",
       "      <td>Male</td>\n",
       "      <td>69</td>\n",
       "      <td>1970-03-22</td>\n",
       "      <td>Structural Engineer</td>\n",
       "      <td>Property</td>\n",
       "      <td>Mass Customer</td>\n",
       "      <td>N</td>\n",
       "      <td>No</td>\n",
       "      <td>...</td>\n",
       "      <td>NSW</td>\n",
       "      <td>Australia</td>\n",
       "      <td>11</td>\n",
       "      <td>0.76</td>\n",
       "      <td>0.7600</td>\n",
       "      <td>0.950000</td>\n",
       "      <td>0.807500</td>\n",
       "      <td>1</td>\n",
       "      <td>1</td>\n",
       "      <td>1.718750</td>\n",
       "    </tr>\n",
       "    <tr>\n",
       "      <th>2</th>\n",
       "      <td>Ardelis</td>\n",
       "      <td>Forrester</td>\n",
       "      <td>Female</td>\n",
       "      <td>10</td>\n",
       "      <td>1974-08-28</td>\n",
       "      <td>Senior Cost Accountant</td>\n",
       "      <td>Financial Services</td>\n",
       "      <td>Affluent Customer</td>\n",
       "      <td>N</td>\n",
       "      <td>No</td>\n",
       "      <td>...</td>\n",
       "      <td>VIC</td>\n",
       "      <td>Australia</td>\n",
       "      <td>5</td>\n",
       "      <td>1.03</td>\n",
       "      <td>1.0300</td>\n",
       "      <td>1.030000</td>\n",
       "      <td>1.030000</td>\n",
       "      <td>1</td>\n",
       "      <td>1</td>\n",
       "      <td>1.718750</td>\n",
       "    </tr>\n",
       "    <tr>\n",
       "      <th>3</th>\n",
       "      <td>Lucine</td>\n",
       "      <td>Stutt</td>\n",
       "      <td>Female</td>\n",
       "      <td>64</td>\n",
       "      <td>1979-01-28</td>\n",
       "      <td>Account Representative III</td>\n",
       "      <td>Manufacturing</td>\n",
       "      <td>Affluent Customer</td>\n",
       "      <td>N</td>\n",
       "      <td>Yes</td>\n",
       "      <td>...</td>\n",
       "      <td>QLD</td>\n",
       "      <td>Australia</td>\n",
       "      <td>1</td>\n",
       "      <td>0.83</td>\n",
       "      <td>1.0375</td>\n",
       "      <td>1.037500</td>\n",
       "      <td>1.037500</td>\n",
       "      <td>4</td>\n",
       "      <td>4</td>\n",
       "      <td>1.703125</td>\n",
       "    </tr>\n",
       "    <tr>\n",
       "      <th>4</th>\n",
       "      <td>Melinda</td>\n",
       "      <td>Hadlee</td>\n",
       "      <td>Female</td>\n",
       "      <td>34</td>\n",
       "      <td>1965-09-21</td>\n",
       "      <td>Financial Analyst</td>\n",
       "      <td>Financial Services</td>\n",
       "      <td>Affluent Customer</td>\n",
       "      <td>N</td>\n",
       "      <td>No</td>\n",
       "      <td>...</td>\n",
       "      <td>NSW</td>\n",
       "      <td>Australia</td>\n",
       "      <td>9</td>\n",
       "      <td>0.73</td>\n",
       "      <td>0.7300</td>\n",
       "      <td>0.912500</td>\n",
       "      <td>0.912500</td>\n",
       "      <td>4</td>\n",
       "      <td>4</td>\n",
       "      <td>1.703125</td>\n",
       "    </tr>\n",
       "  </tbody>\n",
       "</table>\n",
       "<p>5 rows × 23 columns</p>\n",
       "</div>"
      ],
      "text/plain": [
       "  first_name  last_name  gender  past_3_years_bike_related_purchases  \\\n",
       "0    Chickie    Brister    Male                                   86   \n",
       "1      Morly     Genery    Male                                   69   \n",
       "2    Ardelis  Forrester  Female                                   10   \n",
       "3     Lucine      Stutt  Female                                   64   \n",
       "4    Melinda     Hadlee  Female                                   34   \n",
       "\n",
       "         DOB                   job_title job_industry_category  \\\n",
       "0 1957-07-12             General Manager         Manufacturing   \n",
       "1 1970-03-22         Structural Engineer              Property   \n",
       "2 1974-08-28      Senior Cost Accountant    Financial Services   \n",
       "3 1979-01-28  Account Representative III         Manufacturing   \n",
       "4 1965-09-21           Financial Analyst    Financial Services   \n",
       "\n",
       "      wealth_segment deceased_indicator owns_car  ...  state    country  \\\n",
       "0      Mass Customer                  N      Yes  ...    QLD  Australia   \n",
       "1      Mass Customer                  N       No  ...    NSW  Australia   \n",
       "2  Affluent Customer                  N       No  ...    VIC  Australia   \n",
       "3  Affluent Customer                  N      Yes  ...    QLD  Australia   \n",
       "4  Affluent Customer                  N       No  ...    NSW  Australia   \n",
       "\n",
       "   property_valuation Unnamed: 16 Unnamed: 17  Unnamed: 18  Unnamed: 19  \\\n",
       "0                   6        0.87      1.0875     1.359375     1.155469   \n",
       "1                  11        0.76      0.7600     0.950000     0.807500   \n",
       "2                   5        1.03      1.0300     1.030000     1.030000   \n",
       "3                   1        0.83      1.0375     1.037500     1.037500   \n",
       "4                   9        0.73      0.7300     0.912500     0.912500   \n",
       "\n",
       "   Unnamed: 20  Rank     Value  \n",
       "0            1     1  1.718750  \n",
       "1            1     1  1.718750  \n",
       "2            1     1  1.718750  \n",
       "3            4     4  1.703125  \n",
       "4            4     4  1.703125  \n",
       "\n",
       "[5 rows x 23 columns]"
      ]
     },
     "execution_count": 235,
     "metadata": {},
     "output_type": "execute_result"
    }
   ],
   "source": [
    "#Loading data\n",
    "df_newcustomerlist = pd.read_excel('KPMG.xlsx', sheet_name= 'NewCustomerList')\n",
    "df_newcustomerlist.head()"
   ]
  },
  {
   "cell_type": "code",
   "execution_count": 236,
   "metadata": {},
   "outputs": [
    {
     "name": "stdout",
     "output_type": "stream",
     "text": [
      "<class 'pandas.core.frame.DataFrame'>\n",
      "RangeIndex: 1000 entries, 0 to 999\n",
      "Data columns (total 23 columns):\n",
      "first_name                             1000 non-null object\n",
      "last_name                              971 non-null object\n",
      "gender                                 1000 non-null object\n",
      "past_3_years_bike_related_purchases    1000 non-null int64\n",
      "DOB                                    983 non-null datetime64[ns]\n",
      "job_title                              894 non-null object\n",
      "job_industry_category                  835 non-null object\n",
      "wealth_segment                         1000 non-null object\n",
      "deceased_indicator                     1000 non-null object\n",
      "owns_car                               1000 non-null object\n",
      "tenure                                 1000 non-null int64\n",
      "address                                1000 non-null object\n",
      "postcode                               1000 non-null int64\n",
      "state                                  1000 non-null object\n",
      "country                                1000 non-null object\n",
      "property_valuation                     1000 non-null int64\n",
      "Unnamed: 16                            1000 non-null float64\n",
      "Unnamed: 17                            1000 non-null float64\n",
      "Unnamed: 18                            1000 non-null float64\n",
      "Unnamed: 19                            1000 non-null float64\n",
      "Unnamed: 20                            1000 non-null int64\n",
      "Rank                                   1000 non-null int64\n",
      "Value                                  1000 non-null float64\n",
      "dtypes: datetime64[ns](1), float64(5), int64(6), object(11)\n",
      "memory usage: 179.8+ KB\n"
     ]
    }
   ],
   "source": [
    "df_newcustomerlist.info()"
   ]
  },
  {
   "cell_type": "markdown",
   "metadata": {},
   "source": [
    "# CHECK MISSING DATA"
   ]
  },
  {
   "cell_type": "code",
   "execution_count": 237,
   "metadata": {},
   "outputs": [
    {
     "data": {
      "text/plain": [
       "first_name                               0\n",
       "last_name                               29\n",
       "gender                                   0\n",
       "past_3_years_bike_related_purchases      0\n",
       "DOB                                     17\n",
       "job_title                              106\n",
       "job_industry_category                  165\n",
       "wealth_segment                           0\n",
       "deceased_indicator                       0\n",
       "owns_car                                 0\n",
       "tenure                                   0\n",
       "address                                  0\n",
       "postcode                                 0\n",
       "state                                    0\n",
       "country                                  0\n",
       "property_valuation                       0\n",
       "Unnamed: 16                              0\n",
       "Unnamed: 17                              0\n",
       "Unnamed: 18                              0\n",
       "Unnamed: 19                              0\n",
       "Unnamed: 20                              0\n",
       "Rank                                     0\n",
       "Value                                    0\n",
       "dtype: int64"
      ]
     },
     "execution_count": 237,
     "metadata": {},
     "output_type": "execute_result"
    }
   ],
   "source": [
    "#check sum of missing data\n",
    "df_newcustomerlist.isnull().sum()"
   ]
  },
  {
   "cell_type": "markdown",
   "metadata": {},
   "source": [
    "# CHECK DUPLICATION"
   ]
  },
  {
   "cell_type": "code",
   "execution_count": 238,
   "metadata": {},
   "outputs": [
    {
     "data": {
      "text/plain": [
       "0"
      ]
     },
     "execution_count": 238,
     "metadata": {},
     "output_type": "execute_result"
    }
   ],
   "source": [
    "#Check dupplication in dataframe\n",
    "df_newcustomerlist.duplicated().sum()\n"
   ]
  },
  {
   "cell_type": "markdown",
   "metadata": {},
   "source": [
    "   # CHECK & MODIFY EACH COLUMN\n",
    "     1. first_name, last_name, gender"
   ]
  },
  {
   "cell_type": "code",
   "execution_count": 239,
   "metadata": {},
   "outputs": [
    {
     "data": {
      "text/plain": [
       "60"
      ]
     },
     "execution_count": 239,
     "metadata": {},
     "output_type": "execute_result"
    }
   ],
   "source": [
    "df_newcustomerlist['first_name'].duplicated().sum()"
   ]
  },
  {
   "cell_type": "code",
   "execution_count": 240,
   "metadata": {},
   "outputs": [
    {
     "data": {
      "text/plain": [
       "38"
      ]
     },
     "execution_count": 240,
     "metadata": {},
     "output_type": "execute_result"
    }
   ],
   "source": [
    "df_newcustomerlist['last_name'].duplicated().sum()"
   ]
  },
  {
   "cell_type": "code",
   "execution_count": 241,
   "metadata": {},
   "outputs": [
    {
     "data": {
      "text/plain": [
       "0"
      ]
     },
     "execution_count": 241,
     "metadata": {},
     "output_type": "execute_result"
    }
   ],
   "source": [
    "#Check dupplicate if customers have same first name and last name\n",
    "df_newcustomerlist.duplicated(subset=['first_name','last_name']).sum()"
   ]
  },
  {
   "cell_type": "code",
   "execution_count": 242,
   "metadata": {},
   "outputs": [
    {
     "data": {
      "text/plain": [
       "array(['Male', 'Female', 'U'], dtype=object)"
      ]
     },
     "execution_count": 242,
     "metadata": {},
     "output_type": "execute_result"
    }
   ],
   "source": [
    "#Check the variables of Gender\n",
    "df_newcustomerlist['gender'].unique()"
   ]
  },
  {
   "cell_type": "code",
   "execution_count": 243,
   "metadata": {},
   "outputs": [
    {
     "data": {
      "text/plain": [
       "first_name    17\n",
       "last_name     17\n",
       "gender        17\n",
       "dtype: int64"
      ]
     },
     "execution_count": 243,
     "metadata": {},
     "output_type": "execute_result"
    }
   ],
   "source": [
    "#There are 17 rows of Gender containing 'U'\n",
    "df_newcustomerlist[df_newcustomerlist['gender']=='U'].count().head(3)"
   ]
  },
  {
   "cell_type": "markdown",
   "metadata": {},
   "source": [
    "2. past_3_years_bike_related_purchases"
   ]
  },
  {
   "cell_type": "code",
   "execution_count": 244,
   "metadata": {},
   "outputs": [
    {
     "data": {
      "image/png": "[encoded data removed]",
      "text/plain": [
       "<Figure size 432x288 with 1 Axes>"
      ]
     },
     "metadata": {
      "needs_background": "light"
     },
     "output_type": "display_data"
    }
   ],
   "source": [
    "#Check significant outlier of past_3_years_bike_related_purchases\n",
    "plt.boxplot(df_newcustomerlist['past_3_years_bike_related_purchases'])\n",
    "plt.show()"
   ]
  },
  {
   "cell_type": "code",
   "execution_count": 245,
   "metadata": {},
   "outputs": [
    {
     "name": "stdout",
     "output_type": "stream",
     "text": [
      "min buy:  0\n",
      "max buy:  99\n"
     ]
    }
   ],
   "source": [
    "#Check min&max of past_3_years_bike_related_purchases\n",
    "print('min buy: ', df_newcustomerlist['past_3_years_bike_related_purchases'].min())\n",
    "print('max buy: ', df_newcustomerlist['past_3_years_bike_related_purchases'].max())"
   ]
  },
  {
   "cell_type": "code",
   "execution_count": 246,
   "metadata": {},
   "outputs": [
    {
     "data": {
      "text/html": [
       "<div>\n",
       "<style scoped>\n",
       "    .dataframe tbody tr th:only-of-type {\n",
       "        vertical-align: middle;\n",
       "    }\n",
       "\n",
       "    .dataframe tbody tr th {\n",
       "        vertical-align: top;\n",
       "    }\n",
       "\n",
       "    .dataframe thead th {\n",
       "        text-align: right;\n",
       "    }\n",
       "</style>\n",
       "<table border=\"1\" class=\"dataframe\">\n",
       "  <thead>\n",
       "    <tr style=\"text-align: right;\">\n",
       "      <th></th>\n",
       "      <th>first_name</th>\n",
       "      <th>last_name</th>\n",
       "      <th>gender</th>\n",
       "      <th>past_3_years_bike_related_purchases</th>\n",
       "      <th>DOB</th>\n",
       "      <th>job_title</th>\n",
       "      <th>job_industry_category</th>\n",
       "      <th>wealth_segment</th>\n",
       "      <th>deceased_indicator</th>\n",
       "      <th>owns_car</th>\n",
       "      <th>...</th>\n",
       "      <th>state</th>\n",
       "      <th>country</th>\n",
       "      <th>property_valuation</th>\n",
       "      <th>Unnamed: 16</th>\n",
       "      <th>Unnamed: 17</th>\n",
       "      <th>Unnamed: 18</th>\n",
       "      <th>Unnamed: 19</th>\n",
       "      <th>Unnamed: 20</th>\n",
       "      <th>Rank</th>\n",
       "      <th>Value</th>\n",
       "    </tr>\n",
       "  </thead>\n",
       "  <tbody>\n",
       "    <tr>\n",
       "      <th>76</th>\n",
       "      <td>Tobias</td>\n",
       "      <td>Woodhams</td>\n",
       "      <td>Male</td>\n",
       "      <td>0</td>\n",
       "      <td>1961-04-15</td>\n",
       "      <td>Research Nurse</td>\n",
       "      <td>Health</td>\n",
       "      <td>Mass Customer</td>\n",
       "      <td>N</td>\n",
       "      <td>No</td>\n",
       "      <td>...</td>\n",
       "      <td>NSW</td>\n",
       "      <td>Australia</td>\n",
       "      <td>9</td>\n",
       "      <td>1.02</td>\n",
       "      <td>1.020</td>\n",
       "      <td>1.275</td>\n",
       "      <td>1.08375</td>\n",
       "      <td>77</td>\n",
       "      <td>77</td>\n",
       "      <td>1.341406</td>\n",
       "    </tr>\n",
       "    <tr>\n",
       "      <th>113</th>\n",
       "      <td>Meriel</td>\n",
       "      <td>Tapp</td>\n",
       "      <td>Female</td>\n",
       "      <td>0</td>\n",
       "      <td>1995-08-13</td>\n",
       "      <td>VP Sales</td>\n",
       "      <td>IT</td>\n",
       "      <td>Mass Customer</td>\n",
       "      <td>N</td>\n",
       "      <td>No</td>\n",
       "      <td>...</td>\n",
       "      <td>VIC</td>\n",
       "      <td>Australia</td>\n",
       "      <td>2</td>\n",
       "      <td>0.92</td>\n",
       "      <td>0.920</td>\n",
       "      <td>0.920</td>\n",
       "      <td>0.78200</td>\n",
       "      <td>114</td>\n",
       "      <td>114</td>\n",
       "      <td>1.275000</td>\n",
       "    </tr>\n",
       "    <tr>\n",
       "      <th>225</th>\n",
       "      <td>Hersh</td>\n",
       "      <td>Stubbert</td>\n",
       "      <td>Male</td>\n",
       "      <td>0</td>\n",
       "      <td>2000-06-25</td>\n",
       "      <td>Technical Writer</td>\n",
       "      <td>Manufacturing</td>\n",
       "      <td>Mass Customer</td>\n",
       "      <td>N</td>\n",
       "      <td>Yes</td>\n",
       "      <td>...</td>\n",
       "      <td>QLD</td>\n",
       "      <td>Australia</td>\n",
       "      <td>8</td>\n",
       "      <td>0.74</td>\n",
       "      <td>0.925</td>\n",
       "      <td>0.925</td>\n",
       "      <td>0.78625</td>\n",
       "      <td>226</td>\n",
       "      <td>226</td>\n",
       "      <td>1.112500</td>\n",
       "    </tr>\n",
       "    <tr>\n",
       "      <th>322</th>\n",
       "      <td>Honey</td>\n",
       "      <td>Gosdin</td>\n",
       "      <td>Female</td>\n",
       "      <td>0</td>\n",
       "      <td>1981-11-29</td>\n",
       "      <td>Software Engineer I</td>\n",
       "      <td>Property</td>\n",
       "      <td>Mass Customer</td>\n",
       "      <td>N</td>\n",
       "      <td>No</td>\n",
       "      <td>...</td>\n",
       "      <td>NSW</td>\n",
       "      <td>Australia</td>\n",
       "      <td>9</td>\n",
       "      <td>0.80</td>\n",
       "      <td>0.800</td>\n",
       "      <td>1.000</td>\n",
       "      <td>0.85000</td>\n",
       "      <td>322</td>\n",
       "      <td>322</td>\n",
       "      <td>1.012500</td>\n",
       "    </tr>\n",
       "    <tr>\n",
       "      <th>451</th>\n",
       "      <td>Katie</td>\n",
       "      <td>Warhurst</td>\n",
       "      <td>Female</td>\n",
       "      <td>0</td>\n",
       "      <td>1991-12-02</td>\n",
       "      <td>Help Desk Operator</td>\n",
       "      <td>Retail</td>\n",
       "      <td>High Net Worth</td>\n",
       "      <td>N</td>\n",
       "      <td>Yes</td>\n",
       "      <td>...</td>\n",
       "      <td>VIC</td>\n",
       "      <td>Australia</td>\n",
       "      <td>5</td>\n",
       "      <td>0.74</td>\n",
       "      <td>0.925</td>\n",
       "      <td>0.925</td>\n",
       "      <td>0.92500</td>\n",
       "      <td>450</td>\n",
       "      <td>450</td>\n",
       "      <td>0.900000</td>\n",
       "    </tr>\n",
       "    <tr>\n",
       "      <th>545</th>\n",
       "      <td>Katy</td>\n",
       "      <td>Crooke</td>\n",
       "      <td>Female</td>\n",
       "      <td>0</td>\n",
       "      <td>1977-06-30</td>\n",
       "      <td>Food Chemist</td>\n",
       "      <td>Health</td>\n",
       "      <td>Mass Customer</td>\n",
       "      <td>N</td>\n",
       "      <td>No</td>\n",
       "      <td>...</td>\n",
       "      <td>NSW</td>\n",
       "      <td>Australia</td>\n",
       "      <td>12</td>\n",
       "      <td>0.72</td>\n",
       "      <td>0.720</td>\n",
       "      <td>0.900</td>\n",
       "      <td>0.76500</td>\n",
       "      <td>546</td>\n",
       "      <td>546</td>\n",
       "      <td>0.823437</td>\n",
       "    </tr>\n",
       "    <tr>\n",
       "      <th>798</th>\n",
       "      <td>Cherye</td>\n",
       "      <td>Stanfield</td>\n",
       "      <td>Female</td>\n",
       "      <td>0</td>\n",
       "      <td>1981-07-05</td>\n",
       "      <td>Environmental Tech</td>\n",
       "      <td>Manufacturing</td>\n",
       "      <td>Affluent Customer</td>\n",
       "      <td>N</td>\n",
       "      <td>No</td>\n",
       "      <td>...</td>\n",
       "      <td>NSW</td>\n",
       "      <td>Australia</td>\n",
       "      <td>9</td>\n",
       "      <td>0.50</td>\n",
       "      <td>0.500</td>\n",
       "      <td>0.625</td>\n",
       "      <td>0.62500</td>\n",
       "      <td>797</td>\n",
       "      <td>797</td>\n",
       "      <td>0.600000</td>\n",
       "    </tr>\n",
       "    <tr>\n",
       "      <th>904</th>\n",
       "      <td>Roth</td>\n",
       "      <td>Crum</td>\n",
       "      <td>U</td>\n",
       "      <td>0</td>\n",
       "      <td>NaT</td>\n",
       "      <td>Legal Assistant</td>\n",
       "      <td>IT</td>\n",
       "      <td>Mass Customer</td>\n",
       "      <td>N</td>\n",
       "      <td>No</td>\n",
       "      <td>...</td>\n",
       "      <td>NSW</td>\n",
       "      <td>Australia</td>\n",
       "      <td>6</td>\n",
       "      <td>0.60</td>\n",
       "      <td>0.600</td>\n",
       "      <td>0.600</td>\n",
       "      <td>0.51000</td>\n",
       "      <td>904</td>\n",
       "      <td>904</td>\n",
       "      <td>0.500000</td>\n",
       "    </tr>\n",
       "    <tr>\n",
       "      <th>960</th>\n",
       "      <td>Sonia</td>\n",
       "      <td>Dunstall</td>\n",
       "      <td>Female</td>\n",
       "      <td>0</td>\n",
       "      <td>1975-07-30</td>\n",
       "      <td>Accountant III</td>\n",
       "      <td>Financial Services</td>\n",
       "      <td>Mass Customer</td>\n",
       "      <td>N</td>\n",
       "      <td>No</td>\n",
       "      <td>...</td>\n",
       "      <td>NSW</td>\n",
       "      <td>Australia</td>\n",
       "      <td>9</td>\n",
       "      <td>1.08</td>\n",
       "      <td>1.080</td>\n",
       "      <td>1.350</td>\n",
       "      <td>1.14750</td>\n",
       "      <td>960</td>\n",
       "      <td>960</td>\n",
       "      <td>0.442000</td>\n",
       "    </tr>\n",
       "  </tbody>\n",
       "</table>\n",
       "<p>9 rows × 23 columns</p>\n",
       "</div>"
      ],
      "text/plain": [
       "    first_name  last_name  gender  past_3_years_bike_related_purchases  \\\n",
       "76      Tobias   Woodhams    Male                                    0   \n",
       "113     Meriel       Tapp  Female                                    0   \n",
       "225      Hersh   Stubbert    Male                                    0   \n",
       "322      Honey     Gosdin  Female                                    0   \n",
       "451      Katie   Warhurst  Female                                    0   \n",
       "545       Katy     Crooke  Female                                    0   \n",
       "798     Cherye  Stanfield  Female                                    0   \n",
       "904       Roth       Crum       U                                    0   \n",
       "960      Sonia   Dunstall  Female                                    0   \n",
       "\n",
       "           DOB            job_title job_industry_category     wealth_segment  \\\n",
       "76  1961-04-15       Research Nurse                Health      Mass Customer   \n",
       "113 1995-08-13             VP Sales                    IT      Mass Customer   \n",
       "225 2000-06-25     Technical Writer         Manufacturing      Mass Customer   \n",
       "322 1981-11-29  Software Engineer I              Property      Mass Customer   \n",
       "451 1991-12-02   Help Desk Operator                Retail     High Net Worth   \n",
       "545 1977-06-30         Food Chemist                Health      Mass Customer   \n",
       "798 1981-07-05   Environmental Tech         Manufacturing  Affluent Customer   \n",
       "904        NaT      Legal Assistant                    IT      Mass Customer   \n",
       "960 1975-07-30       Accountant III    Financial Services      Mass Customer   \n",
       "\n",
       "    deceased_indicator owns_car  ...  state    country  property_valuation  \\\n",
       "76                   N       No  ...    NSW  Australia                   9   \n",
       "113                  N       No  ...    VIC  Australia                   2   \n",
       "225                  N      Yes  ...    QLD  Australia                   8   \n",
       "322                  N       No  ...    NSW  Australia                   9   \n",
       "451                  N      Yes  ...    VIC  Australia                   5   \n",
       "545                  N       No  ...    NSW  Australia                  12   \n",
       "798                  N       No  ...    NSW  Australia                   9   \n",
       "904                  N       No  ...    NSW  Australia                   6   \n",
       "960                  N       No  ...    NSW  Australia                   9   \n",
       "\n",
       "    Unnamed: 16 Unnamed: 17  Unnamed: 18  Unnamed: 19  Unnamed: 20  Rank  \\\n",
       "76         1.02       1.020        1.275      1.08375           77    77   \n",
       "113        0.92       0.920        0.920      0.78200          114   114   \n",
       "225        0.74       0.925        0.925      0.78625          226   226   \n",
       "322        0.80       0.800        1.000      0.85000          322   322   \n",
       "451        0.74       0.925        0.925      0.92500          450   450   \n",
       "545        0.72       0.720        0.900      0.76500          546   546   \n",
       "798        0.50       0.500        0.625      0.62500          797   797   \n",
       "904        0.60       0.600        0.600      0.51000          904   904   \n",
       "960        1.08       1.080        1.350      1.14750          960   960   \n",
       "\n",
       "        Value  \n",
       "76   1.341406  \n",
       "113  1.275000  \n",
       "225  1.112500  \n",
       "322  1.012500  \n",
       "451  0.900000  \n",
       "545  0.823437  \n",
       "798  0.600000  \n",
       "904  0.500000  \n",
       "960  0.442000  \n",
       "\n",
       "[9 rows x 23 columns]"
      ]
     },
     "execution_count": 246,
     "metadata": {},
     "output_type": "execute_result"
    }
   ],
   "source": [
    "#count and show rows of past_3_years_bike_related_purchases = 0\n",
    "df_newcustomerlist[df_newcustomerlist['past_3_years_bike_related_purchases'] == 0]\n",
    "#There are 9 rows"
   ]
  },
  {
   "cell_type": "code",
   "execution_count": 247,
   "metadata": {},
   "outputs": [
    {
     "data": {
      "text/html": [
       "<div>\n",
       "<style scoped>\n",
       "    .dataframe tbody tr th:only-of-type {\n",
       "        vertical-align: middle;\n",
       "    }\n",
       "\n",
       "    .dataframe tbody tr th {\n",
       "        vertical-align: top;\n",
       "    }\n",
       "\n",
       "    .dataframe thead th {\n",
       "        text-align: right;\n",
       "    }\n",
       "</style>\n",
       "<table border=\"1\" class=\"dataframe\">\n",
       "  <thead>\n",
       "    <tr style=\"text-align: right;\">\n",
       "      <th></th>\n",
       "      <th>job_industry_category</th>\n",
       "      <th>min</th>\n",
       "      <th>max</th>\n",
       "      <th>mean</th>\n",
       "      <th>median</th>\n",
       "      <th>count</th>\n",
       "      <th>sum</th>\n",
       "    </tr>\n",
       "  </thead>\n",
       "  <tbody>\n",
       "    <tr>\n",
       "      <th>0</th>\n",
       "      <td>Argiculture</td>\n",
       "      <td>6</td>\n",
       "      <td>97</td>\n",
       "      <td>50.884615</td>\n",
       "      <td>45.5</td>\n",
       "      <td>26</td>\n",
       "      <td>1323</td>\n",
       "    </tr>\n",
       "    <tr>\n",
       "      <th>1</th>\n",
       "      <td>Entertainment</td>\n",
       "      <td>3</td>\n",
       "      <td>95</td>\n",
       "      <td>52.783784</td>\n",
       "      <td>58.0</td>\n",
       "      <td>37</td>\n",
       "      <td>1953</td>\n",
       "    </tr>\n",
       "    <tr>\n",
       "      <th>2</th>\n",
       "      <td>Financial Services</td>\n",
       "      <td>0</td>\n",
       "      <td>99</td>\n",
       "      <td>52.039409</td>\n",
       "      <td>54.0</td>\n",
       "      <td>203</td>\n",
       "      <td>10564</td>\n",
       "    </tr>\n",
       "    <tr>\n",
       "      <th>3</th>\n",
       "      <td>Health</td>\n",
       "      <td>0</td>\n",
       "      <td>99</td>\n",
       "      <td>48.822368</td>\n",
       "      <td>48.0</td>\n",
       "      <td>152</td>\n",
       "      <td>7421</td>\n",
       "    </tr>\n",
       "    <tr>\n",
       "      <th>4</th>\n",
       "      <td>IT</td>\n",
       "      <td>0</td>\n",
       "      <td>99</td>\n",
       "      <td>52.705882</td>\n",
       "      <td>54.0</td>\n",
       "      <td>51</td>\n",
       "      <td>2688</td>\n",
       "    </tr>\n",
       "    <tr>\n",
       "      <th>5</th>\n",
       "      <td>Manufacturing</td>\n",
       "      <td>0</td>\n",
       "      <td>99</td>\n",
       "      <td>48.050251</td>\n",
       "      <td>49.0</td>\n",
       "      <td>199</td>\n",
       "      <td>9562</td>\n",
       "    </tr>\n",
       "    <tr>\n",
       "      <th>6</th>\n",
       "      <td>Property</td>\n",
       "      <td>0</td>\n",
       "      <td>97</td>\n",
       "      <td>47.390625</td>\n",
       "      <td>50.0</td>\n",
       "      <td>64</td>\n",
       "      <td>3033</td>\n",
       "    </tr>\n",
       "    <tr>\n",
       "      <th>7</th>\n",
       "      <td>Retail</td>\n",
       "      <td>0</td>\n",
       "      <td>99</td>\n",
       "      <td>54.166667</td>\n",
       "      <td>57.5</td>\n",
       "      <td>78</td>\n",
       "      <td>4225</td>\n",
       "    </tr>\n",
       "    <tr>\n",
       "      <th>8</th>\n",
       "      <td>Telecommunications</td>\n",
       "      <td>7</td>\n",
       "      <td>97</td>\n",
       "      <td>50.000000</td>\n",
       "      <td>51.0</td>\n",
       "      <td>25</td>\n",
       "      <td>1250</td>\n",
       "    </tr>\n",
       "  </tbody>\n",
       "</table>\n",
       "</div>"
      ],
      "text/plain": [
       "  job_industry_category  min  max       mean  median  count    sum\n",
       "0           Argiculture    6   97  50.884615    45.5     26   1323\n",
       "1         Entertainment    3   95  52.783784    58.0     37   1953\n",
       "2    Financial Services    0   99  52.039409    54.0    203  10564\n",
       "3                Health    0   99  48.822368    48.0    152   7421\n",
       "4                    IT    0   99  52.705882    54.0     51   2688\n",
       "5         Manufacturing    0   99  48.050251    49.0    199   9562\n",
       "6              Property    0   97  47.390625    50.0     64   3033\n",
       "7                Retail    0   99  54.166667    57.5     78   4225\n",
       "8    Telecommunications    7   97  50.000000    51.0     25   1250"
      ]
     },
     "execution_count": 247,
     "metadata": {},
     "output_type": "execute_result"
    }
   ],
   "source": [
    "#Check min, max, count, sum of past_3_years_bike_related_purchases acorrding to job title and job industry category\n",
    "test5 = df_newcustomerlist.groupby(['job_industry_category'])['past_3_years_bike_related_purchases'].agg(['min', 'max', 'mean', 'median', 'count', 'sum'])\n",
    "test5 = test5.reset_index()\n",
    "test5"
   ]
  },
  {
   "cell_type": "markdown",
   "metadata": {},
   "source": [
    "3. DOB"
   ]
  },
  {
   "cell_type": "code",
   "execution_count": 248,
   "metadata": {},
   "outputs": [
    {
     "data": {
      "text/plain": [
       "Timestamp('1938-06-08 00:00:00')"
      ]
     },
     "execution_count": 248,
     "metadata": {},
     "output_type": "execute_result"
    }
   ],
   "source": [
    "#Check DOB\n",
    "df_check_age = df_newcustomerlist[['first_name', 'gender', 'DOB']].dropna()\n",
    "df_check_age['DOB'].min()\n",
    "#Min of DOB containing value of year 1938, it means that the oldest customer would be 81 years old"
   ]
  },
  {
   "cell_type": "code",
   "execution_count": 249,
   "metadata": {},
   "outputs": [
    {
     "name": "stdout",
     "output_type": "stream",
     "text": [
      "min age:  17\n",
      "max age:  81\n"
     ]
    }
   ],
   "source": [
    "#Range of customer's ages\n",
    "df_check_age['Year'] = df_check_age['DOB'].dt.strftime('%Y')\n",
    "df_check_age['Age'] = int(dt.datetime.today().strftime(\"%Y\")) - df_check_age['Year'].astype('int64')\n",
    "print('min age: ', df_check_age['Age'].min())\n",
    "print('max age: ', df_check_age['Age'].max())"
   ]
  },
  {
   "cell_type": "code",
   "execution_count": 250,
   "metadata": {},
   "outputs": [
    {
     "name": "stdout",
     "output_type": "stream",
     "text": [
      "<class 'pandas.core.frame.DataFrame'>\n",
      "Int64Index: 983 entries, 0 to 999\n",
      "Data columns (total 5 columns):\n",
      "first_name    983 non-null object\n",
      "gender        983 non-null object\n",
      "DOB           983 non-null datetime64[ns]\n",
      "Year          983 non-null object\n",
      "Age           983 non-null int64\n",
      "dtypes: datetime64[ns](1), int64(1), object(3)\n",
      "memory usage: 46.1+ KB\n"
     ]
    }
   ],
   "source": [
    "df_check_age.info()"
   ]
  },
  {
   "cell_type": "code",
   "execution_count": null,
   "metadata": {},
   "outputs": [],
   "source": []
  },
  {
   "cell_type": "markdown",
   "metadata": {},
   "source": [
    "4. Job_tittle and Job_industry_category"
   ]
  },
  {
   "cell_type": "code",
   "execution_count": 251,
   "metadata": {},
   "outputs": [
    {
     "data": {
      "text/plain": [
       "'Associate Professor'"
      ]
     },
     "execution_count": 251,
     "metadata": {},
     "output_type": "execute_result"
    }
   ],
   "source": [
    "#check most frequent title and duplication in Job tittle\n",
    "df_jobtitle = df_newcustomerlist.dropna(subset=['job_title'])\n",
    "df_jobtitle['job_title'].value_counts().idxmax()"
   ]
  },
  {
   "cell_type": "code",
   "execution_count": 252,
   "metadata": {},
   "outputs": [
    {
     "data": {
      "text/plain": [
       "15"
      ]
     },
     "execution_count": 252,
     "metadata": {},
     "output_type": "execute_result"
    }
   ],
   "source": [
    "#Count max of Associate Professor\n",
    "df_jobtitle['job_title'].value_counts().max()"
   ]
  },
  {
   "cell_type": "code",
   "execution_count": 253,
   "metadata": {},
   "outputs": [
    {
     "data": {
      "text/plain": [
       "894"
      ]
     },
     "execution_count": 253,
     "metadata": {},
     "output_type": "execute_result"
    }
   ],
   "source": [
    "#Check number of job title including dupplication\n",
    "df_jobtitle['job_title'].count()"
   ]
  },
  {
   "cell_type": "code",
   "execution_count": 254,
   "metadata": {},
   "outputs": [
    {
     "data": {
      "text/plain": [
       "184"
      ]
     },
     "execution_count": 254,
     "metadata": {},
     "output_type": "execute_result"
    }
   ],
   "source": [
    "#Check number of job title excluding dupplication\n",
    "df_jobtitle.job_title.drop_duplicates().count()\n",
    "#There are 184 job titles"
   ]
  },
  {
   "cell_type": "code",
   "execution_count": 255,
   "metadata": {},
   "outputs": [
    {
     "data": {
      "text/plain": [
       "'Financial Services'"
      ]
     },
     "execution_count": 255,
     "metadata": {},
     "output_type": "execute_result"
    }
   ],
   "source": [
    "#check dupplicate in Job_industry_category\n",
    "#Drop na and check most frequent title\n",
    "df_jobin = df_newcustomerlist.dropna(subset=['job_industry_category'])\n",
    "df_jobin['job_industry_category'].value_counts().idxmax()"
   ]
  },
  {
   "cell_type": "code",
   "execution_count": 256,
   "metadata": {},
   "outputs": [
    {
     "data": {
      "text/plain": [
       "203"
      ]
     },
     "execution_count": 256,
     "metadata": {},
     "output_type": "execute_result"
    }
   ],
   "source": [
    "#Count max of Financial Services\n",
    "df_jobin['job_industry_category'].value_counts().max()"
   ]
  },
  {
   "cell_type": "code",
   "execution_count": 257,
   "metadata": {},
   "outputs": [
    {
     "data": {
      "text/plain": [
       "835"
      ]
     },
     "execution_count": 257,
     "metadata": {},
     "output_type": "execute_result"
    }
   ],
   "source": [
    "#Check job category including dupplication\n",
    "df_jobin['job_industry_category'].count()"
   ]
  },
  {
   "cell_type": "code",
   "execution_count": 258,
   "metadata": {},
   "outputs": [
    {
     "data": {
      "text/plain": [
       "array(['Manufacturing', 'Property', 'Financial Services', 'Entertainment',\n",
       "       'Retail', 'IT', 'Telecommunications', 'Health', 'Argiculture'],\n",
       "      dtype=object)"
      ]
     },
     "execution_count": 258,
     "metadata": {},
     "output_type": "execute_result"
    }
   ],
   "source": [
    "#Check job category excluding dupplication\n",
    "df_jobin['job_industry_category'].unique()"
   ]
  },
  {
   "cell_type": "code",
   "execution_count": 259,
   "metadata": {},
   "outputs": [
    {
     "data": {
      "text/plain": [
       "9"
      ]
     },
     "execution_count": 259,
     "metadata": {},
     "output_type": "execute_result"
    }
   ],
   "source": [
    "#Check number of job category excluding dupplication\n",
    "df_jobin.job_industry_category.drop_duplicates().count()"
   ]
  },
  {
   "cell_type": "markdown",
   "metadata": {},
   "source": [
    "5. Wealth_Segment"
   ]
  },
  {
   "cell_type": "code",
   "execution_count": 260,
   "metadata": {},
   "outputs": [
    {
     "data": {
      "text/plain": [
       "array(['Mass Customer', 'Affluent Customer', 'High Net Worth'],\n",
       "      dtype=object)"
      ]
     },
     "execution_count": 260,
     "metadata": {},
     "output_type": "execute_result"
    }
   ],
   "source": [
    "#count unique values in wealth_segment\n",
    "df_newcustomerlist['wealth_segment'].unique()"
   ]
  },
  {
   "cell_type": "code",
   "execution_count": 261,
   "metadata": {},
   "outputs": [
    {
     "data": {
      "text/plain": [
       "'Mass Customer'"
      ]
     },
     "execution_count": 261,
     "metadata": {},
     "output_type": "execute_result"
    }
   ],
   "source": [
    "#count most frequent item in wealth_segment\n",
    "df_newcustomerlist['wealth_segment'].value_counts().idxmax()"
   ]
  },
  {
   "cell_type": "code",
   "execution_count": 262,
   "metadata": {},
   "outputs": [
    {
     "data": {
      "text/plain": [
       "508"
      ]
     },
     "execution_count": 262,
     "metadata": {},
     "output_type": "execute_result"
    }
   ],
   "source": [
    "#Count max of Mass Customer\n",
    "df_newcustomerlist['wealth_segment'].value_counts().max()"
   ]
  },
  {
   "cell_type": "code",
   "execution_count": 263,
   "metadata": {},
   "outputs": [
    {
     "data": {
      "text/html": [
       "<div>\n",
       "<style scoped>\n",
       "    .dataframe tbody tr th:only-of-type {\n",
       "        vertical-align: middle;\n",
       "    }\n",
       "\n",
       "    .dataframe tbody tr th {\n",
       "        vertical-align: top;\n",
       "    }\n",
       "\n",
       "    .dataframe thead tr th {\n",
       "        text-align: left;\n",
       "    }\n",
       "</style>\n",
       "<table border=\"1\" class=\"dataframe\">\n",
       "  <thead>\n",
       "    <tr>\n",
       "      <th></th>\n",
       "      <th>wealth_segment</th>\n",
       "      <th colspan=\"3\" halign=\"left\">Value</th>\n",
       "      <th colspan=\"3\" halign=\"left\">tenure</th>\n",
       "    </tr>\n",
       "    <tr>\n",
       "      <th></th>\n",
       "      <th></th>\n",
       "      <th>min</th>\n",
       "      <th>max</th>\n",
       "      <th>sum</th>\n",
       "      <th>min</th>\n",
       "      <th>max</th>\n",
       "      <th>sum</th>\n",
       "    </tr>\n",
       "  </thead>\n",
       "  <tbody>\n",
       "    <tr>\n",
       "      <th>0</th>\n",
       "      <td>Affluent Customer</td>\n",
       "      <td>0.3570</td>\n",
       "      <td>1.718750</td>\n",
       "      <td>209.497031</td>\n",
       "      <td>0</td>\n",
       "      <td>22</td>\n",
       "      <td>2776</td>\n",
       "    </tr>\n",
       "    <tr>\n",
       "      <th>1</th>\n",
       "      <td>High Net Worth</td>\n",
       "      <td>0.3995</td>\n",
       "      <td>1.671875</td>\n",
       "      <td>222.839344</td>\n",
       "      <td>0</td>\n",
       "      <td>22</td>\n",
       "      <td>2940</td>\n",
       "    </tr>\n",
       "    <tr>\n",
       "      <th>2</th>\n",
       "      <td>Mass Customer</td>\n",
       "      <td>0.3400</td>\n",
       "      <td>1.718750</td>\n",
       "      <td>449.377719</td>\n",
       "      <td>1</td>\n",
       "      <td>22</td>\n",
       "      <td>5672</td>\n",
       "    </tr>\n",
       "  </tbody>\n",
       "</table>\n",
       "</div>"
      ],
      "text/plain": [
       "      wealth_segment   Value                       tenure          \n",
       "                         min       max         sum    min max   sum\n",
       "0  Affluent Customer  0.3570  1.718750  209.497031      0  22  2776\n",
       "1     High Net Worth  0.3995  1.671875  222.839344      0  22  2940\n",
       "2      Mass Customer  0.3400  1.718750  449.377719      1  22  5672"
      ]
     },
     "execution_count": 263,
     "metadata": {},
     "output_type": "execute_result"
    }
   ],
   "source": [
    "#Checking illogcal arrangement in wealth_segment\n",
    "test3 = df_newcustomerlist.groupby(['wealth_segment'])['Value','tenure'].agg(['min', 'max', 'sum'])\n",
    "test3 = test3.reset_index()\n",
    "test3\n",
    "#Max of property value does not fall into High Net Worth of Wealth Segment?\n",
    "#Max of tenure remains same in all Wealth Segment?\n",
    "#Mass Customer holds higher total property value and tenure than High Net Worth?"
   ]
  },
  {
   "cell_type": "markdown",
   "metadata": {},
   "source": [
    "6.deceased_indicator"
   ]
  },
  {
   "cell_type": "code",
   "execution_count": 264,
   "metadata": {},
   "outputs": [
    {
     "data": {
      "text/plain": [
       "array(['N'], dtype=object)"
      ]
     },
     "execution_count": 264,
     "metadata": {},
     "output_type": "execute_result"
    }
   ],
   "source": [
    "#deceased_indicator\n",
    "df_newcustomerlist['deceased_indicator'].unique()"
   ]
  },
  {
   "cell_type": "markdown",
   "metadata": {},
   "source": [
    "7. owns_car"
   ]
  },
  {
   "cell_type": "code",
   "execution_count": 265,
   "metadata": {},
   "outputs": [
    {
     "data": {
      "text/plain": [
       "array(['Yes', 'No'], dtype=object)"
      ]
     },
     "execution_count": 265,
     "metadata": {},
     "output_type": "execute_result"
    }
   ],
   "source": [
    "#owns_car\n",
    "df_newcustomerlist['owns_car'].unique()"
   ]
  },
  {
   "cell_type": "code",
   "execution_count": 266,
   "metadata": {},
   "outputs": [
    {
     "data": {
      "text/plain": [
       "'No'"
      ]
     },
     "execution_count": 266,
     "metadata": {},
     "output_type": "execute_result"
    }
   ],
   "source": [
    "df_newcustomerlist['owns_car'].value_counts().idxmax()"
   ]
  },
  {
   "cell_type": "code",
   "execution_count": 267,
   "metadata": {},
   "outputs": [
    {
     "data": {
      "text/plain": [
       "507"
      ]
     },
     "execution_count": 267,
     "metadata": {},
     "output_type": "execute_result"
    }
   ],
   "source": [
    "df_newcustomerlist['owns_car'].value_counts().max()"
   ]
  },
  {
   "cell_type": "markdown",
   "metadata": {},
   "source": [
    "8. Tenure"
   ]
  },
  {
   "cell_type": "code",
   "execution_count": 268,
   "metadata": {},
   "outputs": [
    {
     "data": {
      "text/html": [
       "<div>\n",
       "<style scoped>\n",
       "    .dataframe tbody tr th:only-of-type {\n",
       "        vertical-align: middle;\n",
       "    }\n",
       "\n",
       "    .dataframe tbody tr th {\n",
       "        vertical-align: top;\n",
       "    }\n",
       "\n",
       "    .dataframe thead th {\n",
       "        text-align: right;\n",
       "    }\n",
       "</style>\n",
       "<table border=\"1\" class=\"dataframe\">\n",
       "  <thead>\n",
       "    <tr style=\"text-align: right;\">\n",
       "      <th></th>\n",
       "      <th>first_name</th>\n",
       "      <th>last_name</th>\n",
       "      <th>past_3_years_bike_related_purchases</th>\n",
       "      <th>job_title</th>\n",
       "      <th>job_industry_category</th>\n",
       "      <th>wealth_segment</th>\n",
       "      <th>tenure</th>\n",
       "      <th>property_valuation</th>\n",
       "      <th>Rank</th>\n",
       "      <th>Value</th>\n",
       "    </tr>\n",
       "  </thead>\n",
       "  <tbody>\n",
       "    <tr>\n",
       "      <th>664</th>\n",
       "      <td>Chicky</td>\n",
       "      <td>Sinclar</td>\n",
       "      <td>43</td>\n",
       "      <td>Operator</td>\n",
       "      <td>IT</td>\n",
       "      <td>High Net Worth</td>\n",
       "      <td>0</td>\n",
       "      <td>4</td>\n",
       "      <td>662</td>\n",
       "      <td>0.711875</td>\n",
       "    </tr>\n",
       "    <tr>\n",
       "      <th>984</th>\n",
       "      <td>Pauline</td>\n",
       "      <td>Dallosso</td>\n",
       "      <td>82</td>\n",
       "      <td>Desktop Support Technician</td>\n",
       "      <td>IT</td>\n",
       "      <td>Affluent Customer</td>\n",
       "      <td>0</td>\n",
       "      <td>10</td>\n",
       "      <td>985</td>\n",
       "      <td>0.408000</td>\n",
       "    </tr>\n",
       "  </tbody>\n",
       "</table>\n",
       "</div>"
      ],
      "text/plain": [
       "    first_name last_name  past_3_years_bike_related_purchases  \\\n",
       "664     Chicky   Sinclar                                   43   \n",
       "984    Pauline  Dallosso                                   82   \n",
       "\n",
       "                      job_title job_industry_category     wealth_segment  \\\n",
       "664                    Operator                    IT     High Net Worth   \n",
       "984  Desktop Support Technician                    IT  Affluent Customer   \n",
       "\n",
       "     tenure  property_valuation  Rank     Value  \n",
       "664       0                   4   662  0.711875  \n",
       "984       0                  10   985  0.408000  "
      ]
     },
     "execution_count": 268,
     "metadata": {},
     "output_type": "execute_result"
    }
   ],
   "source": [
    "#tenure\n",
    "#count and show rows of tenure = 0\n",
    "df_newcustomerlist[df_newcustomerlist['tenure'] == 0][['first_name','last_name','past_3_years_bike_related_purchases','job_title','job_industry_category','wealth_segment','tenure','property_valuation','Rank','Value']]\n",
    "#There are 2 customers in High Net Worth and Affluent Customer Wealth_segment having 0 tenure, but holding certain property value and ranking, it means illogical."
   ]
  },
  {
   "cell_type": "markdown",
   "metadata": {},
   "source": [
    "9. Address"
   ]
  },
  {
   "cell_type": "code",
   "execution_count": 269,
   "metadata": {},
   "outputs": [
    {
     "data": {
      "text/plain": [
       "0"
      ]
     },
     "execution_count": 269,
     "metadata": {},
     "output_type": "execute_result"
    }
   ],
   "source": [
    "#Address\n",
    "df_newcustomerlist.duplicated(subset=['address']).sum()"
   ]
  },
  {
   "cell_type": "code",
   "execution_count": 270,
   "metadata": {},
   "outputs": [
    {
     "data": {
      "text/plain": [
       "721         0 Bay Drive\n",
       "138    0 Dexter Parkway\n",
       "624       0 Emmet Trail\n",
       "300      0 Esker Avenue\n",
       "685      0 Express Lane\n",
       "Name: address, dtype: object"
      ]
     },
     "execution_count": 270,
     "metadata": {},
     "output_type": "execute_result"
    }
   ],
   "source": [
    "#There is an issue of address starting with 0\n",
    "sort_address = df_newcustomerlist.sort_values('address')\n",
    "sort_address['address'].head()"
   ]
  },
  {
   "cell_type": "code",
   "execution_count": 271,
   "metadata": {},
   "outputs": [
    {
     "data": {
      "text/plain": [
       "721          Bay Drive\n",
       "138     Dexter Parkway\n",
       "624        Emmet Trail\n",
       "300       Esker Avenue\n",
       "685       Express Lane\n",
       "Name: address, dtype: object"
      ]
     },
     "execution_count": 271,
     "metadata": {},
     "output_type": "execute_result"
    }
   ],
   "source": [
    "#Fix address number = 0 and modify address number has 0 before it.\n",
    "#String manipulation in python: https://www.pythonforbeginners.com/basics/string-manipulation-in-python\n",
    "df_newcustomerlist['address'] = df_newcustomerlist['address'].str.strip(\"0\")\n",
    "df_newcustomerlist['address'].sort_values().head()"
   ]
  },
  {
   "cell_type": "code",
   "execution_count": 272,
   "metadata": {},
   "outputs": [
    {
     "data": {
      "text/plain": [
       "0          45 Shopko Center\n",
       "1         14 Mccormick Park\n",
       "2       5 Colorado Crossing\n",
       "3        207 Annamark Plaza\n",
       "4         115 Montana Place\n",
       "5     89105 Pearson Terrace\n",
       "6         7 Nevada Crossing\n",
       "7          85 Carioca Point\n",
       "8            717 West Drive\n",
       "9      80 Scofield Junction\n",
       "10       3682 Crowley Point\n",
       "11      3 Golden Leaf Point\n",
       "12         484 North Avenue\n",
       "13      591 Anzinger Circle\n",
       "14           39 Kedzie Pass\n",
       "15        64 Granby Parkway\n",
       "16       610 Swallow Street\n",
       "17            61 4th Street\n",
       "18         1550 Russell Way\n",
       "19          193 North Point\n",
       "Name: address, dtype: object"
      ]
     },
     "execution_count": 272,
     "metadata": {},
     "output_type": "execute_result"
    }
   ],
   "source": [
    "#Problems??? postcode and addresses are not match\n",
    "#There are a few invalid addresses, địa chỉ sai\n",
    "#df_newcustomerlist[df_newcustomerlist['postcode'] == 4000][['tenure','address','postcode','state','country']]\n",
    "#Show all cardinal numbers\n",
    "df_newcustomerlist['address'].head(20)\n",
    "#Address of Row 17 displays as: 61 4th Street\n"
   ]
  },
  {
   "cell_type": "code",
   "execution_count": 273,
   "metadata": {},
   "outputs": [
    {
     "data": {
      "text/plain": [
       "0          45 Shopko Center\n",
       "1         14 Mccormick Park\n",
       "2       5 Colorado Crossing\n",
       "3        207 Annamark Plaza\n",
       "4         115 Montana Place\n",
       "5     89105 Pearson Terrace\n",
       "6         7 Nevada Crossing\n",
       "7          85 Carioca Point\n",
       "8            717 West Drive\n",
       "9      80 Scofield Junction\n",
       "10       3682 Crowley Point\n",
       "11      3 Golden Leaf Point\n",
       "12         484 North Avenue\n",
       "13      591 Anzinger Circle\n",
       "14           39 Kedzie Pass\n",
       "15        64 Granby Parkway\n",
       "16       610 Swallow Street\n",
       "17               614 Street\n",
       "18         1550 Russell Way\n",
       "19          193 North Point\n",
       "Name: address, dtype: object"
      ]
     },
     "execution_count": 273,
     "metadata": {},
     "output_type": "execute_result"
    }
   ],
   "source": [
    "#Fixxing Address by converting ordinal to cardinal number\n",
    "df_newcustomerlist.address = df_newcustomerlist.address.str.replace(r\"(\\d+)(st|nd|rd|th)\\b\", r\"\\1\")\n",
    "df_newcustomerlist.address = df_newcustomerlist.address.str.replace(r'(\\d)\\s+(\\d)', r'\\1\\2')\n",
    "df_newcustomerlist.address.head(20)"
   ]
  },
  {
   "cell_type": "code",
   "execution_count": 274,
   "metadata": {},
   "outputs": [],
   "source": [
    "#Convert Cardinal number to Ordinal number\n",
    "#inflect.py - Correctly generate plurals, singular nouns, ordinals, indefinite articles; convert numbers to words.\n",
    "#Sample code: https://inflection.readthedocs.io/en/latest/"
   ]
  },
  {
   "cell_type": "markdown",
   "metadata": {},
   "source": [
    "10. Postcode & State"
   ]
  },
  {
   "cell_type": "code",
   "execution_count": 275,
   "metadata": {},
   "outputs": [
    {
     "data": {
      "text/plain": [
       "array(['QLD', 'NSW', 'VIC'], dtype=object)"
      ]
     },
     "execution_count": 275,
     "metadata": {},
     "output_type": "execute_result"
    }
   ],
   "source": [
    "df_newcustomerlist['state'].unique()"
   ]
  },
  {
   "cell_type": "code",
   "execution_count": 276,
   "metadata": {},
   "outputs": [
    {
     "data": {
      "text/html": [
       "<div>\n",
       "<style scoped>\n",
       "    .dataframe tbody tr th:only-of-type {\n",
       "        vertical-align: middle;\n",
       "    }\n",
       "\n",
       "    .dataframe tbody tr th {\n",
       "        vertical-align: top;\n",
       "    }\n",
       "\n",
       "    .dataframe thead th {\n",
       "        text-align: right;\n",
       "    }\n",
       "</style>\n",
       "<table border=\"1\" class=\"dataframe\">\n",
       "  <thead>\n",
       "    <tr style=\"text-align: right;\">\n",
       "      <th></th>\n",
       "      <th>state</th>\n",
       "      <th>postcode</th>\n",
       "      <th>count</th>\n",
       "    </tr>\n",
       "  </thead>\n",
       "  <tbody>\n",
       "    <tr>\n",
       "      <th>128</th>\n",
       "      <td>NSW</td>\n",
       "      <td>2232</td>\n",
       "      <td>9</td>\n",
       "    </tr>\n",
       "    <tr>\n",
       "      <th>76</th>\n",
       "      <td>NSW</td>\n",
       "      <td>2145</td>\n",
       "      <td>9</td>\n",
       "    </tr>\n",
       "    <tr>\n",
       "      <th>377</th>\n",
       "      <td>VIC</td>\n",
       "      <td>3029</td>\n",
       "      <td>7</td>\n",
       "    </tr>\n",
       "    <tr>\n",
       "      <th>302</th>\n",
       "      <td>QLD</td>\n",
       "      <td>4207</td>\n",
       "      <td>7</td>\n",
       "    </tr>\n",
       "    <tr>\n",
       "      <th>520</th>\n",
       "      <td>VIC</td>\n",
       "      <td>3977</td>\n",
       "      <td>7</td>\n",
       "    </tr>\n",
       "  </tbody>\n",
       "</table>\n",
       "</div>"
      ],
      "text/plain": [
       "    state  postcode  count\n",
       "128   NSW      2232      9\n",
       "76    NSW      2145      9\n",
       "377   VIC      3029      7\n",
       "302   QLD      4207      7\n",
       "520   VIC      3977      7"
      ]
     },
     "execution_count": 276,
     "metadata": {},
     "output_type": "execute_result"
    }
   ],
   "source": [
    "#Count số lần của postcode xuất hiện trong 1 bang\n",
    "count = df_newcustomerlist.groupby(['state', 'postcode'],as_index=False)[['first_name']].count()\n",
    "count = count.set_axis(['state', 'postcode', 'count'], axis=1, inplace=False)\n",
    "count.sort_values(by='count',ascending=False).head()"
   ]
  },
  {
   "cell_type": "code",
   "execution_count": 277,
   "metadata": {},
   "outputs": [
    {
     "data": {
      "text/html": [
       "<div>\n",
       "<style scoped>\n",
       "    .dataframe tbody tr th:only-of-type {\n",
       "        vertical-align: middle;\n",
       "    }\n",
       "\n",
       "    .dataframe tbody tr th {\n",
       "        vertical-align: top;\n",
       "    }\n",
       "\n",
       "    .dataframe thead th {\n",
       "        text-align: right;\n",
       "    }\n",
       "</style>\n",
       "<table border=\"1\" class=\"dataframe\">\n",
       "  <thead>\n",
       "    <tr style=\"text-align: right;\">\n",
       "      <th></th>\n",
       "      <th>min</th>\n",
       "      <th>max</th>\n",
       "      <th>count</th>\n",
       "      <th>sum</th>\n",
       "    </tr>\n",
       "    <tr>\n",
       "      <th>state</th>\n",
       "      <th></th>\n",
       "      <th></th>\n",
       "      <th></th>\n",
       "      <th></th>\n",
       "    </tr>\n",
       "  </thead>\n",
       "  <tbody>\n",
       "    <tr>\n",
       "      <th>NSW</th>\n",
       "      <td>2000</td>\n",
       "      <td>2880</td>\n",
       "      <td>506</td>\n",
       "      <td>1160902</td>\n",
       "    </tr>\n",
       "    <tr>\n",
       "      <th>QLD</th>\n",
       "      <td>4000</td>\n",
       "      <td>4879</td>\n",
       "      <td>228</td>\n",
       "      <td>976988</td>\n",
       "    </tr>\n",
       "    <tr>\n",
       "      <th>VIC</th>\n",
       "      <td>3000</td>\n",
       "      <td>3981</td>\n",
       "      <td>266</td>\n",
       "      <td>881337</td>\n",
       "    </tr>\n",
       "  </tbody>\n",
       "</table>\n",
       "</div>"
      ],
      "text/plain": [
       "        min   max  count      sum\n",
       "state                            \n",
       "NSW    2000  2880    506  1160902\n",
       "QLD    4000  4879    228   976988\n",
       "VIC    3000  3981    266   881337"
      ]
     },
     "execution_count": 277,
     "metadata": {},
     "output_type": "execute_result"
    }
   ],
   "source": [
    "#dùng groupby filter state tìm min max của postcode trong từng state\n",
    "test1= df_newcustomerlist.groupby(['state'])['postcode'].agg(['min', 'max', 'count','sum'])\n",
    "test1.head()\n",
    "#List of postcode: https://www.costlessquotes.com.au/postcode_tool/postcode_list_NSW.php\n",
    "#https://en.wikipedia.org/wiki/Postcodes_in_Australia"
   ]
  },
  {
   "cell_type": "markdown",
   "metadata": {},
   "source": [
    "11. Country"
   ]
  },
  {
   "cell_type": "code",
   "execution_count": 278,
   "metadata": {},
   "outputs": [
    {
     "data": {
      "text/plain": [
       "array(['Australia'], dtype=object)"
      ]
     },
     "execution_count": 278,
     "metadata": {},
     "output_type": "execute_result"
    }
   ],
   "source": [
    "df_newcustomerlist['country'].unique()"
   ]
  },
  {
   "cell_type": "markdown",
   "metadata": {},
   "source": [
    "12. Property_valuation"
   ]
  },
  {
   "cell_type": "code",
   "execution_count": 279,
   "metadata": {},
   "outputs": [
    {
     "name": "stdout",
     "output_type": "stream",
     "text": [
      "min valuation:  1\n",
      "max valuation:  12\n"
     ]
    }
   ],
   "source": [
    "print('min valuation: ', df_newcustomerlist['property_valuation'].min())\n",
    "print('max valuation: ', df_newcustomerlist['property_valuation'].max())"
   ]
  },
  {
   "cell_type": "code",
   "execution_count": 280,
   "metadata": {},
   "outputs": [
    {
     "data": {
      "text/plain": [
       "array([ 6, 11,  5,  1,  9,  7, 10,  8,  4,  2, 12,  3], dtype=int64)"
      ]
     },
     "execution_count": 280,
     "metadata": {},
     "output_type": "execute_result"
    }
   ],
   "source": [
    "df_newcustomerlist['property_valuation'].unique()"
   ]
  },
  {
   "cell_type": "markdown",
   "metadata": {},
   "source": [
    "13. Rank"
   ]
  },
  {
   "cell_type": "code",
   "execution_count": 281,
   "metadata": {},
   "outputs": [
    {
     "name": "stdout",
     "output_type": "stream",
     "text": [
      "min rank:  1\n",
      "max rank:  1000\n"
     ]
    }
   ],
   "source": [
    "#Find missing array from 1-1000\n",
    "print('min rank: ', df_newcustomerlist['Rank'].min())\n",
    "print('max rank: ', df_newcustomerlist['Rank'].max())"
   ]
  },
  {
   "cell_type": "code",
   "execution_count": 282,
   "metadata": {},
   "outputs": [
    {
     "data": {
      "text/plain": [
       "0    1\n",
       "1    1\n",
       "2    1\n",
       "3    4\n",
       "4    4\n",
       "Name: Rank, dtype: int64"
      ]
     },
     "execution_count": 282,
     "metadata": {},
     "output_type": "execute_result"
    }
   ],
   "source": [
    "df_newcustomerlist['Rank'].sort_values().head()"
   ]
  },
  {
   "cell_type": "code",
   "execution_count": 283,
   "metadata": {},
   "outputs": [
    {
     "data": {
      "text/html": [
       "<div>\n",
       "<style scoped>\n",
       "    .dataframe tbody tr th:only-of-type {\n",
       "        vertical-align: middle;\n",
       "    }\n",
       "\n",
       "    .dataframe tbody tr th {\n",
       "        vertical-align: top;\n",
       "    }\n",
       "\n",
       "    .dataframe thead th {\n",
       "        text-align: right;\n",
       "    }\n",
       "</style>\n",
       "<table border=\"1\" class=\"dataframe\">\n",
       "  <thead>\n",
       "    <tr style=\"text-align: right;\">\n",
       "      <th></th>\n",
       "      <th>first_name</th>\n",
       "      <th>last_name</th>\n",
       "      <th>gender</th>\n",
       "      <th>past_3_years_bike_related_purchases</th>\n",
       "      <th>DOB</th>\n",
       "      <th>job_title</th>\n",
       "      <th>job_industry_category</th>\n",
       "      <th>wealth_segment</th>\n",
       "      <th>deceased_indicator</th>\n",
       "      <th>owns_car</th>\n",
       "      <th>...</th>\n",
       "      <th>state</th>\n",
       "      <th>country</th>\n",
       "      <th>property_valuation</th>\n",
       "      <th>Unnamed: 16</th>\n",
       "      <th>Unnamed: 17</th>\n",
       "      <th>Unnamed: 18</th>\n",
       "      <th>Unnamed: 19</th>\n",
       "      <th>Unnamed: 20</th>\n",
       "      <th>Rank</th>\n",
       "      <th>Value</th>\n",
       "    </tr>\n",
       "  </thead>\n",
       "  <tbody>\n",
       "    <tr>\n",
       "      <th>0</th>\n",
       "      <td>Chickie</td>\n",
       "      <td>Brister</td>\n",
       "      <td>Male</td>\n",
       "      <td>86</td>\n",
       "      <td>1957-07-12</td>\n",
       "      <td>General Manager</td>\n",
       "      <td>Manufacturing</td>\n",
       "      <td>Mass Customer</td>\n",
       "      <td>N</td>\n",
       "      <td>Yes</td>\n",
       "      <td>...</td>\n",
       "      <td>QLD</td>\n",
       "      <td>Australia</td>\n",
       "      <td>6</td>\n",
       "      <td>0.87</td>\n",
       "      <td>1.0875</td>\n",
       "      <td>1.359375</td>\n",
       "      <td>1.155469</td>\n",
       "      <td>1</td>\n",
       "      <td>1</td>\n",
       "      <td>1.718750</td>\n",
       "    </tr>\n",
       "    <tr>\n",
       "      <th>1</th>\n",
       "      <td>Morly</td>\n",
       "      <td>Genery</td>\n",
       "      <td>Male</td>\n",
       "      <td>69</td>\n",
       "      <td>1970-03-22</td>\n",
       "      <td>Structural Engineer</td>\n",
       "      <td>Property</td>\n",
       "      <td>Mass Customer</td>\n",
       "      <td>N</td>\n",
       "      <td>No</td>\n",
       "      <td>...</td>\n",
       "      <td>NSW</td>\n",
       "      <td>Australia</td>\n",
       "      <td>11</td>\n",
       "      <td>0.76</td>\n",
       "      <td>0.7600</td>\n",
       "      <td>0.950000</td>\n",
       "      <td>0.807500</td>\n",
       "      <td>1</td>\n",
       "      <td>1</td>\n",
       "      <td>1.718750</td>\n",
       "    </tr>\n",
       "    <tr>\n",
       "      <th>2</th>\n",
       "      <td>Ardelis</td>\n",
       "      <td>Forrester</td>\n",
       "      <td>Female</td>\n",
       "      <td>10</td>\n",
       "      <td>1974-08-28</td>\n",
       "      <td>Senior Cost Accountant</td>\n",
       "      <td>Financial Services</td>\n",
       "      <td>Affluent Customer</td>\n",
       "      <td>N</td>\n",
       "      <td>No</td>\n",
       "      <td>...</td>\n",
       "      <td>VIC</td>\n",
       "      <td>Australia</td>\n",
       "      <td>5</td>\n",
       "      <td>1.03</td>\n",
       "      <td>1.0300</td>\n",
       "      <td>1.030000</td>\n",
       "      <td>1.030000</td>\n",
       "      <td>1</td>\n",
       "      <td>1</td>\n",
       "      <td>1.718750</td>\n",
       "    </tr>\n",
       "    <tr>\n",
       "      <th>3</th>\n",
       "      <td>Lucine</td>\n",
       "      <td>Stutt</td>\n",
       "      <td>Female</td>\n",
       "      <td>64</td>\n",
       "      <td>1979-01-28</td>\n",
       "      <td>Account Representative III</td>\n",
       "      <td>Manufacturing</td>\n",
       "      <td>Affluent Customer</td>\n",
       "      <td>N</td>\n",
       "      <td>Yes</td>\n",
       "      <td>...</td>\n",
       "      <td>QLD</td>\n",
       "      <td>Australia</td>\n",
       "      <td>1</td>\n",
       "      <td>0.83</td>\n",
       "      <td>1.0375</td>\n",
       "      <td>1.037500</td>\n",
       "      <td>1.037500</td>\n",
       "      <td>4</td>\n",
       "      <td>2</td>\n",
       "      <td>1.703125</td>\n",
       "    </tr>\n",
       "    <tr>\n",
       "      <th>4</th>\n",
       "      <td>Melinda</td>\n",
       "      <td>Hadlee</td>\n",
       "      <td>Female</td>\n",
       "      <td>34</td>\n",
       "      <td>1965-09-21</td>\n",
       "      <td>Financial Analyst</td>\n",
       "      <td>Financial Services</td>\n",
       "      <td>Affluent Customer</td>\n",
       "      <td>N</td>\n",
       "      <td>No</td>\n",
       "      <td>...</td>\n",
       "      <td>NSW</td>\n",
       "      <td>Australia</td>\n",
       "      <td>9</td>\n",
       "      <td>0.73</td>\n",
       "      <td>0.7300</td>\n",
       "      <td>0.912500</td>\n",
       "      <td>0.912500</td>\n",
       "      <td>4</td>\n",
       "      <td>2</td>\n",
       "      <td>1.703125</td>\n",
       "    </tr>\n",
       "  </tbody>\n",
       "</table>\n",
       "<p>5 rows × 23 columns</p>\n",
       "</div>"
      ],
      "text/plain": [
       "  first_name  last_name  gender  past_3_years_bike_related_purchases  \\\n",
       "0    Chickie    Brister    Male                                   86   \n",
       "1      Morly     Genery    Male                                   69   \n",
       "2    Ardelis  Forrester  Female                                   10   \n",
       "3     Lucine      Stutt  Female                                   64   \n",
       "4    Melinda     Hadlee  Female                                   34   \n",
       "\n",
       "         DOB                   job_title job_industry_category  \\\n",
       "0 1957-07-12             General Manager         Manufacturing   \n",
       "1 1970-03-22         Structural Engineer              Property   \n",
       "2 1974-08-28      Senior Cost Accountant    Financial Services   \n",
       "3 1979-01-28  Account Representative III         Manufacturing   \n",
       "4 1965-09-21           Financial Analyst    Financial Services   \n",
       "\n",
       "      wealth_segment deceased_indicator owns_car  ...  state    country  \\\n",
       "0      Mass Customer                  N      Yes  ...    QLD  Australia   \n",
       "1      Mass Customer                  N       No  ...    NSW  Australia   \n",
       "2  Affluent Customer                  N       No  ...    VIC  Australia   \n",
       "3  Affluent Customer                  N      Yes  ...    QLD  Australia   \n",
       "4  Affluent Customer                  N       No  ...    NSW  Australia   \n",
       "\n",
       "   property_valuation Unnamed: 16 Unnamed: 17  Unnamed: 18  Unnamed: 19  \\\n",
       "0                   6        0.87      1.0875     1.359375     1.155469   \n",
       "1                  11        0.76      0.7600     0.950000     0.807500   \n",
       "2                   5        1.03      1.0300     1.030000     1.030000   \n",
       "3                   1        0.83      1.0375     1.037500     1.037500   \n",
       "4                   9        0.73      0.7300     0.912500     0.912500   \n",
       "\n",
       "   Unnamed: 20  Rank     Value  \n",
       "0            1     1  1.718750  \n",
       "1            1     1  1.718750  \n",
       "2            1     1  1.718750  \n",
       "3            4     2  1.703125  \n",
       "4            4     2  1.703125  \n",
       "\n",
       "[5 rows x 23 columns]"
      ]
     },
     "execution_count": 283,
     "metadata": {},
     "output_type": "execute_result"
    }
   ],
   "source": [
    "#Find out if Rank and Value are sorted in ascending\n",
    "#Dense Rank\n",
    "df_newcustomerlist['Rank'] = df_newcustomerlist['Value'].rank(ascending=0, method ='dense').astype('int64')\n",
    "df_newcustomerlist.head()"
   ]
  },
  {
   "cell_type": "markdown",
   "metadata": {},
   "source": [
    "14. Value"
   ]
  },
  {
   "cell_type": "code",
   "execution_count": 284,
   "metadata": {},
   "outputs": [
    {
     "data": {
      "text/plain": [
       "0    1718750.0\n",
       "1    1718750.0\n",
       "2    1718750.0\n",
       "Name: Value, dtype: float64"
      ]
     },
     "execution_count": 284,
     "metadata": {},
     "output_type": "execute_result"
    }
   ],
   "source": [
    "#Converting unit of value from million to numbers\n",
    "df_newcustomerlist['Value'] = df_newcustomerlist['Value']*1000000\n",
    "#df_newcustomerlist.iloc[:5,22]\n",
    "df_newcustomerlist['Value'].head(3)"
   ]
  },
  {
   "cell_type": "code",
   "execution_count": 285,
   "metadata": {},
   "outputs": [
    {
     "data": {
      "text/html": [
       "<div>\n",
       "<style scoped>\n",
       "    .dataframe tbody tr th:only-of-type {\n",
       "        vertical-align: middle;\n",
       "    }\n",
       "\n",
       "    .dataframe tbody tr th {\n",
       "        vertical-align: top;\n",
       "    }\n",
       "\n",
       "    .dataframe thead th {\n",
       "        text-align: right;\n",
       "    }\n",
       "</style>\n",
       "<table border=\"1\" class=\"dataframe\">\n",
       "  <thead>\n",
       "    <tr style=\"text-align: right;\">\n",
       "      <th></th>\n",
       "      <th>first_name</th>\n",
       "      <th>last_name</th>\n",
       "      <th>gender</th>\n",
       "      <th>past_3_years_bike_related_purchases</th>\n",
       "      <th>DOB</th>\n",
       "      <th>job_title</th>\n",
       "      <th>job_industry_category</th>\n",
       "      <th>wealth_segment</th>\n",
       "      <th>deceased_indicator</th>\n",
       "      <th>owns_car</th>\n",
       "      <th>...</th>\n",
       "      <th>state</th>\n",
       "      <th>country</th>\n",
       "      <th>property_valuation</th>\n",
       "      <th>Unnamed: 16</th>\n",
       "      <th>Unnamed: 17</th>\n",
       "      <th>Unnamed: 18</th>\n",
       "      <th>Unnamed: 19</th>\n",
       "      <th>Unnamed: 20</th>\n",
       "      <th>Rank</th>\n",
       "      <th>Value</th>\n",
       "    </tr>\n",
       "  </thead>\n",
       "  <tbody>\n",
       "    <tr>\n",
       "      <th>0</th>\n",
       "      <td>Chickie</td>\n",
       "      <td>Brister</td>\n",
       "      <td>Male</td>\n",
       "      <td>86</td>\n",
       "      <td>1957-07-12</td>\n",
       "      <td>General Manager</td>\n",
       "      <td>Manufacturing</td>\n",
       "      <td>Mass Customer</td>\n",
       "      <td>N</td>\n",
       "      <td>Yes</td>\n",
       "      <td>...</td>\n",
       "      <td>QLD</td>\n",
       "      <td>Australia</td>\n",
       "      <td>6</td>\n",
       "      <td>0.87</td>\n",
       "      <td>1.0875</td>\n",
       "      <td>1.359375</td>\n",
       "      <td>1.155469</td>\n",
       "      <td>1</td>\n",
       "      <td>1</td>\n",
       "      <td>1718750</td>\n",
       "    </tr>\n",
       "    <tr>\n",
       "      <th>1</th>\n",
       "      <td>Morly</td>\n",
       "      <td>Genery</td>\n",
       "      <td>Male</td>\n",
       "      <td>69</td>\n",
       "      <td>1970-03-22</td>\n",
       "      <td>Structural Engineer</td>\n",
       "      <td>Property</td>\n",
       "      <td>Mass Customer</td>\n",
       "      <td>N</td>\n",
       "      <td>No</td>\n",
       "      <td>...</td>\n",
       "      <td>NSW</td>\n",
       "      <td>Australia</td>\n",
       "      <td>11</td>\n",
       "      <td>0.76</td>\n",
       "      <td>0.7600</td>\n",
       "      <td>0.950000</td>\n",
       "      <td>0.807500</td>\n",
       "      <td>1</td>\n",
       "      <td>1</td>\n",
       "      <td>1718750</td>\n",
       "    </tr>\n",
       "    <tr>\n",
       "      <th>2</th>\n",
       "      <td>Ardelis</td>\n",
       "      <td>Forrester</td>\n",
       "      <td>Female</td>\n",
       "      <td>10</td>\n",
       "      <td>1974-08-28</td>\n",
       "      <td>Senior Cost Accountant</td>\n",
       "      <td>Financial Services</td>\n",
       "      <td>Affluent Customer</td>\n",
       "      <td>N</td>\n",
       "      <td>No</td>\n",
       "      <td>...</td>\n",
       "      <td>VIC</td>\n",
       "      <td>Australia</td>\n",
       "      <td>5</td>\n",
       "      <td>1.03</td>\n",
       "      <td>1.0300</td>\n",
       "      <td>1.030000</td>\n",
       "      <td>1.030000</td>\n",
       "      <td>1</td>\n",
       "      <td>1</td>\n",
       "      <td>1718750</td>\n",
       "    </tr>\n",
       "    <tr>\n",
       "      <th>3</th>\n",
       "      <td>Lucine</td>\n",
       "      <td>Stutt</td>\n",
       "      <td>Female</td>\n",
       "      <td>64</td>\n",
       "      <td>1979-01-28</td>\n",
       "      <td>Account Representative III</td>\n",
       "      <td>Manufacturing</td>\n",
       "      <td>Affluent Customer</td>\n",
       "      <td>N</td>\n",
       "      <td>Yes</td>\n",
       "      <td>...</td>\n",
       "      <td>QLD</td>\n",
       "      <td>Australia</td>\n",
       "      <td>1</td>\n",
       "      <td>0.83</td>\n",
       "      <td>1.0375</td>\n",
       "      <td>1.037500</td>\n",
       "      <td>1.037500</td>\n",
       "      <td>4</td>\n",
       "      <td>2</td>\n",
       "      <td>1703125</td>\n",
       "    </tr>\n",
       "    <tr>\n",
       "      <th>4</th>\n",
       "      <td>Melinda</td>\n",
       "      <td>Hadlee</td>\n",
       "      <td>Female</td>\n",
       "      <td>34</td>\n",
       "      <td>1965-09-21</td>\n",
       "      <td>Financial Analyst</td>\n",
       "      <td>Financial Services</td>\n",
       "      <td>Affluent Customer</td>\n",
       "      <td>N</td>\n",
       "      <td>No</td>\n",
       "      <td>...</td>\n",
       "      <td>NSW</td>\n",
       "      <td>Australia</td>\n",
       "      <td>9</td>\n",
       "      <td>0.73</td>\n",
       "      <td>0.7300</td>\n",
       "      <td>0.912500</td>\n",
       "      <td>0.912500</td>\n",
       "      <td>4</td>\n",
       "      <td>2</td>\n",
       "      <td>1703125</td>\n",
       "    </tr>\n",
       "  </tbody>\n",
       "</table>\n",
       "<p>5 rows × 23 columns</p>\n",
       "</div>"
      ],
      "text/plain": [
       "  first_name  last_name  gender  past_3_years_bike_related_purchases  \\\n",
       "0    Chickie    Brister    Male                                   86   \n",
       "1      Morly     Genery    Male                                   69   \n",
       "2    Ardelis  Forrester  Female                                   10   \n",
       "3     Lucine      Stutt  Female                                   64   \n",
       "4    Melinda     Hadlee  Female                                   34   \n",
       "\n",
       "         DOB                   job_title job_industry_category  \\\n",
       "0 1957-07-12             General Manager         Manufacturing   \n",
       "1 1970-03-22         Structural Engineer              Property   \n",
       "2 1974-08-28      Senior Cost Accountant    Financial Services   \n",
       "3 1979-01-28  Account Representative III         Manufacturing   \n",
       "4 1965-09-21           Financial Analyst    Financial Services   \n",
       "\n",
       "      wealth_segment deceased_indicator owns_car  ...  state    country  \\\n",
       "0      Mass Customer                  N      Yes  ...    QLD  Australia   \n",
       "1      Mass Customer                  N       No  ...    NSW  Australia   \n",
       "2  Affluent Customer                  N       No  ...    VIC  Australia   \n",
       "3  Affluent Customer                  N      Yes  ...    QLD  Australia   \n",
       "4  Affluent Customer                  N       No  ...    NSW  Australia   \n",
       "\n",
       "   property_valuation Unnamed: 16 Unnamed: 17  Unnamed: 18  Unnamed: 19  \\\n",
       "0                   6        0.87      1.0875     1.359375     1.155469   \n",
       "1                  11        0.76      0.7600     0.950000     0.807500   \n",
       "2                   5        1.03      1.0300     1.030000     1.030000   \n",
       "3                   1        0.83      1.0375     1.037500     1.037500   \n",
       "4                   9        0.73      0.7300     0.912500     0.912500   \n",
       "\n",
       "   Unnamed: 20  Rank    Value  \n",
       "0            1     1  1718750  \n",
       "1            1     1  1718750  \n",
       "2            1     1  1718750  \n",
       "3            4     2  1703125  \n",
       "4            4     2  1703125  \n",
       "\n",
       "[5 rows x 23 columns]"
      ]
     },
     "execution_count": 285,
     "metadata": {},
     "output_type": "execute_result"
    }
   ],
   "source": [
    "#Converting float to int\n",
    "df_newcustomerlist['Value'] = df_newcustomerlist['Value'].astype('int64')\n",
    "df_newcustomerlist.head()"
   ]
  },
  {
   "cell_type": "code",
   "execution_count": 286,
   "metadata": {},
   "outputs": [
    {
     "data": {
      "text/html": [
       "<div>\n",
       "<style scoped>\n",
       "    .dataframe tbody tr th:only-of-type {\n",
       "        vertical-align: middle;\n",
       "    }\n",
       "\n",
       "    .dataframe tbody tr th {\n",
       "        vertical-align: top;\n",
       "    }\n",
       "\n",
       "    .dataframe thead th {\n",
       "        text-align: right;\n",
       "    }\n",
       "</style>\n",
       "<table border=\"1\" class=\"dataframe\">\n",
       "  <thead>\n",
       "    <tr style=\"text-align: right;\">\n",
       "      <th></th>\n",
       "      <th>property_valuation</th>\n",
       "      <th>min</th>\n",
       "      <th>max</th>\n",
       "      <th>sum</th>\n",
       "    </tr>\n",
       "  </thead>\n",
       "  <tbody>\n",
       "    <tr>\n",
       "      <th>4</th>\n",
       "      <td>5</td>\n",
       "      <td>410000</td>\n",
       "      <td>1718750</td>\n",
       "      <td>52167800</td>\n",
       "    </tr>\n",
       "    <tr>\n",
       "      <th>5</th>\n",
       "      <td>6</td>\n",
       "      <td>399500</td>\n",
       "      <td>1718750</td>\n",
       "      <td>59866737</td>\n",
       "    </tr>\n",
       "    <tr>\n",
       "      <th>10</th>\n",
       "      <td>11</td>\n",
       "      <td>410000</td>\n",
       "      <td>1718750</td>\n",
       "      <td>55482802</td>\n",
       "    </tr>\n",
       "    <tr>\n",
       "      <th>0</th>\n",
       "      <td>1</td>\n",
       "      <td>416500</td>\n",
       "      <td>1703125</td>\n",
       "      <td>28946213</td>\n",
       "    </tr>\n",
       "    <tr>\n",
       "      <th>8</th>\n",
       "      <td>9</td>\n",
       "      <td>340000</td>\n",
       "      <td>1703125</td>\n",
       "      <td>152695134</td>\n",
       "    </tr>\n",
       "  </tbody>\n",
       "</table>\n",
       "</div>"
      ],
      "text/plain": [
       "    property_valuation     min      max        sum\n",
       "4                    5  410000  1718750   52167800\n",
       "5                    6  399500  1718750   59866737\n",
       "10                  11  410000  1718750   55482802\n",
       "0                    1  416500  1703125   28946213\n",
       "8                    9  340000  1703125  152695134"
      ]
     },
     "execution_count": 286,
     "metadata": {},
     "output_type": "execute_result"
    }
   ],
   "source": [
    "test7 = df_newcustomerlist.groupby(['property_valuation'])['Value'].agg(['min', 'max','sum'])\n",
    "test7 = test7.reset_index()\n",
    "test7.sort_values(by='max',ascending=False).head()\n",
    "#the maximum value of property has property valuation of 5/12, it is illogical"
   ]
  },
  {
   "cell_type": "markdown",
   "metadata": {},
   "source": [
    "Export excel file"
   ]
  },
  {
   "cell_type": "code",
   "execution_count": null,
   "metadata": {},
   "outputs": [],
   "source": []
  }
 ],
 "metadata": {
  "kernelspec": {
   "display_name": "Python 3",
   "language": "python",
   "name": "python3"
  },
  "language_info": {
   "codemirror_mode": {
    "name": "ipython",
    "version": 3
   },
   "file_extension": ".py",
   "mimetype": "text/x-python",
   "name": "python",
   "nbconvert_exporter": "python",
   "pygments_lexer": "ipython3",
   "version": "3.7.3"
  }
 },
 "nbformat": 4,
 "nbformat_minor": 2
}
