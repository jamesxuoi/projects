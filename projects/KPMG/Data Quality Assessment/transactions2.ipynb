{
 "cells": [
  {
   "cell_type": "code",
   "execution_count": 102,
   "metadata": {},
   "outputs": [],
   "source": [
    "import os, math, subprocess\n",
    "import datetime as dt\n",
    "\n",
    "#data wrangling\n",
    "import numpy as np\n",
    "import pandas as pd\n",
    "\n",
    "#visualization\n",
    "import seaborn as sns\n",
    "import matplotlib.pyplot as plt\n",
    "\n",
    "#excel library\n",
    "import xlrd"
   ]
  },
  {
   "cell_type": "code",
   "execution_count": 103,
   "metadata": {},
   "outputs": [
    {
     "data": {
      "text/html": [
       "<div>\n",
       "<style scoped>\n",
       "    .dataframe tbody tr th:only-of-type {\n",
       "        vertical-align: middle;\n",
       "    }\n",
       "\n",
       "    .dataframe tbody tr th {\n",
       "        vertical-align: top;\n",
       "    }\n",
       "\n",
       "    .dataframe thead th {\n",
       "        text-align: right;\n",
       "    }\n",
       "</style>\n",
       "<table border=\"1\" class=\"dataframe\">\n",
       "  <thead>\n",
       "    <tr style=\"text-align: right;\">\n",
       "      <th></th>\n",
       "      <th>transaction_id</th>\n",
       "      <th>product_id</th>\n",
       "      <th>customer_id</th>\n",
       "      <th>transaction_date</th>\n",
       "      <th>online_order</th>\n",
       "      <th>order_status</th>\n",
       "      <th>brand</th>\n",
       "      <th>product_line</th>\n",
       "      <th>product_class</th>\n",
       "      <th>product_size</th>\n",
       "      <th>list_price</th>\n",
       "      <th>standard_cost</th>\n",
       "      <th>product_first_sold_date</th>\n",
       "    </tr>\n",
       "  </thead>\n",
       "  <tbody>\n",
       "    <tr>\n",
       "      <th>0</th>\n",
       "      <td>1</td>\n",
       "      <td>2</td>\n",
       "      <td>2950</td>\n",
       "      <td>2017-02-25</td>\n",
       "      <td>False</td>\n",
       "      <td>Approved</td>\n",
       "      <td>Solex</td>\n",
       "      <td>Standard</td>\n",
       "      <td>medium</td>\n",
       "      <td>medium</td>\n",
       "      <td>71.49</td>\n",
       "      <td>53.62</td>\n",
       "      <td>41245.0</td>\n",
       "    </tr>\n",
       "    <tr>\n",
       "      <th>1</th>\n",
       "      <td>2</td>\n",
       "      <td>3</td>\n",
       "      <td>3120</td>\n",
       "      <td>2017-05-21</td>\n",
       "      <td>True</td>\n",
       "      <td>Approved</td>\n",
       "      <td>Trek Bicycles</td>\n",
       "      <td>Standard</td>\n",
       "      <td>medium</td>\n",
       "      <td>large</td>\n",
       "      <td>2091.47</td>\n",
       "      <td>388.92</td>\n",
       "      <td>41701.0</td>\n",
       "    </tr>\n",
       "    <tr>\n",
       "      <th>2</th>\n",
       "      <td>3</td>\n",
       "      <td>37</td>\n",
       "      <td>402</td>\n",
       "      <td>2017-10-16</td>\n",
       "      <td>False</td>\n",
       "      <td>Approved</td>\n",
       "      <td>OHM Cycles</td>\n",
       "      <td>Standard</td>\n",
       "      <td>low</td>\n",
       "      <td>medium</td>\n",
       "      <td>1793.43</td>\n",
       "      <td>248.82</td>\n",
       "      <td>36361.0</td>\n",
       "    </tr>\n",
       "    <tr>\n",
       "      <th>3</th>\n",
       "      <td>4</td>\n",
       "      <td>88</td>\n",
       "      <td>3135</td>\n",
       "      <td>2017-08-31</td>\n",
       "      <td>False</td>\n",
       "      <td>Approved</td>\n",
       "      <td>Norco Bicycles</td>\n",
       "      <td>Standard</td>\n",
       "      <td>medium</td>\n",
       "      <td>medium</td>\n",
       "      <td>1198.46</td>\n",
       "      <td>381.10</td>\n",
       "      <td>36145.0</td>\n",
       "    </tr>\n",
       "    <tr>\n",
       "      <th>4</th>\n",
       "      <td>5</td>\n",
       "      <td>78</td>\n",
       "      <td>787</td>\n",
       "      <td>2017-10-01</td>\n",
       "      <td>True</td>\n",
       "      <td>Approved</td>\n",
       "      <td>Giant Bicycles</td>\n",
       "      <td>Standard</td>\n",
       "      <td>medium</td>\n",
       "      <td>large</td>\n",
       "      <td>1765.30</td>\n",
       "      <td>709.48</td>\n",
       "      <td>42226.0</td>\n",
       "    </tr>\n",
       "  </tbody>\n",
       "</table>\n",
       "</div>"
      ],
      "text/plain": [
       "   transaction_id  product_id  customer_id transaction_date  online_order  \\\n",
       "0               1           2         2950       2017-02-25         False   \n",
       "1               2           3         3120       2017-05-21          True   \n",
       "2               3          37          402       2017-10-16         False   \n",
       "3               4          88         3135       2017-08-31         False   \n",
       "4               5          78          787       2017-10-01          True   \n",
       "\n",
       "  order_status           brand product_line product_class product_size  \\\n",
       "0     Approved           Solex     Standard        medium       medium   \n",
       "1     Approved   Trek Bicycles     Standard        medium        large   \n",
       "2     Approved      OHM Cycles     Standard           low       medium   \n",
       "3     Approved  Norco Bicycles     Standard        medium       medium   \n",
       "4     Approved  Giant Bicycles     Standard        medium        large   \n",
       "\n",
       "   list_price  standard_cost  product_first_sold_date  \n",
       "0       71.49          53.62                  41245.0  \n",
       "1     2091.47         388.92                  41701.0  \n",
       "2     1793.43         248.82                  36361.0  \n",
       "3     1198.46         381.10                  36145.0  \n",
       "4     1765.30         709.48                  42226.0  "
      ]
     },
     "execution_count": 103,
     "metadata": {},
     "output_type": "execute_result"
    }
   ],
   "source": [
    "#Loading data\n",
    "df_transactions = pd.read_excel('KPMG.xlsx', sheet_name= 'Transactions')\n",
    "df_transactions = df_transactions.astype({\"online_order\":'bool'})\n",
    "df_transactions.head()"
   ]
  },
  {
   "cell_type": "code",
   "execution_count": 104,
   "metadata": {},
   "outputs": [
    {
     "name": "stdout",
     "output_type": "stream",
     "text": [
      "<class 'pandas.core.frame.DataFrame'>\n",
      "Int64Index: 19803 entries, 0 to 19999\n",
      "Data columns (total 13 columns):\n",
      "transaction_id             19803 non-null int64\n",
      "product_id                 19803 non-null int64\n",
      "customer_id                19803 non-null int64\n",
      "transaction_date           19803 non-null datetime64[ns]\n",
      "online_order               19803 non-null bool\n",
      "order_status               19803 non-null object\n",
      "brand                      19803 non-null object\n",
      "product_line               19803 non-null object\n",
      "product_class              19803 non-null object\n",
      "product_size               19803 non-null object\n",
      "list_price                 19803 non-null float64\n",
      "standard_cost              19803 non-null float64\n",
      "product_first_sold_date    19803 non-null float64\n",
      "dtypes: bool(1), datetime64[ns](1), float64(3), int64(3), object(5)\n",
      "memory usage: 2.0+ MB\n"
     ]
    }
   ],
   "source": [
    "df_cost = df_transactions\n",
    "df_cost = df_cost.dropna()\n",
    "df_cost.info()"
   ]
  },
  {
   "cell_type": "markdown",
   "metadata": {},
   "source": [
    "1. Standard_cost"
   ]
  },
  {
   "cell_type": "code",
   "execution_count": 105,
   "metadata": {},
   "outputs": [
    {
     "data": {
      "image/png": "[encoded data removed]",
      "text/plain": [
       "<Figure size 432x288 with 1 Axes>"
      ]
     },
     "metadata": {
      "needs_background": "light"
     },
     "output_type": "display_data"
    }
   ],
   "source": [
    "plt.boxplot(df_cost['standard_cost'])\n",
    "plt.show()"
   ]
  },
  {
   "cell_type": "code",
   "execution_count": 106,
   "metadata": {},
   "outputs": [
    {
     "data": {
      "text/plain": [
       "1759.85"
      ]
     },
     "execution_count": 106,
     "metadata": {},
     "output_type": "execute_result"
    }
   ],
   "source": [
    "df_transactions['standard_cost'].max()"
   ]
  },
  {
   "cell_type": "code",
   "execution_count": 107,
   "metadata": {},
   "outputs": [
    {
     "data": {
      "text/plain": [
       "7.21"
      ]
     },
     "execution_count": 107,
     "metadata": {},
     "output_type": "execute_result"
    }
   ],
   "source": [
    "df_transactions['standard_cost'].min()"
   ]
  },
  {
   "cell_type": "code",
   "execution_count": 108,
   "metadata": {},
   "outputs": [],
   "source": [
    "#df_transactions[df_transactions['standard_cost']>1750]"
   ]
  },
  {
   "cell_type": "code",
   "execution_count": 109,
   "metadata": {},
   "outputs": [],
   "source": [
    "#df_transactions[df_transactions['standard_cost']>1750].count()"
   ]
  },
  {
   "cell_type": "markdown",
   "metadata": {},
   "source": [
    "2. product_first_sold_date"
   ]
  },
  {
   "cell_type": "code",
   "execution_count": 110,
   "metadata": {},
   "outputs": [
    {
     "name": "stderr",
     "output_type": "stream",
     "text": [
      "C:\\Users\\My Computer\\Anaconda3\\lib\\site-packages\\ipykernel_launcher.py:4: SettingWithCopyWarning: \n",
      "A value is trying to be set on a copy of a slice from a DataFrame.\n",
      "Try using .loc[row_indexer,col_indexer] = value instead\n",
      "\n",
      "See the caveats in the documentation: http://pandas.pydata.org/pandas-docs/stable/indexing.html#indexing-view-versus-copy\n",
      "  after removing the cwd from sys.path.\n"
     ]
    },
    {
     "data": {
      "text/plain": [
       "0   2012-12-02\n",
       "1   2014-03-03\n",
       "2   1999-07-20\n",
       "3   1998-12-16\n",
       "4   2015-08-10\n",
       "Name: product_first_sold_date, dtype: datetime64[ns]"
      ]
     },
     "execution_count": 110,
     "metadata": {},
     "output_type": "execute_result"
    }
   ],
   "source": [
    "def read_date(date):\n",
    "    return xlrd.xldate.xldate_as_datetime(date, 0)\n",
    "\n",
    "df_cost['product_first_sold_date'] = pd.to_datetime(df_cost['product_first_sold_date'].apply(read_date), errors='coerce')\n",
    "df_cost.product_first_sold_date.head()"
   ]
  },
  {
   "cell_type": "code",
   "execution_count": 111,
   "metadata": {},
   "outputs": [
    {
     "name": "stdout",
     "output_type": "stream",
     "text": [
      "min DOB:  1991-01-21 00:00:00\n",
      "max DOB:  2016-12-06 00:00:00\n"
     ]
    }
   ],
   "source": [
    "print('min DOB: ', df_cost['product_first_sold_date'].min())\n",
    "print('max DOB: ', df_cost['product_first_sold_date'].max())"
   ]
  },
  {
   "cell_type": "markdown",
   "metadata": {},
   "source": [
    "3. Checking for illogicial tolerant between list price and standard cost"
   ]
  },
  {
   "cell_type": "code",
   "execution_count": 112,
   "metadata": {},
   "outputs": [
    {
     "data": {
      "text/html": [
       "<div>\n",
       "<style scoped>\n",
       "    .dataframe tbody tr th:only-of-type {\n",
       "        vertical-align: middle;\n",
       "    }\n",
       "\n",
       "    .dataframe tbody tr th {\n",
       "        vertical-align: top;\n",
       "    }\n",
       "\n",
       "    .dataframe thead tr th {\n",
       "        text-align: left;\n",
       "    }\n",
       "</style>\n",
       "<table border=\"1\" class=\"dataframe\">\n",
       "  <thead>\n",
       "    <tr>\n",
       "      <th></th>\n",
       "      <th>product_line</th>\n",
       "      <th>product_class</th>\n",
       "      <th>product_size</th>\n",
       "      <th colspan=\"3\" halign=\"left\">list_price</th>\n",
       "      <th colspan=\"3\" halign=\"left\">standard_cost</th>\n",
       "    </tr>\n",
       "    <tr>\n",
       "      <th></th>\n",
       "      <th></th>\n",
       "      <th></th>\n",
       "      <th></th>\n",
       "      <th>min</th>\n",
       "      <th>max</th>\n",
       "      <th>sum</th>\n",
       "      <th>min</th>\n",
       "      <th>max</th>\n",
       "      <th>sum</th>\n",
       "    </tr>\n",
       "  </thead>\n",
       "  <tbody>\n",
       "    <tr>\n",
       "      <th>0</th>\n",
       "      <td>Mountain</td>\n",
       "      <td>low</td>\n",
       "      <td>medium</td>\n",
       "      <td>574.64</td>\n",
       "      <td>574.64</td>\n",
       "      <td>128144.72</td>\n",
       "      <td>459.71</td>\n",
       "      <td>459.71</td>\n",
       "      <td>1.025153e+05</td>\n",
       "    </tr>\n",
       "    <tr>\n",
       "      <th>1</th>\n",
       "      <td>Mountain</td>\n",
       "      <td>low</td>\n",
       "      <td>small</td>\n",
       "      <td>688.63</td>\n",
       "      <td>688.63</td>\n",
       "      <td>137726.00</td>\n",
       "      <td>612.88</td>\n",
       "      <td>612.88</td>\n",
       "      <td>1.225760e+05</td>\n",
       "    </tr>\n",
       "    <tr>\n",
       "      <th>2</th>\n",
       "      <td>Road</td>\n",
       "      <td>high</td>\n",
       "      <td>large</td>\n",
       "      <td>12.01</td>\n",
       "      <td>774.53</td>\n",
       "      <td>150277.18</td>\n",
       "      <td>7.21</td>\n",
       "      <td>464.72</td>\n",
       "      <td>9.016747e+04</td>\n",
       "    </tr>\n",
       "    <tr>\n",
       "      <th>3</th>\n",
       "      <td>Road</td>\n",
       "      <td>low</td>\n",
       "      <td>medium</td>\n",
       "      <td>980.37</td>\n",
       "      <td>980.37</td>\n",
       "      <td>197054.37</td>\n",
       "      <td>234.43</td>\n",
       "      <td>234.43</td>\n",
       "      <td>4.712043e+04</td>\n",
       "    </tr>\n",
       "    <tr>\n",
       "      <th>4</th>\n",
       "      <td>Road</td>\n",
       "      <td>low</td>\n",
       "      <td>small</td>\n",
       "      <td>590.26</td>\n",
       "      <td>1720.70</td>\n",
       "      <td>590615.72</td>\n",
       "      <td>525.33</td>\n",
       "      <td>1531.42</td>\n",
       "      <td>5.256466e+05</td>\n",
       "    </tr>\n",
       "    <tr>\n",
       "      <th>5</th>\n",
       "      <td>Road</td>\n",
       "      <td>medium</td>\n",
       "      <td>large</td>\n",
       "      <td>1240.31</td>\n",
       "      <td>1894.19</td>\n",
       "      <td>1028840.61</td>\n",
       "      <td>598.76</td>\n",
       "      <td>820.78</td>\n",
       "      <td>4.608469e+05</td>\n",
       "    </tr>\n",
       "    <tr>\n",
       "      <th>6</th>\n",
       "      <td>Road</td>\n",
       "      <td>medium</td>\n",
       "      <td>medium</td>\n",
       "      <td>290.62</td>\n",
       "      <td>1538.99</td>\n",
       "      <td>1397589.06</td>\n",
       "      <td>206.35</td>\n",
       "      <td>829.65</td>\n",
       "      <td>9.146857e+05</td>\n",
       "    </tr>\n",
       "    <tr>\n",
       "      <th>7</th>\n",
       "      <td>Road</td>\n",
       "      <td>medium</td>\n",
       "      <td>small</td>\n",
       "      <td>1703.52</td>\n",
       "      <td>1810.00</td>\n",
       "      <td>677151.20</td>\n",
       "      <td>1516.13</td>\n",
       "      <td>1610.90</td>\n",
       "      <td>6.026641e+05</td>\n",
       "    </tr>\n",
       "    <tr>\n",
       "      <th>8</th>\n",
       "      <td>Standard</td>\n",
       "      <td>high</td>\n",
       "      <td>large</td>\n",
       "      <td>1842.92</td>\n",
       "      <td>1842.92</td>\n",
       "      <td>350154.80</td>\n",
       "      <td>1105.75</td>\n",
       "      <td>1105.75</td>\n",
       "      <td>2.100925e+05</td>\n",
       "    </tr>\n",
       "    <tr>\n",
       "      <th>9</th>\n",
       "      <td>Standard</td>\n",
       "      <td>high</td>\n",
       "      <td>medium</td>\n",
       "      <td>227.88</td>\n",
       "      <td>2005.66</td>\n",
       "      <td>2099212.89</td>\n",
       "      <td>136.73</td>\n",
       "      <td>1203.40</td>\n",
       "      <td>1.259528e+06</td>\n",
       "    </tr>\n",
       "    <tr>\n",
       "      <th>10</th>\n",
       "      <td>Standard</td>\n",
       "      <td>high</td>\n",
       "      <td>small</td>\n",
       "      <td>1661.92</td>\n",
       "      <td>1977.36</td>\n",
       "      <td>689716.56</td>\n",
       "      <td>1479.11</td>\n",
       "      <td>1759.85</td>\n",
       "      <td>6.138479e+05</td>\n",
       "    </tr>\n",
       "    <tr>\n",
       "      <th>11</th>\n",
       "      <td>Standard</td>\n",
       "      <td>low</td>\n",
       "      <td>medium</td>\n",
       "      <td>71.16</td>\n",
       "      <td>1793.43</td>\n",
       "      <td>1450065.55</td>\n",
       "      <td>56.93</td>\n",
       "      <td>748.90</td>\n",
       "      <td>5.331041e+05</td>\n",
       "    </tr>\n",
       "    <tr>\n",
       "      <th>12</th>\n",
       "      <td>Standard</td>\n",
       "      <td>medium</td>\n",
       "      <td>large</td>\n",
       "      <td>202.62</td>\n",
       "      <td>2091.47</td>\n",
       "      <td>2846312.62</td>\n",
       "      <td>151.96</td>\n",
       "      <td>993.66</td>\n",
       "      <td>1.079133e+06</td>\n",
       "    </tr>\n",
       "    <tr>\n",
       "      <th>13</th>\n",
       "      <td>Standard</td>\n",
       "      <td>medium</td>\n",
       "      <td>medium</td>\n",
       "      <td>60.34</td>\n",
       "      <td>1992.93</td>\n",
       "      <td>6672426.52</td>\n",
       "      <td>13.44</td>\n",
       "      <td>954.82</td>\n",
       "      <td>2.445840e+06</td>\n",
       "    </tr>\n",
       "    <tr>\n",
       "      <th>14</th>\n",
       "      <td>Standard</td>\n",
       "      <td>medium</td>\n",
       "      <td>small</td>\n",
       "      <td>175.89</td>\n",
       "      <td>1775.81</td>\n",
       "      <td>1527055.02</td>\n",
       "      <td>131.92</td>\n",
       "      <td>1580.47</td>\n",
       "      <td>1.354449e+06</td>\n",
       "    </tr>\n",
       "    <tr>\n",
       "      <th>15</th>\n",
       "      <td>Touring</td>\n",
       "      <td>low</td>\n",
       "      <td>medium</td>\n",
       "      <td>1073.07</td>\n",
       "      <td>1073.07</td>\n",
       "      <td>245733.03</td>\n",
       "      <td>933.84</td>\n",
       "      <td>933.84</td>\n",
       "      <td>2.138494e+05</td>\n",
       "    </tr>\n",
       "    <tr>\n",
       "      <th>16</th>\n",
       "      <td>Touring</td>\n",
       "      <td>medium</td>\n",
       "      <td>large</td>\n",
       "      <td>1362.99</td>\n",
       "      <td>2083.94</td>\n",
       "      <td>1477870.05</td>\n",
       "      <td>57.74</td>\n",
       "      <td>863.95</td>\n",
       "      <td>3.670407e+05</td>\n",
       "    </tr>\n",
       "    <tr>\n",
       "      <th>17</th>\n",
       "      <td>Touring</td>\n",
       "      <td>medium</td>\n",
       "      <td>medium</td>\n",
       "      <td>1466.68</td>\n",
       "      <td>1466.68</td>\n",
       "      <td>275735.84</td>\n",
       "      <td>363.25</td>\n",
       "      <td>363.25</td>\n",
       "      <td>6.829100e+04</td>\n",
       "    </tr>\n",
       "  </tbody>\n",
       "</table>\n",
       "</div>"
      ],
      "text/plain": [
       "   product_line product_class product_size list_price                       \\\n",
       "                                                  min      max         sum   \n",
       "0      Mountain           low       medium     574.64   574.64   128144.72   \n",
       "1      Mountain           low        small     688.63   688.63   137726.00   \n",
       "2          Road          high        large      12.01   774.53   150277.18   \n",
       "3          Road           low       medium     980.37   980.37   197054.37   \n",
       "4          Road           low        small     590.26  1720.70   590615.72   \n",
       "5          Road        medium        large    1240.31  1894.19  1028840.61   \n",
       "6          Road        medium       medium     290.62  1538.99  1397589.06   \n",
       "7          Road        medium        small    1703.52  1810.00   677151.20   \n",
       "8      Standard          high        large    1842.92  1842.92   350154.80   \n",
       "9      Standard          high       medium     227.88  2005.66  2099212.89   \n",
       "10     Standard          high        small    1661.92  1977.36   689716.56   \n",
       "11     Standard           low       medium      71.16  1793.43  1450065.55   \n",
       "12     Standard        medium        large     202.62  2091.47  2846312.62   \n",
       "13     Standard        medium       medium      60.34  1992.93  6672426.52   \n",
       "14     Standard        medium        small     175.89  1775.81  1527055.02   \n",
       "15      Touring           low       medium    1073.07  1073.07   245733.03   \n",
       "16      Touring        medium        large    1362.99  2083.94  1477870.05   \n",
       "17      Touring        medium       medium    1466.68  1466.68   275735.84   \n",
       "\n",
       "   standard_cost                         \n",
       "             min      max           sum  \n",
       "0         459.71   459.71  1.025153e+05  \n",
       "1         612.88   612.88  1.225760e+05  \n",
       "2           7.21   464.72  9.016747e+04  \n",
       "3         234.43   234.43  4.712043e+04  \n",
       "4         525.33  1531.42  5.256466e+05  \n",
       "5         598.76   820.78  4.608469e+05  \n",
       "6         206.35   829.65  9.146857e+05  \n",
       "7        1516.13  1610.90  6.026641e+05  \n",
       "8        1105.75  1105.75  2.100925e+05  \n",
       "9         136.73  1203.40  1.259528e+06  \n",
       "10       1479.11  1759.85  6.138479e+05  \n",
       "11         56.93   748.90  5.331041e+05  \n",
       "12        151.96   993.66  1.079133e+06  \n",
       "13         13.44   954.82  2.445840e+06  \n",
       "14        131.92  1580.47  1.354449e+06  \n",
       "15        933.84   933.84  2.138494e+05  \n",
       "16         57.74   863.95  3.670407e+05  \n",
       "17        363.25   363.25  6.829100e+04  "
      ]
     },
     "execution_count": 112,
     "metadata": {},
     "output_type": "execute_result"
    }
   ],
   "source": [
    "#comparation of min and max between list_price and standard_cost\n",
    "test2 = df_transactions.groupby(['product_line','product_class','product_size'])['list_price','standard_cost'].agg(['min','max','sum'])\n",
    "test2 = test2.reset_index()\n",
    "test2"
   ]
  },
  {
   "cell_type": "code",
   "execution_count": 3,
   "metadata": {},
   "outputs": [
    {
     "ename": "SyntaxError",
     "evalue": "invalid syntax (<ipython-input-3-d0a52af38a77>, line 2)",
     "output_type": "error",
     "traceback": [
      "\u001b[1;36m  File \u001b[1;32m\"<ipython-input-3-d0a52af38a77>\"\u001b[1;36m, line \u001b[1;32m2\u001b[0m\n\u001b[1;33m    df_transactions[df_transactions['price_disparity'] >2].sort_values(['-','price_disparity'],ascending=False)''\u001b[0m\n\u001b[1;37m                                                                                                                ^\u001b[0m\n\u001b[1;31mSyntaxError\u001b[0m\u001b[1;31m:\u001b[0m invalid syntax\n"
     ]
    }
   ],
   "source": [
    "df_transactions['price_disparity'] = (df_transactions[('list_price')] / df_transactions[('standard_cost')])*100\n",
    "df_transactions[df_transactions['price_disparity'] >2].sort_values(['-','price_disparity'],ascending=False)''"
   ]
  },
  {
   "cell_type": "code",
   "execution_count": null,
   "metadata": {},
   "outputs": [],
   "source": []
  }
 ],
 "metadata": {
  "kernelspec": {
   "display_name": "Python 3",
   "language": "python",
   "name": "python3"
  },
  "language_info": {
   "codemirror_mode": {
    "name": "ipython",
    "version": 3
   },
   "file_extension": ".py",
   "mimetype": "text/x-python",
   "name": "python",
   "nbconvert_exporter": "python",
   "pygments_lexer": "ipython3",
   "version": "3.7.3"
  }
 },
 "nbformat": 4,
 "nbformat_minor": 2
}
