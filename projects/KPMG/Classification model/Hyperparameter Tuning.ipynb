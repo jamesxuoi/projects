{
 "cells": [
  {
   "cell_type": "markdown",
   "metadata": {},
   "source": [
    "# Sources:"
   ]
  },
  {
   "cell_type": "markdown",
   "metadata": {},
   "source": [
    "[Scikit Learn Hyperparameter Tuning(Youtube Video)](https://www.youtube.com/watch?v=Q-X1ukbxIs0)\n",
    "\n",
    "[Github code](https://github.com/knathanieltucker/bit-of-data-science-and-scikit-learn/blob/master/notebooks/HyperparamTuning.ipynb)"
   ]
  },
  {
   "cell_type": "markdown",
   "metadata": {},
   "source": [
    "## GridSearch\n",
    "\n",
    "The grid search provided by GridSearchCV exhaustively generates candidates from a grid of parameter values specified with the param_grid parameter. For instance, the following param_grid:"
   ]
  },
  {
   "cell_type": "code",
   "execution_count": 1,
   "metadata": {},
   "outputs": [],
   "source": [
    "param_grid = [\n",
    "  {'C': [1, 10, 100, 1000], 'kernel': ['linear']},\n",
    "  {'C': [1, 10, 100, 1000], 'gamma': [0.001, 0.0001], 'kernel': ['rbf']},\n",
    " ]"
   ]
  },
  {
   "cell_type": "markdown",
   "metadata": {},
   "source": [
    "specifies that two grids should be explored: one with a linear kernel and C values in [1, 10, 100, 1000], and the second one with an RBF kernel, and the cross-product of C values ranging in [1, 10, 100, 1000] and gamma values in [0.001, 0.0001].\n",
    "\n",
    "The GridSearchCV instance implements the usual estimator API: when “fitting” it on a dataset all the possible combinations of parameter values are evaluated and the best combination is retained."
   ]
  },
  {
   "cell_type": "code",
   "execution_count": 5,
   "metadata": {},
   "outputs": [],
   "source": [
    "from sklearn.model_selection import GridSearchCV\n",
    "%matplotlib inline\n",
    "\n",
    "# Import Libraries\n",
    "import seaborn as sns\n",
    "import pandas as pd\n",
    "import numpy as np\n",
    "import matplotlib.pyplot as plt\n",
    "GridSearchCV?"
   ]
  },
  {
   "cell_type": "code",
   "execution_count": 6,
   "metadata": {},
   "outputs": [],
   "source": [
    "from sklearn import datasets\n",
    "from sklearn.model_selection import train_test_split\n",
    "from sklearn.metrics import classification_report\n",
    "from sklearn.svm import SVC"
   ]
  },
  {
   "cell_type": "code",
   "execution_count": 7,
   "metadata": {},
   "outputs": [
    {
     "data": {
      "text/html": [
       "<div>\n",
       "<style scoped>\n",
       "    .dataframe tbody tr th:only-of-type {\n",
       "        vertical-align: middle;\n",
       "    }\n",
       "\n",
       "    .dataframe tbody tr th {\n",
       "        vertical-align: top;\n",
       "    }\n",
       "\n",
       "    .dataframe thead th {\n",
       "        text-align: right;\n",
       "    }\n",
       "</style>\n",
       "<table border=\"1\" class=\"dataframe\">\n",
       "  <thead>\n",
       "    <tr style=\"text-align: right;\">\n",
       "      <th></th>\n",
       "      <th>online_order</th>\n",
       "      <th>order_status</th>\n",
       "      <th>list_price</th>\n",
       "      <th>standard_cost</th>\n",
       "      <th>gross_profit</th>\n",
       "      <th>margin_percentage</th>\n",
       "      <th>markup_percentage</th>\n",
       "      <th>product_class_label_1</th>\n",
       "      <th>product_class_label_2</th>\n",
       "      <th>product_class_label_3</th>\n",
       "      <th>product_size_label_1</th>\n",
       "      <th>product_size_label_2</th>\n",
       "      <th>product_size_label_3</th>\n",
       "      <th>high_profit_product</th>\n",
       "    </tr>\n",
       "  </thead>\n",
       "  <tbody>\n",
       "    <tr>\n",
       "      <th>0</th>\n",
       "      <td>0</td>\n",
       "      <td>1</td>\n",
       "      <td>71.49</td>\n",
       "      <td>53.62</td>\n",
       "      <td>17.87</td>\n",
       "      <td>25.00</td>\n",
       "      <td>33.33</td>\n",
       "      <td>0</td>\n",
       "      <td>1</td>\n",
       "      <td>0</td>\n",
       "      <td>0</td>\n",
       "      <td>1</td>\n",
       "      <td>0</td>\n",
       "      <td>0</td>\n",
       "    </tr>\n",
       "    <tr>\n",
       "      <th>1</th>\n",
       "      <td>1</td>\n",
       "      <td>1</td>\n",
       "      <td>2091.47</td>\n",
       "      <td>388.92</td>\n",
       "      <td>1702.55</td>\n",
       "      <td>81.40</td>\n",
       "      <td>437.76</td>\n",
       "      <td>0</td>\n",
       "      <td>1</td>\n",
       "      <td>0</td>\n",
       "      <td>0</td>\n",
       "      <td>0</td>\n",
       "      <td>1</td>\n",
       "      <td>1</td>\n",
       "    </tr>\n",
       "    <tr>\n",
       "      <th>2</th>\n",
       "      <td>0</td>\n",
       "      <td>1</td>\n",
       "      <td>1793.43</td>\n",
       "      <td>248.82</td>\n",
       "      <td>1544.61</td>\n",
       "      <td>86.13</td>\n",
       "      <td>620.77</td>\n",
       "      <td>1</td>\n",
       "      <td>0</td>\n",
       "      <td>0</td>\n",
       "      <td>0</td>\n",
       "      <td>1</td>\n",
       "      <td>0</td>\n",
       "      <td>1</td>\n",
       "    </tr>\n",
       "    <tr>\n",
       "      <th>3</th>\n",
       "      <td>0</td>\n",
       "      <td>1</td>\n",
       "      <td>1198.46</td>\n",
       "      <td>381.10</td>\n",
       "      <td>817.36</td>\n",
       "      <td>68.20</td>\n",
       "      <td>214.47</td>\n",
       "      <td>0</td>\n",
       "      <td>1</td>\n",
       "      <td>0</td>\n",
       "      <td>0</td>\n",
       "      <td>1</td>\n",
       "      <td>0</td>\n",
       "      <td>1</td>\n",
       "    </tr>\n",
       "    <tr>\n",
       "      <th>4</th>\n",
       "      <td>1</td>\n",
       "      <td>1</td>\n",
       "      <td>1765.30</td>\n",
       "      <td>709.48</td>\n",
       "      <td>1055.82</td>\n",
       "      <td>59.81</td>\n",
       "      <td>148.82</td>\n",
       "      <td>0</td>\n",
       "      <td>1</td>\n",
       "      <td>0</td>\n",
       "      <td>0</td>\n",
       "      <td>0</td>\n",
       "      <td>1</td>\n",
       "      <td>1</td>\n",
       "    </tr>\n",
       "  </tbody>\n",
       "</table>\n",
       "</div>"
      ],
      "text/plain": [
       "   online_order  order_status  list_price  standard_cost  gross_profit  \\\n",
       "0             0             1       71.49          53.62         17.87   \n",
       "1             1             1     2091.47         388.92       1702.55   \n",
       "2             0             1     1793.43         248.82       1544.61   \n",
       "3             0             1     1198.46         381.10        817.36   \n",
       "4             1             1     1765.30         709.48       1055.82   \n",
       "\n",
       "   margin_percentage  markup_percentage  product_class_label_1  \\\n",
       "0              25.00              33.33                      0   \n",
       "1              81.40             437.76                      0   \n",
       "2              86.13             620.77                      1   \n",
       "3              68.20             214.47                      0   \n",
       "4              59.81             148.82                      0   \n",
       "\n",
       "   product_class_label_2  product_class_label_3  product_size_label_1  \\\n",
       "0                      1                      0                     0   \n",
       "1                      1                      0                     0   \n",
       "2                      0                      0                     0   \n",
       "3                      1                      0                     0   \n",
       "4                      1                      0                     0   \n",
       "\n",
       "   product_size_label_2  product_size_label_3  high_profit_product  \n",
       "0                     1                     0                    0  \n",
       "1                     0                     1                    1  \n",
       "2                     1                     0                    1  \n",
       "3                     1                     0                    1  \n",
       "4                     0                     1                    1  "
      ]
     },
     "execution_count": 7,
     "metadata": {},
     "output_type": "execute_result"
    }
   ],
   "source": [
    "df = pd.read_csv('Bike_train_test.csv')\n",
    "df.head()"
   ]
  },
  {
   "cell_type": "code",
   "execution_count": 8,
   "metadata": {},
   "outputs": [],
   "source": [
    "X = df.drop(['high_profit_product'], axis=1)\n",
    "y = df['high_profit_product']\n",
    "n_samples = len(y)"
   ]
  },
  {
   "cell_type": "code",
   "execution_count": 12,
   "metadata": {},
   "outputs": [
    {
     "data": {
      "text/plain": [
       "GridSearchCV(cv=5, error_score='raise-deprecating',\n",
       "       estimator=SVC(C=1, cache_size=200, class_weight=None, coef0=0.0,\n",
       "  decision_function_shape='ovr', degree=3, gamma='auto_deprecated',\n",
       "  kernel='rbf', max_iter=-1, probability=False, random_state=None,\n",
       "  shrinking=True, tol=0.001, verbose=False),\n",
       "       fit_params=None, iid='warn', n_jobs=None,\n",
       "       param_grid=[{'kernel': ['rbf'], 'gamma': [0.001, 0.0001], 'C': [1, 10, 100, 1000]}, {'kernel': ['linear'], 'C': [1, 10, 100, 1000]}],\n",
       "       pre_dispatch='2*n_jobs', refit=True, return_train_score=True,\n",
       "       scoring='f1_macro', verbose=0)"
      ]
     },
     "execution_count": 12,
     "metadata": {},
     "output_type": "execute_result"
    }
   ],
   "source": [
    "#X = digits.images.reshape((n_samples, -1))\n",
    "#y = digits.target\n",
    "\n",
    "# Split the dataset in two equal parts\n",
    "X_train, X_test, y_train, y_test = train_test_split(\n",
    "    X, y, test_size=0.5, random_state=0)\n",
    "\n",
    "tuned_parameters = [{'kernel': ['rbf'], 'gamma': [1e-3, 1e-4],\n",
    "                     'C': [1, 10, 100, 1000]},\n",
    "                    {'kernel': ['linear'], 'C': [1, 10, 100, 1000]}]\n",
    "\n",
    "\n",
    "\n",
    "clf = GridSearchCV(SVC(C=1), tuned_parameters, cv=5,\n",
    "                       scoring='f1_macro',return_train_score=True)\n",
    "clf.fit(X_train, y_train)"
   ]
  },
  {
   "cell_type": "code",
   "execution_count": 13,
   "metadata": {},
   "outputs": [
    {
     "data": {
      "text/plain": [
       "{'C': 1, 'gamma': 0.001, 'kernel': 'rbf'}"
      ]
     },
     "execution_count": 13,
     "metadata": {},
     "output_type": "execute_result"
    }
   ],
   "source": [
    "clf.best_params_"
   ]
  },
  {
   "cell_type": "code",
   "execution_count": 14,
   "metadata": {},
   "outputs": [
    {
     "data": {
      "text/plain": [
       "{'mean_fit_time': array([0.25564823, 0.14111595, 0.26124225, 0.16190557, 0.31941147,\n",
       "        0.13431273, 0.2446558 , 0.13392525, 0.08514895, 0.08414927,\n",
       "        0.0845489 , 0.08415012]),\n",
       " 'std_fit_time': array([0.01124232, 0.01312699, 0.0180218 , 0.02226818, 0.08764085,\n",
       "        0.00272162, 0.00318586, 0.00199499, 0.002785  , 0.00193803,\n",
       "        0.00257546, 0.00292517]),\n",
       " 'mean_score_time': array([0.05217881, 0.02279491, 0.05337715, 0.02838311, 0.0617661 ,\n",
       "        0.02319026, 0.05197349, 0.02278633, 0.00519791, 0.00519795,\n",
       "        0.00499792, 0.00539699]),\n",
       " 'std_score_time': array([1.46746841e-03, 7.50030888e-04, 2.41128435e-03, 5.46060189e-03,\n",
       "        8.90381463e-03, 4.07578217e-04, 6.38157363e-04, 3.99754759e-04,\n",
       "        4.00114699e-04, 3.99972145e-04, 3.16297988e-07, 4.89959997e-04]),\n",
       " 'param_C': masked_array(data=[1, 1, 10, 10, 100, 100, 1000, 1000, 1, 10, 100, 1000],\n",
       "              mask=[False, False, False, False, False, False, False, False,\n",
       "                    False, False, False, False],\n",
       "        fill_value='?',\n",
       "             dtype=object),\n",
       " 'param_gamma': masked_array(data=[0.001, 0.0001, 0.001, 0.0001, 0.001, 0.0001, 0.001,\n",
       "                    0.0001, --, --, --, --],\n",
       "              mask=[False, False, False, False, False, False, False, False,\n",
       "                     True,  True,  True,  True],\n",
       "        fill_value='?',\n",
       "             dtype=object),\n",
       " 'param_kernel': masked_array(data=['rbf', 'rbf', 'rbf', 'rbf', 'rbf', 'rbf', 'rbf', 'rbf',\n",
       "                    'linear', 'linear', 'linear', 'linear'],\n",
       "              mask=[False, False, False, False, False, False, False, False,\n",
       "                    False, False, False, False],\n",
       "        fill_value='?',\n",
       "             dtype=object),\n",
       " 'params': [{'C': 1, 'gamma': 0.001, 'kernel': 'rbf'},\n",
       "  {'C': 1, 'gamma': 0.0001, 'kernel': 'rbf'},\n",
       "  {'C': 10, 'gamma': 0.001, 'kernel': 'rbf'},\n",
       "  {'C': 10, 'gamma': 0.0001, 'kernel': 'rbf'},\n",
       "  {'C': 100, 'gamma': 0.001, 'kernel': 'rbf'},\n",
       "  {'C': 100, 'gamma': 0.0001, 'kernel': 'rbf'},\n",
       "  {'C': 1000, 'gamma': 0.001, 'kernel': 'rbf'},\n",
       "  {'C': 1000, 'gamma': 0.0001, 'kernel': 'rbf'},\n",
       "  {'C': 1, 'kernel': 'linear'},\n",
       "  {'C': 10, 'kernel': 'linear'},\n",
       "  {'C': 100, 'kernel': 'linear'},\n",
       "  {'C': 1000, 'kernel': 'linear'}],\n",
       " 'split0_test_score': array([1., 1., 1., 1., 1., 1., 1., 1., 1., 1., 1., 1.]),\n",
       " 'split1_test_score': array([1., 1., 1., 1., 1., 1., 1., 1., 1., 1., 1., 1.]),\n",
       " 'split2_test_score': array([1., 1., 1., 1., 1., 1., 1., 1., 1., 1., 1., 1.]),\n",
       " 'split3_test_score': array([1., 1., 1., 1., 1., 1., 1., 1., 1., 1., 1., 1.]),\n",
       " 'split4_test_score': array([1., 1., 1., 1., 1., 1., 1., 1., 1., 1., 1., 1.]),\n",
       " 'mean_test_score': array([1., 1., 1., 1., 1., 1., 1., 1., 1., 1., 1., 1.]),\n",
       " 'std_test_score': array([0., 0., 0., 0., 0., 0., 0., 0., 0., 0., 0., 0.]),\n",
       " 'rank_test_score': array([1, 1, 1, 1, 1, 1, 1, 1, 1, 1, 1, 1]),\n",
       " 'split0_train_score': array([1., 1., 1., 1., 1., 1., 1., 1., 1., 1., 1., 1.]),\n",
       " 'split1_train_score': array([1., 1., 1., 1., 1., 1., 1., 1., 1., 1., 1., 1.]),\n",
       " 'split2_train_score': array([1., 1., 1., 1., 1., 1., 1., 1., 1., 1., 1., 1.]),\n",
       " 'split3_train_score': array([1., 1., 1., 1., 1., 1., 1., 1., 1., 1., 1., 1.]),\n",
       " 'split4_train_score': array([1., 1., 1., 1., 1., 1., 1., 1., 1., 1., 1., 1.]),\n",
       " 'mean_train_score': array([1., 1., 1., 1., 1., 1., 1., 1., 1., 1., 1., 1.]),\n",
       " 'std_train_score': array([0., 0., 0., 0., 0., 0., 0., 0., 0., 0., 0., 0.])}"
      ]
     },
     "execution_count": 14,
     "metadata": {},
     "output_type": "execute_result"
    }
   ],
   "source": [
    "clf.cv_results_"
   ]
  },
  {
   "cell_type": "code",
   "execution_count": 16,
   "metadata": {},
   "outputs": [
    {
     "name": "stdout",
     "output_type": "stream",
     "text": [
      "              precision    recall  f1-score   support\n",
      "\n",
      "           0       1.00      1.00      1.00      6430\n",
      "           1       1.00      1.00      1.00      3472\n",
      "\n",
      "   micro avg       1.00      1.00      1.00      9902\n",
      "   macro avg       1.00      1.00      1.00      9902\n",
      "weighted avg       1.00      1.00      1.00      9902\n",
      "\n"
     ]
    }
   ],
   "source": [
    "y_true, y_pred = y_test, clf.predict(X_test)\n",
    "print (classification_report(y_true, y_pred))"
   ]
  },
  {
   "cell_type": "code",
   "execution_count": 17,
   "metadata": {},
   "outputs": [
    {
     "data": {
      "text/plain": [
       "dict_keys(['mean_fit_time', 'std_fit_time', 'mean_score_time', 'std_score_time', 'param_C', 'param_gamma', 'param_kernel', 'params', 'split0_test_score', 'split1_test_score', 'split2_test_score', 'split3_test_score', 'split4_test_score', 'mean_test_score', 'std_test_score', 'rank_test_score', 'split0_train_score', 'split1_train_score', 'split2_train_score', 'split3_train_score', 'split4_train_score', 'mean_train_score', 'std_train_score'])"
      ]
     },
     "execution_count": 17,
     "metadata": {},
     "output_type": "execute_result"
    }
   ],
   "source": [
    "clf.cv_results_.keys()"
   ]
  },
  {
   "cell_type": "code",
   "execution_count": 19,
   "metadata": {},
   "outputs": [
    {
     "name": "stdout",
     "output_type": "stream",
     "text": [
      "{'C': 1, 'gamma': 0.001, 'kernel': 'rbf'} 1.0\n",
      "{'C': 1, 'gamma': 0.0001, 'kernel': 'rbf'} 1.0\n",
      "{'C': 10, 'gamma': 0.001, 'kernel': 'rbf'} 1.0\n",
      "{'C': 10, 'gamma': 0.0001, 'kernel': 'rbf'} 1.0\n",
      "{'C': 100, 'gamma': 0.001, 'kernel': 'rbf'} 1.0\n",
      "{'C': 100, 'gamma': 0.0001, 'kernel': 'rbf'} 1.0\n",
      "{'C': 1000, 'gamma': 0.001, 'kernel': 'rbf'} 1.0\n",
      "{'C': 1000, 'gamma': 0.0001, 'kernel': 'rbf'} 1.0\n",
      "{'C': 1, 'kernel': 'linear'} 1.0\n",
      "{'C': 10, 'kernel': 'linear'} 1.0\n",
      "{'C': 100, 'kernel': 'linear'} 1.0\n",
      "{'C': 1000, 'kernel': 'linear'} 1.0\n"
     ]
    }
   ],
   "source": [
    "for param, score in zip(clf.cv_results_['params'], clf.cv_results_['mean_test_score']):\n",
    "    print (param, score)"
   ]
  },
  {
   "cell_type": "markdown",
   "metadata": {},
   "source": [
    "## Randomized Search\n",
    "\n",
    "While using a grid of parameter settings is currently the most widely used method for parameter optimization, other search methods have more favourable properties. RandomizedSearchCV implements a randomized search over parameters, where each setting is sampled from a distribution over possible parameter values. This has two main benefits over an exhaustive search:\n",
    "\n",
    "* A budget can be chosen independent of the number of parameters and possible values.\n",
    "* Adding parameters that do not influence the performance does not decrease efficiency.\n",
    "\n",
    "Specifying how parameters should be sampled is done using a dictionary, very similar to specifying parameters for GridSearchCV. Additionally, a computation budget, being the number of sampled candidates or sampling iterations, is specified using the n_iter parameter. For each parameter, either a distribution over possible values or a list of discrete choices (which will be sampled uniformly) can be specified:"
   ]
  },
  {
   "cell_type": "code",
   "execution_count": 20,
   "metadata": {},
   "outputs": [],
   "source": [
    "import scipy\n",
    "\n",
    "params = {'C': scipy.stats.expon(scale=100), 'gamma': scipy.stats.expon(scale=.1),\n",
    "  'kernel': ['rbf'], 'class_weight':['balanced', None]}"
   ]
  },
  {
   "cell_type": "markdown",
   "metadata": {},
   "source": [
    "This example uses the scipy.stats module, which contains many useful distributions for sampling parameters, such as expon, gamma, uniform or randint. In principle, any function can be passed that provides a rvs (random variate sample) method to sample a value. A call to the rvs function should provide independent random samples from possible parameter values on consecutive calls.\n",
    "\n",
    "For continuous parameters, such as C above, it is important to specify a continuous distribution to take full advantage of the randomization. This way, increasing n_iter will always lead to a finer search."
   ]
  },
  {
   "cell_type": "code",
   "execution_count": 21,
   "metadata": {},
   "outputs": [],
   "source": [
    "from sklearn.model_selection import RandomizedSearchCV\n",
    "\n",
    "RandomizedSearchCV?"
   ]
  },
  {
   "cell_type": "code",
   "execution_count": 26,
   "metadata": {},
   "outputs": [
    {
     "data": {
      "text/plain": [
       "RandomizedSearchCV(cv=5, error_score='raise-deprecating',\n",
       "          estimator=SVC(C=1.0, cache_size=200, class_weight=None, coef0=0.0,\n",
       "  decision_function_shape='ovr', degree=3, gamma='auto_deprecated',\n",
       "  kernel='rbf', max_iter=-1, probability=False, random_state=None,\n",
       "  shrinking=True, tol=0.001, verbose=False),\n",
       "          fit_params=None, iid='warn', n_iter=10, n_jobs=None,\n",
       "          param_distributions={'C': <scipy.stats._distn_infrastructure.rv_frozen object at 0x000001FC97879630>, 'gamma': <scipy.stats._distn_infrastructure.rv_frozen object at 0x000001FC977C9A58>, 'kernel': ['rbf'], 'class_weight': ['balanced', None]},\n",
       "          pre_dispatch='2*n_jobs', random_state=None, refit=True,\n",
       "          return_train_score=True, scoring='f1_macro', verbose=0)"
      ]
     },
     "execution_count": 26,
     "metadata": {},
     "output_type": "execute_result"
    }
   ],
   "source": [
    "clf = RandomizedSearchCV(SVC(), params, cv=5,\n",
    "                       scoring='f1_macro',return_train_score=True)\n",
    "clf.fit(X_train, y_train)"
   ]
  },
  {
   "cell_type": "code",
   "execution_count": 27,
   "metadata": {},
   "outputs": [
    {
     "data": {
      "text/plain": [
       "{'C': 29.521455201021624,\n",
       " 'class_weight': 'balanced',\n",
       " 'gamma': 0.005844893556272121,\n",
       " 'kernel': 'rbf'}"
      ]
     },
     "execution_count": 27,
     "metadata": {},
     "output_type": "execute_result"
    }
   ],
   "source": [
    "clf.best_params_\n"
   ]
  },
  {
   "cell_type": "code",
   "execution_count": 28,
   "metadata": {},
   "outputs": [
    {
     "data": {
      "text/plain": [
       "{'mean_fit_time': array([0.31720514, 0.35598521, 0.39676585, 0.37197323, 0.37218461,\n",
       "        0.35359502, 0.33680501, 0.39616671, 0.3733839 , 0.28703012]),\n",
       " 'std_fit_time': array([0.03595438, 0.0245397 , 0.04478803, 0.0556237 , 0.03396507,\n",
       "        0.02771974, 0.00739791, 0.04063448, 0.01904867, 0.00420516]),\n",
       " 'mean_score_time': array([0.06436687, 0.07355895, 0.06976357, 0.07156196, 0.07235742,\n",
       "        0.06995568, 0.06915684, 0.0747602 , 0.08514671, 0.06076837]),\n",
       " 'std_score_time': array([0.00349311, 0.01161485, 0.00074917, 0.0093423 , 0.00631006,\n",
       "        0.00088996, 0.00074953, 0.01062052, 0.01607958, 0.00075367]),\n",
       " 'param_C': masked_array(data=[29.521455201021624, 133.69177605949338,\n",
       "                    137.72484944787288, 177.96181269929065,\n",
       "                    39.295522513261616, 1.9982749496399932,\n",
       "                    19.21677672200269, 31.989824859131183,\n",
       "                    125.14873050617314, 22.773690758662],\n",
       "              mask=[False, False, False, False, False, False, False, False,\n",
       "                    False, False],\n",
       "        fill_value='?',\n",
       "             dtype=object),\n",
       " 'param_class_weight': masked_array(data=['balanced', None, 'balanced', None, 'balanced', None,\n",
       "                    'balanced', 'balanced', None, 'balanced'],\n",
       "              mask=[False, False, False, False, False, False, False, False,\n",
       "                    False, False],\n",
       "        fill_value='?',\n",
       "             dtype=object),\n",
       " 'param_gamma': masked_array(data=[0.005844893556272121, 0.008809671436791733,\n",
       "                    0.12111412390951858, 0.00940237556424927,\n",
       "                    0.038300332404798715, 0.04132502350585016,\n",
       "                    0.038088275127955686, 0.09108964749731219,\n",
       "                    0.4286223834811363, 0.0046805557071199835],\n",
       "              mask=[False, False, False, False, False, False, False, False,\n",
       "                    False, False],\n",
       "        fill_value='?',\n",
       "             dtype=object),\n",
       " 'param_kernel': masked_array(data=['rbf', 'rbf', 'rbf', 'rbf', 'rbf', 'rbf', 'rbf', 'rbf',\n",
       "                    'rbf', 'rbf'],\n",
       "              mask=[False, False, False, False, False, False, False, False,\n",
       "                    False, False],\n",
       "        fill_value='?',\n",
       "             dtype=object),\n",
       " 'params': [{'C': 29.521455201021624,\n",
       "   'class_weight': 'balanced',\n",
       "   'gamma': 0.005844893556272121,\n",
       "   'kernel': 'rbf'},\n",
       "  {'C': 133.69177605949338,\n",
       "   'class_weight': None,\n",
       "   'gamma': 0.008809671436791733,\n",
       "   'kernel': 'rbf'},\n",
       "  {'C': 137.72484944787288,\n",
       "   'class_weight': 'balanced',\n",
       "   'gamma': 0.12111412390951858,\n",
       "   'kernel': 'rbf'},\n",
       "  {'C': 177.96181269929065,\n",
       "   'class_weight': None,\n",
       "   'gamma': 0.00940237556424927,\n",
       "   'kernel': 'rbf'},\n",
       "  {'C': 39.295522513261616,\n",
       "   'class_weight': 'balanced',\n",
       "   'gamma': 0.038300332404798715,\n",
       "   'kernel': 'rbf'},\n",
       "  {'C': 1.9982749496399932,\n",
       "   'class_weight': None,\n",
       "   'gamma': 0.04132502350585016,\n",
       "   'kernel': 'rbf'},\n",
       "  {'C': 19.21677672200269,\n",
       "   'class_weight': 'balanced',\n",
       "   'gamma': 0.038088275127955686,\n",
       "   'kernel': 'rbf'},\n",
       "  {'C': 31.989824859131183,\n",
       "   'class_weight': 'balanced',\n",
       "   'gamma': 0.09108964749731219,\n",
       "   'kernel': 'rbf'},\n",
       "  {'C': 125.14873050617314,\n",
       "   'class_weight': None,\n",
       "   'gamma': 0.4286223834811363,\n",
       "   'kernel': 'rbf'},\n",
       "  {'C': 22.773690758662,\n",
       "   'class_weight': 'balanced',\n",
       "   'gamma': 0.0046805557071199835,\n",
       "   'kernel': 'rbf'}],\n",
       " 'split0_test_score': array([1., 1., 1., 1., 1., 1., 1., 1., 1., 1.]),\n",
       " 'split1_test_score': array([1., 1., 1., 1., 1., 1., 1., 1., 1., 1.]),\n",
       " 'split2_test_score': array([1., 1., 1., 1., 1., 1., 1., 1., 1., 1.]),\n",
       " 'split3_test_score': array([1., 1., 1., 1., 1., 1., 1., 1., 1., 1.]),\n",
       " 'split4_test_score': array([1., 1., 1., 1., 1., 1., 1., 1., 1., 1.]),\n",
       " 'mean_test_score': array([1., 1., 1., 1., 1., 1., 1., 1., 1., 1.]),\n",
       " 'std_test_score': array([0., 0., 0., 0., 0., 0., 0., 0., 0., 0.]),\n",
       " 'rank_test_score': array([1, 1, 1, 1, 1, 1, 1, 1, 1, 1]),\n",
       " 'split0_train_score': array([1., 1., 1., 1., 1., 1., 1., 1., 1., 1.]),\n",
       " 'split1_train_score': array([1., 1., 1., 1., 1., 1., 1., 1., 1., 1.]),\n",
       " 'split2_train_score': array([1., 1., 1., 1., 1., 1., 1., 1., 1., 1.]),\n",
       " 'split3_train_score': array([1., 1., 1., 1., 1., 1., 1., 1., 1., 1.]),\n",
       " 'split4_train_score': array([1., 1., 1., 1., 1., 1., 1., 1., 1., 1.]),\n",
       " 'mean_train_score': array([1., 1., 1., 1., 1., 1., 1., 1., 1., 1.]),\n",
       " 'std_train_score': array([0., 0., 0., 0., 0., 0., 0., 0., 0., 0.])}"
      ]
     },
     "execution_count": 28,
     "metadata": {},
     "output_type": "execute_result"
    }
   ],
   "source": [
    "clf.cv_results_"
   ]
  },
  {
   "cell_type": "code",
   "execution_count": 29,
   "metadata": {
    "scrolled": true
   },
   "outputs": [
    {
     "name": "stdout",
     "output_type": "stream",
     "text": [
      "              precision    recall  f1-score   support\n",
      "\n",
      "           0       1.00      1.00      1.00      6430\n",
      "           1       1.00      1.00      1.00      3472\n",
      "\n",
      "   micro avg       1.00      1.00      1.00      9902\n",
      "   macro avg       1.00      1.00      1.00      9902\n",
      "weighted avg       1.00      1.00      1.00      9902\n",
      "\n"
     ]
    }
   ],
   "source": [
    "y_true, y_pred = y_test, clf.predict(X_test)\n",
    "print (classification_report(y_true, y_pred))"
   ]
  },
  {
   "cell_type": "code",
   "execution_count": 30,
   "metadata": {},
   "outputs": [
    {
     "name": "stdout",
     "output_type": "stream",
     "text": [
      "{'C': 29.521455201021624, 'class_weight': 'balanced', 'gamma': 0.005844893556272121, 'kernel': 'rbf'} 1.0\n",
      "{'C': 133.69177605949338, 'class_weight': None, 'gamma': 0.008809671436791733, 'kernel': 'rbf'} 1.0\n",
      "{'C': 137.72484944787288, 'class_weight': 'balanced', 'gamma': 0.12111412390951858, 'kernel': 'rbf'} 1.0\n",
      "{'C': 177.96181269929065, 'class_weight': None, 'gamma': 0.00940237556424927, 'kernel': 'rbf'} 1.0\n",
      "{'C': 39.295522513261616, 'class_weight': 'balanced', 'gamma': 0.038300332404798715, 'kernel': 'rbf'} 1.0\n",
      "{'C': 1.9982749496399932, 'class_weight': None, 'gamma': 0.04132502350585016, 'kernel': 'rbf'} 1.0\n",
      "{'C': 19.21677672200269, 'class_weight': 'balanced', 'gamma': 0.038088275127955686, 'kernel': 'rbf'} 1.0\n",
      "{'C': 31.989824859131183, 'class_weight': 'balanced', 'gamma': 0.09108964749731219, 'kernel': 'rbf'} 1.0\n",
      "{'C': 125.14873050617314, 'class_weight': None, 'gamma': 0.4286223834811363, 'kernel': 'rbf'} 1.0\n",
      "{'C': 22.773690758662, 'class_weight': 'balanced', 'gamma': 0.0046805557071199835, 'kernel': 'rbf'} 1.0\n"
     ]
    }
   ],
   "source": [
    "for param, score in zip(clf.cv_results_['params'], clf.cv_results_['mean_test_score']):\n",
    "    print (param, score)"
   ]
  },
  {
   "cell_type": "markdown",
   "metadata": {},
   "source": [
    "Don't forget the old _CV classes that are faster than gridsearch! And also don't forget about OOB error that can be a great proxy"
   ]
  },
  {
   "cell_type": "code",
   "execution_count": 31,
   "metadata": {},
   "outputs": [
    {
     "name": "stdout",
     "output_type": "stream",
     "text": [
      "<class 'pandas.core.frame.DataFrame'>\n",
      "RangeIndex: 19803 entries, 0 to 19802\n",
      "Data columns (total 14 columns):\n",
      "online_order             19803 non-null int64\n",
      "order_status             19803 non-null int64\n",
      "list_price               19803 non-null float64\n",
      "standard_cost            19803 non-null float64\n",
      "gross_profit             19803 non-null float64\n",
      "margin_percentage        19803 non-null float64\n",
      "markup_percentage        19803 non-null float64\n",
      "product_class_label_1    19803 non-null int64\n",
      "product_class_label_2    19803 non-null int64\n",
      "product_class_label_3    19803 non-null int64\n",
      "product_size_label_1     19803 non-null int64\n",
      "product_size_label_2     19803 non-null int64\n",
      "product_size_label_3     19803 non-null int64\n",
      "high_profit_product      19803 non-null int64\n",
      "dtypes: float64(5), int64(9)\n",
      "memory usage: 2.1 MB\n"
     ]
    }
   ],
   "source": [
    "df.info()"
   ]
  },
  {
   "cell_type": "code",
   "execution_count": null,
   "metadata": {},
   "outputs": [],
   "source": []
  }
 ],
 "metadata": {
  "kernelspec": {
   "display_name": "Python 3",
   "language": "python",
   "name": "python3"
  },
  "language_info": {
   "codemirror_mode": {
    "name": "ipython",
    "version": 3
   },
   "file_extension": ".py",
   "mimetype": "text/x-python",
   "name": "python",
   "nbconvert_exporter": "python",
   "pygments_lexer": "ipython3",
   "version": "3.7.3"
  }
 },
 "nbformat": 4,
 "nbformat_minor": 2
}
