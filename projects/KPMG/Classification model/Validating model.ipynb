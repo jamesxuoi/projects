{
 "cells": [
  {
   "cell_type": "markdown",
   "metadata": {},
   "source": [
    "# Model Fitting: Classification"
   ]
  },
  {
   "cell_type": "code",
   "execution_count": 16,
   "metadata": {},
   "outputs": [],
   "source": [
    "%matplotlib inline\n",
    "\n",
    "# Import Libraries\n",
    "import seaborn as sns\n",
    "import pandas as pd\n",
    "import numpy as np\n",
    "import matplotlib.pyplot as plt\n",
    "\n",
    "from sklearn.model_selection import KFold, GridSearchCV, train_test_split, cross_val_score\n",
    "from sklearn.metrics import accuracy_score, classification_report, confusion_matrix\n",
    "from sklearn.linear_model import LogisticRegression\n",
    "from sklearn.tree import DecisionTreeClassifier\n",
    "from sklearn.neighbors import KNeighborsClassifier\n",
    "from sklearn.discriminant_analysis import LinearDiscriminantAnalysis\n",
    "from sklearn.naive_bayes import GaussianNB\n",
    "from sklearn.svm import SVC\n",
    "from sklearn.neural_network import MLPClassifier\n",
    "from sklearn.ensemble import RandomForestClassifier"
   ]
  },
  {
   "cell_type": "code",
   "execution_count": 17,
   "metadata": {},
   "outputs": [
    {
     "data": {
      "text/html": [
       "<div>\n",
       "<style scoped>\n",
       "    .dataframe tbody tr th:only-of-type {\n",
       "        vertical-align: middle;\n",
       "    }\n",
       "\n",
       "    .dataframe tbody tr th {\n",
       "        vertical-align: top;\n",
       "    }\n",
       "\n",
       "    .dataframe thead th {\n",
       "        text-align: right;\n",
       "    }\n",
       "</style>\n",
       "<table border=\"1\" class=\"dataframe\">\n",
       "  <thead>\n",
       "    <tr style=\"text-align: right;\">\n",
       "      <th></th>\n",
       "      <th>online_order</th>\n",
       "      <th>order_status</th>\n",
       "      <th>list_price</th>\n",
       "      <th>standard_cost</th>\n",
       "      <th>gross_profit</th>\n",
       "      <th>margin_percentage</th>\n",
       "      <th>markup_percentage</th>\n",
       "      <th>product_class_label_1</th>\n",
       "      <th>product_class_label_2</th>\n",
       "      <th>product_class_label_3</th>\n",
       "      <th>product_size_label_1</th>\n",
       "      <th>product_size_label_2</th>\n",
       "      <th>product_size_label_3</th>\n",
       "      <th>high_profit_product</th>\n",
       "    </tr>\n",
       "  </thead>\n",
       "  <tbody>\n",
       "    <tr>\n",
       "      <th>0</th>\n",
       "      <td>0</td>\n",
       "      <td>1</td>\n",
       "      <td>71.49</td>\n",
       "      <td>53.62</td>\n",
       "      <td>17.87</td>\n",
       "      <td>25.00</td>\n",
       "      <td>33.33</td>\n",
       "      <td>0</td>\n",
       "      <td>1</td>\n",
       "      <td>0</td>\n",
       "      <td>0</td>\n",
       "      <td>1</td>\n",
       "      <td>0</td>\n",
       "      <td>0</td>\n",
       "    </tr>\n",
       "    <tr>\n",
       "      <th>1</th>\n",
       "      <td>1</td>\n",
       "      <td>1</td>\n",
       "      <td>2091.47</td>\n",
       "      <td>388.92</td>\n",
       "      <td>1702.55</td>\n",
       "      <td>81.40</td>\n",
       "      <td>437.76</td>\n",
       "      <td>0</td>\n",
       "      <td>1</td>\n",
       "      <td>0</td>\n",
       "      <td>0</td>\n",
       "      <td>0</td>\n",
       "      <td>1</td>\n",
       "      <td>1</td>\n",
       "    </tr>\n",
       "    <tr>\n",
       "      <th>2</th>\n",
       "      <td>0</td>\n",
       "      <td>1</td>\n",
       "      <td>1793.43</td>\n",
       "      <td>248.82</td>\n",
       "      <td>1544.61</td>\n",
       "      <td>86.13</td>\n",
       "      <td>620.77</td>\n",
       "      <td>1</td>\n",
       "      <td>0</td>\n",
       "      <td>0</td>\n",
       "      <td>0</td>\n",
       "      <td>1</td>\n",
       "      <td>0</td>\n",
       "      <td>1</td>\n",
       "    </tr>\n",
       "    <tr>\n",
       "      <th>3</th>\n",
       "      <td>0</td>\n",
       "      <td>1</td>\n",
       "      <td>1198.46</td>\n",
       "      <td>381.10</td>\n",
       "      <td>817.36</td>\n",
       "      <td>68.20</td>\n",
       "      <td>214.47</td>\n",
       "      <td>0</td>\n",
       "      <td>1</td>\n",
       "      <td>0</td>\n",
       "      <td>0</td>\n",
       "      <td>1</td>\n",
       "      <td>0</td>\n",
       "      <td>1</td>\n",
       "    </tr>\n",
       "    <tr>\n",
       "      <th>4</th>\n",
       "      <td>1</td>\n",
       "      <td>1</td>\n",
       "      <td>1765.30</td>\n",
       "      <td>709.48</td>\n",
       "      <td>1055.82</td>\n",
       "      <td>59.81</td>\n",
       "      <td>148.82</td>\n",
       "      <td>0</td>\n",
       "      <td>1</td>\n",
       "      <td>0</td>\n",
       "      <td>0</td>\n",
       "      <td>0</td>\n",
       "      <td>1</td>\n",
       "      <td>1</td>\n",
       "    </tr>\n",
       "  </tbody>\n",
       "</table>\n",
       "</div>"
      ],
      "text/plain": [
       "   online_order  order_status  list_price  standard_cost  gross_profit  \\\n",
       "0             0             1       71.49          53.62         17.87   \n",
       "1             1             1     2091.47         388.92       1702.55   \n",
       "2             0             1     1793.43         248.82       1544.61   \n",
       "3             0             1     1198.46         381.10        817.36   \n",
       "4             1             1     1765.30         709.48       1055.82   \n",
       "\n",
       "   margin_percentage  markup_percentage  product_class_label_1  \\\n",
       "0              25.00              33.33                      0   \n",
       "1              81.40             437.76                      0   \n",
       "2              86.13             620.77                      1   \n",
       "3              68.20             214.47                      0   \n",
       "4              59.81             148.82                      0   \n",
       "\n",
       "   product_class_label_2  product_class_label_3  product_size_label_1  \\\n",
       "0                      1                      0                     0   \n",
       "1                      1                      0                     0   \n",
       "2                      0                      0                     0   \n",
       "3                      1                      0                     0   \n",
       "4                      1                      0                     0   \n",
       "\n",
       "   product_size_label_2  product_size_label_3  high_profit_product  \n",
       "0                     1                     0                    0  \n",
       "1                     0                     1                    1  \n",
       "2                     1                     0                    1  \n",
       "3                     1                     0                    1  \n",
       "4                     0                     1                    1  "
      ]
     },
     "execution_count": 17,
     "metadata": {},
     "output_type": "execute_result"
    }
   ],
   "source": [
    "df = pd.read_csv('Bike_train_test.csv')\n",
    "df.head()"
   ]
  },
  {
   "cell_type": "code",
   "execution_count": 27,
   "metadata": {},
   "outputs": [
    {
     "data": {
      "text/html": [
       "<div>\n",
       "<style scoped>\n",
       "    .dataframe tbody tr th:only-of-type {\n",
       "        vertical-align: middle;\n",
       "    }\n",
       "\n",
       "    .dataframe tbody tr th {\n",
       "        vertical-align: top;\n",
       "    }\n",
       "\n",
       "    .dataframe thead th {\n",
       "        text-align: right;\n",
       "    }\n",
       "</style>\n",
       "<table border=\"1\" class=\"dataframe\">\n",
       "  <thead>\n",
       "    <tr style=\"text-align: right;\">\n",
       "      <th></th>\n",
       "      <th>online_order</th>\n",
       "      <th>order_status</th>\n",
       "      <th>list_price</th>\n",
       "      <th>standard_cost</th>\n",
       "      <th>gross_profit</th>\n",
       "      <th>margin_percentage</th>\n",
       "      <th>markup_percentage</th>\n",
       "      <th>product_class_label_1</th>\n",
       "      <th>product_class_label_2</th>\n",
       "      <th>product_class_label_3</th>\n",
       "      <th>product_size_label_1</th>\n",
       "      <th>product_size_label_2</th>\n",
       "      <th>product_size_label_3</th>\n",
       "      <th>high_profit_product</th>\n",
       "    </tr>\n",
       "  </thead>\n",
       "  <tbody>\n",
       "    <tr>\n",
       "      <th>0</th>\n",
       "      <td>0</td>\n",
       "      <td>1</td>\n",
       "      <td>71.49</td>\n",
       "      <td>53.62</td>\n",
       "      <td>17.87</td>\n",
       "      <td>25.00</td>\n",
       "      <td>33.33</td>\n",
       "      <td>0</td>\n",
       "      <td>1</td>\n",
       "      <td>0</td>\n",
       "      <td>0</td>\n",
       "      <td>1</td>\n",
       "      <td>0</td>\n",
       "      <td>0</td>\n",
       "    </tr>\n",
       "    <tr>\n",
       "      <th>1</th>\n",
       "      <td>1</td>\n",
       "      <td>1</td>\n",
       "      <td>2091.47</td>\n",
       "      <td>388.92</td>\n",
       "      <td>1702.55</td>\n",
       "      <td>81.40</td>\n",
       "      <td>437.76</td>\n",
       "      <td>0</td>\n",
       "      <td>1</td>\n",
       "      <td>0</td>\n",
       "      <td>0</td>\n",
       "      <td>0</td>\n",
       "      <td>1</td>\n",
       "      <td>1</td>\n",
       "    </tr>\n",
       "    <tr>\n",
       "      <th>2</th>\n",
       "      <td>0</td>\n",
       "      <td>1</td>\n",
       "      <td>1793.43</td>\n",
       "      <td>248.82</td>\n",
       "      <td>1544.61</td>\n",
       "      <td>86.13</td>\n",
       "      <td>620.77</td>\n",
       "      <td>1</td>\n",
       "      <td>0</td>\n",
       "      <td>0</td>\n",
       "      <td>0</td>\n",
       "      <td>1</td>\n",
       "      <td>0</td>\n",
       "      <td>1</td>\n",
       "    </tr>\n",
       "    <tr>\n",
       "      <th>3</th>\n",
       "      <td>0</td>\n",
       "      <td>1</td>\n",
       "      <td>1198.46</td>\n",
       "      <td>381.10</td>\n",
       "      <td>817.36</td>\n",
       "      <td>68.20</td>\n",
       "      <td>214.47</td>\n",
       "      <td>0</td>\n",
       "      <td>1</td>\n",
       "      <td>0</td>\n",
       "      <td>0</td>\n",
       "      <td>1</td>\n",
       "      <td>0</td>\n",
       "      <td>1</td>\n",
       "    </tr>\n",
       "    <tr>\n",
       "      <th>4</th>\n",
       "      <td>1</td>\n",
       "      <td>1</td>\n",
       "      <td>1765.30</td>\n",
       "      <td>709.48</td>\n",
       "      <td>1055.82</td>\n",
       "      <td>59.81</td>\n",
       "      <td>148.82</td>\n",
       "      <td>0</td>\n",
       "      <td>1</td>\n",
       "      <td>0</td>\n",
       "      <td>0</td>\n",
       "      <td>0</td>\n",
       "      <td>1</td>\n",
       "      <td>1</td>\n",
       "    </tr>\n",
       "  </tbody>\n",
       "</table>\n",
       "</div>"
      ],
      "text/plain": [
       "   online_order  order_status  list_price  standard_cost  gross_profit  \\\n",
       "0             0             1       71.49          53.62         17.87   \n",
       "1             1             1     2091.47         388.92       1702.55   \n",
       "2             0             1     1793.43         248.82       1544.61   \n",
       "3             0             1     1198.46         381.10        817.36   \n",
       "4             1             1     1765.30         709.48       1055.82   \n",
       "\n",
       "   margin_percentage  markup_percentage  product_class_label_1  \\\n",
       "0              25.00              33.33                      0   \n",
       "1              81.40             437.76                      0   \n",
       "2              86.13             620.77                      1   \n",
       "3              68.20             214.47                      0   \n",
       "4              59.81             148.82                      0   \n",
       "\n",
       "   product_class_label_2  product_class_label_3  product_size_label_1  \\\n",
       "0                      1                      0                     0   \n",
       "1                      1                      0                     0   \n",
       "2                      0                      0                     0   \n",
       "3                      1                      0                     0   \n",
       "4                      1                      0                     0   \n",
       "\n",
       "   product_size_label_2  product_size_label_3  high_profit_product  \n",
       "0                     1                     0                    0  \n",
       "1                     0                     1                    1  \n",
       "2                     1                     0                    1  \n",
       "3                     1                     0                    1  \n",
       "4                     0                     1                    1  "
      ]
     },
     "execution_count": 27,
     "metadata": {},
     "output_type": "execute_result"
    }
   ],
   "source": [
    "df.head()"
   ]
  },
  {
   "cell_type": "code",
   "execution_count": 19,
   "metadata": {},
   "outputs": [],
   "source": [
    "X = df.drop(['high_profit_product'], axis=1)\n",
    "y = df['high_profit_product']"
   ]
  },
  {
   "cell_type": "code",
   "execution_count": 20,
   "metadata": {},
   "outputs": [
    {
     "data": {
      "text/plain": [
       "0    0\n",
       "1    1\n",
       "2    1\n",
       "3    1\n",
       "4    1\n",
       "Name: high_profit_product, dtype: int64"
      ]
     },
     "execution_count": 20,
     "metadata": {},
     "output_type": "execute_result"
    }
   ],
   "source": [
    "y.head()"
   ]
  },
  {
   "cell_type": "code",
   "execution_count": 21,
   "metadata": {},
   "outputs": [],
   "source": [
    "# Split-out validation dataset\n",
    "validation_size = 0.20\n",
    "seed = 42\n",
    "X_train, X_test, y_train, y_test = train_test_split(X, y, test_size=validation_size, random_state=seed)"
   ]
  },
  {
   "cell_type": "code",
   "execution_count": 22,
   "metadata": {},
   "outputs": [
    {
     "name": "stdout",
     "output_type": "stream",
     "text": [
      "LR: 1.000000 (1.000000)\n",
      "KNN: 1.000000 (1.000000)\n",
      "CART: 1.000000 (1.000000)\n",
      "NB: 0.960548 (0.953552)\n",
      "SVM: 1.000000 (1.000000)\n",
      "RandomForest: 1.000000 (1.000000)\n",
      "neural_network: 1.000000 (1.000000)\n"
     ]
    }
   ],
   "source": [
    "# Spot Check Algorithms\n",
    "models = []\n",
    "models.append(('LR', LogisticRegression(solver='liblinear', multi_class='ovr')))\n",
    "#models.append(('LDA', LinearDiscriminantAnalysis()))\n",
    "models.append(('KNN', KNeighborsClassifier()))\n",
    "models.append(('CART', DecisionTreeClassifier()))\n",
    "models.append(('NB', GaussianNB()))\n",
    "models.append(('SVM', SVC(gamma='auto')))\n",
    "models.append(('RandomForest', RandomForestClassifier(n_estimators=100)))\n",
    "models.append(('neural_network', MLPClassifier()))\n",
    "# evaluate each model in turn\n",
    "training_results = []\n",
    "testing_results = []\n",
    "names = []\n",
    "for name, model in models:\n",
    "    kfold = KFold(n_splits=10, random_state=42)\n",
    "    train_results = cross_val_score(model, X_train, y_train, cv=kfold, scoring='accuracy')\n",
    "    test_results = cross_val_score(model, X_test, y_test, cv=kfold, scoring='accuracy')\n",
    "    training_results.append(train_results)\n",
    "    testing_results.append(test_results)\n",
    "    names.append(name)\n",
    "    msg = \"%s: %f (%f)\" % (name, train_results.mean(),test_results.mean() )\n",
    "    print(msg)"
   ]
  },
  {
   "cell_type": "markdown",
   "metadata": {},
   "source": [
    "### Fitting LR model and adding Regularization"
   ]
  },
  {
   "cell_type": "code",
   "execution_count": 23,
   "metadata": {},
   "outputs": [],
   "source": [
    "X_train, X_test, y_train, y_test = train_test_split(X, y, test_size=0.2, random_state=1)"
   ]
  },
  {
   "cell_type": "code",
   "execution_count": 24,
   "metadata": {},
   "outputs": [
    {
     "name": "stdout",
     "output_type": "stream",
     "text": [
      "accuracy = 1.0000\n",
      "accuracy = 1.0000\n"
     ]
    }
   ],
   "source": [
    "logreg = LogisticRegression(solver='lbfgs', max_iter = 200, penalty=\"l2\", C=100)\n",
    "logreg.fit(X_train, y_train)\n",
    "y_pred_class = logreg.predict(X_train)\n",
    "y_pred_class1 = logreg.predict(X_test)\n",
    "print('accuracy = %.4f' % accuracy_score(y_test, y_pred_class1))\n",
    "print('accuracy = %.4f' % accuracy_score(y_train, y_pred_class))"
   ]
  },
  {
   "cell_type": "code",
   "execution_count": 25,
   "metadata": {},
   "outputs": [
    {
     "data": {
      "text/plain": [
       "array([[-5.94849269e-03, -7.75841485e-03,  2.27714626e-02,\n",
       "        -6.71548643e-01,  6.94320106e-01, -1.74703703e-01,\n",
       "        -8.27515510e-02, -2.74272864e-05,  7.96347409e-03,\n",
       "        -1.53250427e-02, -1.02940574e-05,  7.88135621e-03,\n",
       "        -1.52600581e-02]])"
      ]
     },
     "execution_count": 25,
     "metadata": {},
     "output_type": "execute_result"
    }
   ],
   "source": [
    "#online_order\torder_status\tlist_price\tstandard_cost\tgross_profit\t\n",
    "#margin_percentage\tmarkup_percentage\tproduct_class_label_1\tproduct_class_label_2\t\n",
    "#product_class_label_3\tproduct_size_label_1\tproduct_size_label_2\tproduct_size_label_3\n",
    "logreg.coef_"
   ]
  },
  {
   "cell_type": "code",
   "execution_count": 32,
   "metadata": {},
   "outputs": [
    {
     "data": {
      "text/plain": [
       "count    19803.000000\n",
       "mean         0.347776\n",
       "std          0.476276\n",
       "min          0.000000\n",
       "25%          0.000000\n",
       "50%          0.000000\n",
       "75%          1.000000\n",
       "max          1.000000\n",
       "Name: high_profit_product, dtype: float64"
      ]
     },
     "execution_count": 32,
     "metadata": {},
     "output_type": "execute_result"
    }
   ],
   "source": [
    "df.high_profit_product.describe()"
   ]
  },
  {
   "cell_type": "code",
   "execution_count": null,
   "metadata": {},
   "outputs": [],
   "source": []
  }
 ],
 "metadata": {
  "kernelspec": {
   "display_name": "Python 3",
   "language": "python",
   "name": "python3"
  },
  "language_info": {
   "codemirror_mode": {
    "name": "ipython",
    "version": 3
   },
   "file_extension": ".py",
   "mimetype": "text/x-python",
   "name": "python",
   "nbconvert_exporter": "python",
   "pygments_lexer": "ipython3",
   "version": "3.7.3"
  }
 },
 "nbformat": 4,
 "nbformat_minor": 2
}
